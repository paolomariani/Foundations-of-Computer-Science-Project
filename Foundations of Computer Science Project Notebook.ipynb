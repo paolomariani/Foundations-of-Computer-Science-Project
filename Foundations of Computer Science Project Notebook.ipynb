{
 "cells": [
  {
   "cell_type": "markdown",
   "metadata": {},
   "source": [
    "# Foundations of Computer Science Project\n",
    "### Kiva Dataset\n",
    "Paolo Mariani\n",
    "<br>Matricola 800307"
   ]
  },
  {
   "cell_type": "markdown",
   "metadata": {},
   "source": [
    "#### Import all required libraries"
   ]
  },
  {
   "cell_type": "code",
   "execution_count": 235,
   "metadata": {},
   "outputs": [],
   "source": [
    "import pandas as pd\n",
    "import re\n",
    "import datetime as dt\n",
    "import math\n",
    "import seaborn as sns\n",
    "from matplotlib import pyplot as plt\n",
    "import numpy as np\n",
    "import random"
   ]
  },
  {
   "cell_type": "markdown",
   "metadata": {},
   "source": [
    "To get repeatability of the values obtained in this project with the random function (used later) a seed is set:"
   ]
  },
  {
   "cell_type": "code",
   "execution_count": 236,
   "metadata": {},
   "outputs": [],
   "source": [
    "random.seed(2020)"
   ]
  },
  {
   "cell_type": "markdown",
   "metadata": {},
   "source": [
    "#### Import all required Datasets"
   ]
  },
  {
   "cell_type": "code",
   "execution_count": 237,
   "metadata": {},
   "outputs": [
    {
     "data": {
      "text/html": [
       "<div>\n",
       "<style scoped>\n",
       "    .dataframe tbody tr th:only-of-type {\n",
       "        vertical-align: middle;\n",
       "    }\n",
       "\n",
       "    .dataframe tbody tr th {\n",
       "        vertical-align: top;\n",
       "    }\n",
       "\n",
       "    .dataframe thead th {\n",
       "        text-align: right;\n",
       "    }\n",
       "</style>\n",
       "<table border=\"1\" class=\"dataframe\">\n",
       "  <thead>\n",
       "    <tr style=\"text-align: right;\">\n",
       "      <th></th>\n",
       "      <th>loan_id</th>\n",
       "      <th>lenders</th>\n",
       "    </tr>\n",
       "  </thead>\n",
       "  <tbody>\n",
       "    <tr>\n",
       "      <th>0</th>\n",
       "      <td>483693</td>\n",
       "      <td>muc888, sam4326, camaran3922, lachheb1865, reb...</td>\n",
       "    </tr>\n",
       "    <tr>\n",
       "      <th>1</th>\n",
       "      <td>483738</td>\n",
       "      <td>muc888, nora3555, williammanashi, barbara5610,...</td>\n",
       "    </tr>\n",
       "    <tr>\n",
       "      <th>2</th>\n",
       "      <td>485000</td>\n",
       "      <td>muc888, terrystl, richardandsusan8352, sherri4...</td>\n",
       "    </tr>\n",
       "    <tr>\n",
       "      <th>3</th>\n",
       "      <td>486087</td>\n",
       "      <td>muc888, james5068, rudi5955, daniel9859, don92...</td>\n",
       "    </tr>\n",
       "    <tr>\n",
       "      <th>4</th>\n",
       "      <td>534428</td>\n",
       "      <td>muc888, niki3008, teresa9174, mike4896, david7...</td>\n",
       "    </tr>\n",
       "  </tbody>\n",
       "</table>\n",
       "</div>"
      ],
      "text/plain": [
       "   loan_id                                            lenders\n",
       "0   483693  muc888, sam4326, camaran3922, lachheb1865, reb...\n",
       "1   483738  muc888, nora3555, williammanashi, barbara5610,...\n",
       "2   485000  muc888, terrystl, richardandsusan8352, sherri4...\n",
       "3   486087  muc888, james5068, rudi5955, daniel9859, don92...\n",
       "4   534428  muc888, niki3008, teresa9174, mike4896, david7..."
      ]
     },
     "execution_count": 237,
     "metadata": {},
     "output_type": "execute_result"
    }
   ],
   "source": [
    "loan_lenders = pd.read_csv(\"kiva/loans_lenders.csv\")\n",
    "loan_lenders.head()"
   ]
  },
  {
   "cell_type": "code",
   "execution_count": 238,
   "metadata": {},
   "outputs": [
    {
     "data": {
      "text/html": [
       "<div>\n",
       "<style scoped>\n",
       "    .dataframe tbody tr th:only-of-type {\n",
       "        vertical-align: middle;\n",
       "    }\n",
       "\n",
       "    .dataframe tbody tr th {\n",
       "        vertical-align: top;\n",
       "    }\n",
       "\n",
       "    .dataframe thead th {\n",
       "        text-align: right;\n",
       "    }\n",
       "</style>\n",
       "<table border=\"1\" class=\"dataframe\">\n",
       "  <thead>\n",
       "    <tr style=\"text-align: right;\">\n",
       "      <th></th>\n",
       "      <th>loan_id</th>\n",
       "      <th>loan_name</th>\n",
       "      <th>original_language</th>\n",
       "      <th>description</th>\n",
       "      <th>description_translated</th>\n",
       "      <th>funded_amount</th>\n",
       "      <th>loan_amount</th>\n",
       "      <th>status</th>\n",
       "      <th>activity_name</th>\n",
       "      <th>sector_name</th>\n",
       "      <th>...</th>\n",
       "      <th>raised_time</th>\n",
       "      <th>lender_term</th>\n",
       "      <th>num_lenders_total</th>\n",
       "      <th>num_journal_entries</th>\n",
       "      <th>num_bulk_entries</th>\n",
       "      <th>tags</th>\n",
       "      <th>borrower_genders</th>\n",
       "      <th>borrower_pictured</th>\n",
       "      <th>repayment_interval</th>\n",
       "      <th>distribution_model</th>\n",
       "    </tr>\n",
       "  </thead>\n",
       "  <tbody>\n",
       "    <tr>\n",
       "      <th>0</th>\n",
       "      <td>657307</td>\n",
       "      <td>Aivy</td>\n",
       "      <td>English</td>\n",
       "      <td>Aivy, 21 years of age, is single and lives in ...</td>\n",
       "      <td>NaN</td>\n",
       "      <td>125.0</td>\n",
       "      <td>125.0</td>\n",
       "      <td>funded</td>\n",
       "      <td>General Store</td>\n",
       "      <td>Retail</td>\n",
       "      <td>...</td>\n",
       "      <td>2014-01-15 04:48:22.000 +0000</td>\n",
       "      <td>7.0</td>\n",
       "      <td>3</td>\n",
       "      <td>2</td>\n",
       "      <td>1</td>\n",
       "      <td>NaN</td>\n",
       "      <td>female</td>\n",
       "      <td>true</td>\n",
       "      <td>irregular</td>\n",
       "      <td>field_partner</td>\n",
       "    </tr>\n",
       "    <tr>\n",
       "      <th>1</th>\n",
       "      <td>657259</td>\n",
       "      <td>Idalia Marizza</td>\n",
       "      <td>Spanish</td>\n",
       "      <td>Doña Idalia, esta casada, tiene 57 años de eda...</td>\n",
       "      <td>Idalia, 57, is married and lives with her husb...</td>\n",
       "      <td>400.0</td>\n",
       "      <td>400.0</td>\n",
       "      <td>funded</td>\n",
       "      <td>Used Clothing</td>\n",
       "      <td>Clothing</td>\n",
       "      <td>...</td>\n",
       "      <td>2014-02-25 06:42:06.000 +0000</td>\n",
       "      <td>8.0</td>\n",
       "      <td>11</td>\n",
       "      <td>2</td>\n",
       "      <td>1</td>\n",
       "      <td>NaN</td>\n",
       "      <td>female</td>\n",
       "      <td>true</td>\n",
       "      <td>monthly</td>\n",
       "      <td>field_partner</td>\n",
       "    </tr>\n",
       "    <tr>\n",
       "      <th>2</th>\n",
       "      <td>658010</td>\n",
       "      <td>Aasia</td>\n",
       "      <td>English</td>\n",
       "      <td>Aasia is a 45-year-old married lady and she ha...</td>\n",
       "      <td>NaN</td>\n",
       "      <td>400.0</td>\n",
       "      <td>400.0</td>\n",
       "      <td>funded</td>\n",
       "      <td>General Store</td>\n",
       "      <td>Retail</td>\n",
       "      <td>...</td>\n",
       "      <td>2014-01-24 23:06:18.000 +0000</td>\n",
       "      <td>14.0</td>\n",
       "      <td>16</td>\n",
       "      <td>2</td>\n",
       "      <td>1</td>\n",
       "      <td>#Woman Owned Biz, #Supporting Family, user_fav...</td>\n",
       "      <td>female</td>\n",
       "      <td>true</td>\n",
       "      <td>monthly</td>\n",
       "      <td>field_partner</td>\n",
       "    </tr>\n",
       "    <tr>\n",
       "      <th>3</th>\n",
       "      <td>659347</td>\n",
       "      <td>Gulmira</td>\n",
       "      <td>Russian</td>\n",
       "      <td>Гулмире 36 лет, замужем, вместе с супругом вос...</td>\n",
       "      <td>Gulmira is 36 years old and married.  She and ...</td>\n",
       "      <td>625.0</td>\n",
       "      <td>625.0</td>\n",
       "      <td>funded</td>\n",
       "      <td>Farming</td>\n",
       "      <td>Agriculture</td>\n",
       "      <td>...</td>\n",
       "      <td>2014-01-22 05:29:28.000 +0000</td>\n",
       "      <td>14.0</td>\n",
       "      <td>21</td>\n",
       "      <td>2</td>\n",
       "      <td>1</td>\n",
       "      <td>user_favorite</td>\n",
       "      <td>female</td>\n",
       "      <td>true</td>\n",
       "      <td>monthly</td>\n",
       "      <td>field_partner</td>\n",
       "    </tr>\n",
       "    <tr>\n",
       "      <th>4</th>\n",
       "      <td>656933</td>\n",
       "      <td>Ricky\\t</td>\n",
       "      <td>English</td>\n",
       "      <td>Ricky is a farmer who currently cultivates his...</td>\n",
       "      <td>NaN</td>\n",
       "      <td>425.0</td>\n",
       "      <td>425.0</td>\n",
       "      <td>funded</td>\n",
       "      <td>Farming</td>\n",
       "      <td>Agriculture</td>\n",
       "      <td>...</td>\n",
       "      <td>2014-01-14 17:29:27.000 +0000</td>\n",
       "      <td>7.0</td>\n",
       "      <td>15</td>\n",
       "      <td>2</td>\n",
       "      <td>1</td>\n",
       "      <td>#Animals, #Eco-friendly, #Sustainable Ag</td>\n",
       "      <td>male</td>\n",
       "      <td>true</td>\n",
       "      <td>bullet</td>\n",
       "      <td>field_partner</td>\n",
       "    </tr>\n",
       "  </tbody>\n",
       "</table>\n",
       "<p>5 rows × 31 columns</p>\n",
       "</div>"
      ],
      "text/plain": [
       "   loan_id       loan_name original_language  \\\n",
       "0   657307            Aivy           English   \n",
       "1   657259  Idalia Marizza           Spanish   \n",
       "2   658010           Aasia           English   \n",
       "3   659347         Gulmira           Russian   \n",
       "4   656933         Ricky\\t           English   \n",
       "\n",
       "                                         description  \\\n",
       "0  Aivy, 21 years of age, is single and lives in ...   \n",
       "1  Doña Idalia, esta casada, tiene 57 años de eda...   \n",
       "2  Aasia is a 45-year-old married lady and she ha...   \n",
       "3  Гулмире 36 лет, замужем, вместе с супругом вос...   \n",
       "4  Ricky is a farmer who currently cultivates his...   \n",
       "\n",
       "                              description_translated  funded_amount  \\\n",
       "0                                                NaN          125.0   \n",
       "1  Idalia, 57, is married and lives with her husb...          400.0   \n",
       "2                                                NaN          400.0   \n",
       "3  Gulmira is 36 years old and married.  She and ...          625.0   \n",
       "4                                                NaN          425.0   \n",
       "\n",
       "   loan_amount  status  activity_name  sector_name  ...  \\\n",
       "0        125.0  funded  General Store       Retail  ...   \n",
       "1        400.0  funded  Used Clothing     Clothing  ...   \n",
       "2        400.0  funded  General Store       Retail  ...   \n",
       "3        625.0  funded        Farming  Agriculture  ...   \n",
       "4        425.0  funded        Farming  Agriculture  ...   \n",
       "\n",
       "                     raised_time lender_term num_lenders_total  \\\n",
       "0  2014-01-15 04:48:22.000 +0000         7.0                 3   \n",
       "1  2014-02-25 06:42:06.000 +0000         8.0                11   \n",
       "2  2014-01-24 23:06:18.000 +0000        14.0                16   \n",
       "3  2014-01-22 05:29:28.000 +0000        14.0                21   \n",
       "4  2014-01-14 17:29:27.000 +0000         7.0                15   \n",
       "\n",
       "  num_journal_entries num_bulk_entries  \\\n",
       "0                   2                1   \n",
       "1                   2                1   \n",
       "2                   2                1   \n",
       "3                   2                1   \n",
       "4                   2                1   \n",
       "\n",
       "                                                tags borrower_genders  \\\n",
       "0                                                NaN           female   \n",
       "1                                                NaN           female   \n",
       "2  #Woman Owned Biz, #Supporting Family, user_fav...           female   \n",
       "3                                      user_favorite           female   \n",
       "4           #Animals, #Eco-friendly, #Sustainable Ag             male   \n",
       "\n",
       "   borrower_pictured repayment_interval distribution_model  \n",
       "0               true          irregular      field_partner  \n",
       "1               true            monthly      field_partner  \n",
       "2               true            monthly      field_partner  \n",
       "3               true            monthly      field_partner  \n",
       "4               true             bullet      field_partner  \n",
       "\n",
       "[5 rows x 31 columns]"
      ]
     },
     "execution_count": 238,
     "metadata": {},
     "output_type": "execute_result"
    }
   ],
   "source": [
    "loans = pd.read_csv(\"kiva/loans.csv\")\n",
    "loans.head()"
   ]
  },
  {
   "cell_type": "code",
   "execution_count": 239,
   "metadata": {},
   "outputs": [
    {
     "data": {
      "text/html": [
       "<div>\n",
       "<style scoped>\n",
       "    .dataframe tbody tr th:only-of-type {\n",
       "        vertical-align: middle;\n",
       "    }\n",
       "\n",
       "    .dataframe tbody tr th {\n",
       "        vertical-align: top;\n",
       "    }\n",
       "\n",
       "    .dataframe thead th {\n",
       "        text-align: right;\n",
       "    }\n",
       "</style>\n",
       "<table border=\"1\" class=\"dataframe\">\n",
       "  <thead>\n",
       "    <tr style=\"text-align: right;\">\n",
       "      <th></th>\n",
       "      <th>permanent_name</th>\n",
       "      <th>display_name</th>\n",
       "      <th>city</th>\n",
       "      <th>state</th>\n",
       "      <th>country_code</th>\n",
       "      <th>member_since</th>\n",
       "      <th>occupation</th>\n",
       "      <th>loan_because</th>\n",
       "      <th>loan_purchase_num</th>\n",
       "      <th>invited_by</th>\n",
       "      <th>num_invited</th>\n",
       "    </tr>\n",
       "  </thead>\n",
       "  <tbody>\n",
       "    <tr>\n",
       "      <th>0</th>\n",
       "      <td>qian3013</td>\n",
       "      <td>Qian</td>\n",
       "      <td>NaN</td>\n",
       "      <td>NaN</td>\n",
       "      <td>NaN</td>\n",
       "      <td>1461300457</td>\n",
       "      <td>NaN</td>\n",
       "      <td>NaN</td>\n",
       "      <td>1.0</td>\n",
       "      <td>NaN</td>\n",
       "      <td>0</td>\n",
       "    </tr>\n",
       "    <tr>\n",
       "      <th>1</th>\n",
       "      <td>reena6733</td>\n",
       "      <td>Reena</td>\n",
       "      <td>NaN</td>\n",
       "      <td>NaN</td>\n",
       "      <td>NaN</td>\n",
       "      <td>1461300634</td>\n",
       "      <td>NaN</td>\n",
       "      <td>NaN</td>\n",
       "      <td>9.0</td>\n",
       "      <td>NaN</td>\n",
       "      <td>0</td>\n",
       "    </tr>\n",
       "    <tr>\n",
       "      <th>2</th>\n",
       "      <td>mai5982</td>\n",
       "      <td>Mai</td>\n",
       "      <td>NaN</td>\n",
       "      <td>NaN</td>\n",
       "      <td>NaN</td>\n",
       "      <td>1461300853</td>\n",
       "      <td>NaN</td>\n",
       "      <td>NaN</td>\n",
       "      <td>NaN</td>\n",
       "      <td>NaN</td>\n",
       "      <td>0</td>\n",
       "    </tr>\n",
       "    <tr>\n",
       "      <th>3</th>\n",
       "      <td>andrew86079135</td>\n",
       "      <td>Andrew</td>\n",
       "      <td>NaN</td>\n",
       "      <td>NaN</td>\n",
       "      <td>NaN</td>\n",
       "      <td>1461301091</td>\n",
       "      <td>NaN</td>\n",
       "      <td>NaN</td>\n",
       "      <td>5.0</td>\n",
       "      <td>Peter Tan</td>\n",
       "      <td>0</td>\n",
       "    </tr>\n",
       "    <tr>\n",
       "      <th>4</th>\n",
       "      <td>nguyen6962</td>\n",
       "      <td>Nguyen</td>\n",
       "      <td>NaN</td>\n",
       "      <td>NaN</td>\n",
       "      <td>NaN</td>\n",
       "      <td>1461301154</td>\n",
       "      <td>NaN</td>\n",
       "      <td>NaN</td>\n",
       "      <td>NaN</td>\n",
       "      <td>NaN</td>\n",
       "      <td>0</td>\n",
       "    </tr>\n",
       "  </tbody>\n",
       "</table>\n",
       "</div>"
      ],
      "text/plain": [
       "   permanent_name display_name city state country_code  member_since  \\\n",
       "0        qian3013         Qian  NaN   NaN          NaN    1461300457   \n",
       "1       reena6733        Reena  NaN   NaN          NaN    1461300634   \n",
       "2         mai5982          Mai  NaN   NaN          NaN    1461300853   \n",
       "3  andrew86079135       Andrew  NaN   NaN          NaN    1461301091   \n",
       "4      nguyen6962       Nguyen  NaN   NaN          NaN    1461301154   \n",
       "\n",
       "  occupation loan_because  loan_purchase_num invited_by  num_invited  \n",
       "0        NaN          NaN                1.0        NaN            0  \n",
       "1        NaN          NaN                9.0        NaN            0  \n",
       "2        NaN          NaN                NaN        NaN            0  \n",
       "3        NaN          NaN                5.0  Peter Tan            0  \n",
       "4        NaN          NaN                NaN        NaN            0  "
      ]
     },
     "execution_count": 239,
     "metadata": {},
     "output_type": "execute_result"
    }
   ],
   "source": [
    "lenders = pd.read_csv(\"kiva/lenders.csv\")\n",
    "lenders.head()"
   ]
  },
  {
   "cell_type": "code",
   "execution_count": 240,
   "metadata": {
    "scrolled": true
   },
   "outputs": [
    {
     "data": {
      "text/html": [
       "<div>\n",
       "<style scoped>\n",
       "    .dataframe tbody tr th:only-of-type {\n",
       "        vertical-align: middle;\n",
       "    }\n",
       "\n",
       "    .dataframe tbody tr th {\n",
       "        vertical-align: top;\n",
       "    }\n",
       "\n",
       "    .dataframe thead th {\n",
       "        text-align: right;\n",
       "    }\n",
       "</style>\n",
       "<table border=\"1\" class=\"dataframe\">\n",
       "  <thead>\n",
       "    <tr style=\"text-align: right;\">\n",
       "      <th></th>\n",
       "      <th>country_name</th>\n",
       "      <th>country_code</th>\n",
       "      <th>country_code3</th>\n",
       "      <th>continent</th>\n",
       "      <th>region</th>\n",
       "      <th>population</th>\n",
       "      <th>population_below_poverty_line</th>\n",
       "      <th>hdi</th>\n",
       "      <th>life_expectancy</th>\n",
       "      <th>expected_years_of_schooling</th>\n",
       "      <th>mean_years_of_schooling</th>\n",
       "      <th>gni</th>\n",
       "      <th>kiva_country_name</th>\n",
       "    </tr>\n",
       "  </thead>\n",
       "  <tbody>\n",
       "    <tr>\n",
       "      <th>0</th>\n",
       "      <td>India</td>\n",
       "      <td>IN</td>\n",
       "      <td>IND</td>\n",
       "      <td>Asia</td>\n",
       "      <td>Southern Asia</td>\n",
       "      <td>1339180127</td>\n",
       "      <td>21.9</td>\n",
       "      <td>0.623559</td>\n",
       "      <td>68.322</td>\n",
       "      <td>11.696590</td>\n",
       "      <td>6.298834</td>\n",
       "      <td>5663.474799</td>\n",
       "      <td>India</td>\n",
       "    </tr>\n",
       "    <tr>\n",
       "      <th>1</th>\n",
       "      <td>Nigeria</td>\n",
       "      <td>NG</td>\n",
       "      <td>NGA</td>\n",
       "      <td>Africa</td>\n",
       "      <td>Western Africa</td>\n",
       "      <td>190886311</td>\n",
       "      <td>70.0</td>\n",
       "      <td>0.527105</td>\n",
       "      <td>53.057</td>\n",
       "      <td>9.970482</td>\n",
       "      <td>6.000000</td>\n",
       "      <td>5442.901264</td>\n",
       "      <td>Nigeria</td>\n",
       "    </tr>\n",
       "    <tr>\n",
       "      <th>2</th>\n",
       "      <td>Mexico</td>\n",
       "      <td>MX</td>\n",
       "      <td>MEX</td>\n",
       "      <td>Americas</td>\n",
       "      <td>Central America</td>\n",
       "      <td>129163276</td>\n",
       "      <td>46.2</td>\n",
       "      <td>0.761683</td>\n",
       "      <td>76.972</td>\n",
       "      <td>13.299090</td>\n",
       "      <td>8.554985</td>\n",
       "      <td>16383.106680</td>\n",
       "      <td>Mexico</td>\n",
       "    </tr>\n",
       "    <tr>\n",
       "      <th>3</th>\n",
       "      <td>Pakistan</td>\n",
       "      <td>PK</td>\n",
       "      <td>PAK</td>\n",
       "      <td>Asia</td>\n",
       "      <td>Southern Asia</td>\n",
       "      <td>197015955</td>\n",
       "      <td>29.5</td>\n",
       "      <td>0.550354</td>\n",
       "      <td>66.365</td>\n",
       "      <td>8.106910</td>\n",
       "      <td>5.089460</td>\n",
       "      <td>5031.173074</td>\n",
       "      <td>Pakistan</td>\n",
       "    </tr>\n",
       "    <tr>\n",
       "      <th>4</th>\n",
       "      <td>Bangladesh</td>\n",
       "      <td>BD</td>\n",
       "      <td>BGD</td>\n",
       "      <td>Asia</td>\n",
       "      <td>Southern Asia</td>\n",
       "      <td>164669751</td>\n",
       "      <td>31.5</td>\n",
       "      <td>0.578824</td>\n",
       "      <td>71.985</td>\n",
       "      <td>10.178706</td>\n",
       "      <td>5.241577</td>\n",
       "      <td>3341.490722</td>\n",
       "      <td>Bangladesh</td>\n",
       "    </tr>\n",
       "  </tbody>\n",
       "</table>\n",
       "</div>"
      ],
      "text/plain": [
       "  country_name country_code country_code3 continent           region  \\\n",
       "0        India           IN           IND      Asia    Southern Asia   \n",
       "1      Nigeria           NG           NGA    Africa   Western Africa   \n",
       "2       Mexico           MX           MEX  Americas  Central America   \n",
       "3     Pakistan           PK           PAK      Asia    Southern Asia   \n",
       "4   Bangladesh           BD           BGD      Asia    Southern Asia   \n",
       "\n",
       "   population  population_below_poverty_line       hdi  life_expectancy  \\\n",
       "0  1339180127                           21.9  0.623559           68.322   \n",
       "1   190886311                           70.0  0.527105           53.057   \n",
       "2   129163276                           46.2  0.761683           76.972   \n",
       "3   197015955                           29.5  0.550354           66.365   \n",
       "4   164669751                           31.5  0.578824           71.985   \n",
       "\n",
       "   expected_years_of_schooling  mean_years_of_schooling           gni  \\\n",
       "0                    11.696590                 6.298834   5663.474799   \n",
       "1                     9.970482                 6.000000   5442.901264   \n",
       "2                    13.299090                 8.554985  16383.106680   \n",
       "3                     8.106910                 5.089460   5031.173074   \n",
       "4                    10.178706                 5.241577   3341.490722   \n",
       "\n",
       "  kiva_country_name  \n",
       "0             India  \n",
       "1           Nigeria  \n",
       "2            Mexico  \n",
       "3          Pakistan  \n",
       "4        Bangladesh  "
      ]
     },
     "execution_count": 240,
     "metadata": {},
     "output_type": "execute_result"
    }
   ],
   "source": [
    "country_stats = pd.read_csv(\"kiva/country_stats.csv\")\n",
    "country_stats.head()"
   ]
  },
  {
   "cell_type": "markdown",
   "metadata": {},
   "source": [
    "### 1) Normalize the loan_lenders table. In the normalized table, each row must have one loan_id and one lender"
   ]
  },
  {
   "cell_type": "markdown",
   "metadata": {},
   "source": [
    "The Dataset must be normalized, in each value of the column \"lenders\" there's a list of users which has to be normalized and split in different rows (one for each user)."
   ]
  },
  {
   "cell_type": "code",
   "execution_count": 241,
   "metadata": {
    "scrolled": true
   },
   "outputs": [
    {
     "data": {
      "text/html": [
       "<div>\n",
       "<style scoped>\n",
       "    .dataframe tbody tr th:only-of-type {\n",
       "        vertical-align: middle;\n",
       "    }\n",
       "\n",
       "    .dataframe tbody tr th {\n",
       "        vertical-align: top;\n",
       "    }\n",
       "\n",
       "    .dataframe thead th {\n",
       "        text-align: right;\n",
       "    }\n",
       "</style>\n",
       "<table border=\"1\" class=\"dataframe\">\n",
       "  <thead>\n",
       "    <tr style=\"text-align: right;\">\n",
       "      <th></th>\n",
       "      <th>loan_id</th>\n",
       "      <th>lender</th>\n",
       "    </tr>\n",
       "  </thead>\n",
       "  <tbody>\n",
       "    <tr>\n",
       "      <th>0</th>\n",
       "      <td>483693</td>\n",
       "      <td>muc888</td>\n",
       "    </tr>\n",
       "    <tr>\n",
       "      <th>0</th>\n",
       "      <td>483693</td>\n",
       "      <td>sam4326</td>\n",
       "    </tr>\n",
       "    <tr>\n",
       "      <th>0</th>\n",
       "      <td>483693</td>\n",
       "      <td>camaran3922</td>\n",
       "    </tr>\n",
       "    <tr>\n",
       "      <th>0</th>\n",
       "      <td>483693</td>\n",
       "      <td>lachheb1865</td>\n",
       "    </tr>\n",
       "    <tr>\n",
       "      <th>0</th>\n",
       "      <td>483693</td>\n",
       "      <td>rebecca3499</td>\n",
       "    </tr>\n",
       "  </tbody>\n",
       "</table>\n",
       "</div>"
      ],
      "text/plain": [
       "   loan_id       lender\n",
       "0   483693       muc888\n",
       "0   483693      sam4326\n",
       "0   483693  camaran3922\n",
       "0   483693  lachheb1865\n",
       "0   483693  rebecca3499"
      ]
     },
     "execution_count": 241,
     "metadata": {},
     "output_type": "execute_result"
    }
   ],
   "source": [
    "loan_lenders[\"lenders\"] = loan_lenders[\"lenders\"].str.split(\", \")\n",
    "loan_lenders_norm = loan_lenders.explode(\"lenders\")\n",
    "loan_lenders_norm.columns = [\"loan_id\", \"lender\"]\n",
    "loan_lenders_norm.head()"
   ]
  },
  {
   "cell_type": "code",
   "execution_count": 242,
   "metadata": {},
   "outputs": [
    {
     "data": {
      "text/plain": [
       "28293931"
      ]
     },
     "execution_count": 242,
     "metadata": {},
     "output_type": "execute_result"
    }
   ],
   "source": [
    "len(loan_lenders_norm)"
   ]
  },
  {
   "cell_type": "code",
   "execution_count": 243,
   "metadata": {},
   "outputs": [
    {
     "data": {
      "text/html": [
       "<div>\n",
       "<style scoped>\n",
       "    .dataframe tbody tr th:only-of-type {\n",
       "        vertical-align: middle;\n",
       "    }\n",
       "\n",
       "    .dataframe tbody tr th {\n",
       "        vertical-align: top;\n",
       "    }\n",
       "\n",
       "    .dataframe thead th {\n",
       "        text-align: right;\n",
       "    }\n",
       "</style>\n",
       "<table border=\"1\" class=\"dataframe\">\n",
       "  <thead>\n",
       "    <tr style=\"text-align: right;\">\n",
       "      <th></th>\n",
       "      <th>loan_id</th>\n",
       "      <th>lender</th>\n",
       "    </tr>\n",
       "  </thead>\n",
       "  <tbody>\n",
       "    <tr>\n",
       "      <th>0</th>\n",
       "      <td>483693</td>\n",
       "      <td>muc888</td>\n",
       "    </tr>\n",
       "    <tr>\n",
       "      <th>1</th>\n",
       "      <td>483693</td>\n",
       "      <td>sam4326</td>\n",
       "    </tr>\n",
       "    <tr>\n",
       "      <th>2</th>\n",
       "      <td>483693</td>\n",
       "      <td>camaran3922</td>\n",
       "    </tr>\n",
       "    <tr>\n",
       "      <th>3</th>\n",
       "      <td>483693</td>\n",
       "      <td>lachheb1865</td>\n",
       "    </tr>\n",
       "    <tr>\n",
       "      <th>4</th>\n",
       "      <td>483693</td>\n",
       "      <td>rebecca3499</td>\n",
       "    </tr>\n",
       "  </tbody>\n",
       "</table>\n",
       "</div>"
      ],
      "text/plain": [
       "   loan_id       lender\n",
       "0   483693       muc888\n",
       "1   483693      sam4326\n",
       "2   483693  camaran3922\n",
       "3   483693  lachheb1865\n",
       "4   483693  rebecca3499"
      ]
     },
     "execution_count": 243,
     "metadata": {},
     "output_type": "execute_result"
    }
   ],
   "source": [
    "loan_lenders_norm.reset_index(drop = True, inplace = True)\n",
    "loan_lenders_norm.head()"
   ]
  },
  {
   "cell_type": "markdown",
   "metadata": {},
   "source": [
    "### 2) For each loan, add a column duration corresponding to the number of days between the disburse time and the planned expiration time. If any of those two dates is missing, also the duration must be missing"
   ]
  },
  {
   "cell_type": "code",
   "execution_count": 244,
   "metadata": {
    "scrolled": true
   },
   "outputs": [
    {
     "data": {
      "text/html": [
       "<div>\n",
       "<style scoped>\n",
       "    .dataframe tbody tr th:only-of-type {\n",
       "        vertical-align: middle;\n",
       "    }\n",
       "\n",
       "    .dataframe tbody tr th {\n",
       "        vertical-align: top;\n",
       "    }\n",
       "\n",
       "    .dataframe thead th {\n",
       "        text-align: right;\n",
       "    }\n",
       "</style>\n",
       "<table border=\"1\" class=\"dataframe\">\n",
       "  <thead>\n",
       "    <tr style=\"text-align: right;\">\n",
       "      <th></th>\n",
       "      <th>loan_id</th>\n",
       "      <th>loan_name</th>\n",
       "      <th>planned_expiration_time</th>\n",
       "      <th>disburse_time</th>\n",
       "    </tr>\n",
       "  </thead>\n",
       "  <tbody>\n",
       "    <tr>\n",
       "      <th>0</th>\n",
       "      <td>657307</td>\n",
       "      <td>Aivy</td>\n",
       "      <td>2014-02-14 03:30:06.000 +0000</td>\n",
       "      <td>2013-12-22 08:00:00.000 +0000</td>\n",
       "    </tr>\n",
       "    <tr>\n",
       "      <th>1</th>\n",
       "      <td>657259</td>\n",
       "      <td>Idalia Marizza</td>\n",
       "      <td>2014-03-26 22:25:07.000 +0000</td>\n",
       "      <td>2013-12-20 08:00:00.000 +0000</td>\n",
       "    </tr>\n",
       "    <tr>\n",
       "      <th>2</th>\n",
       "      <td>658010</td>\n",
       "      <td>Aasia</td>\n",
       "      <td>2014-02-15 21:10:05.000 +0000</td>\n",
       "      <td>2014-01-09 08:00:00.000 +0000</td>\n",
       "    </tr>\n",
       "    <tr>\n",
       "      <th>3</th>\n",
       "      <td>659347</td>\n",
       "      <td>Gulmira</td>\n",
       "      <td>2014-02-21 03:10:02.000 +0000</td>\n",
       "      <td>2014-01-17 08:00:00.000 +0000</td>\n",
       "    </tr>\n",
       "    <tr>\n",
       "      <th>4</th>\n",
       "      <td>656933</td>\n",
       "      <td>Ricky\\t</td>\n",
       "      <td>2014-02-13 06:10:02.000 +0000</td>\n",
       "      <td>2013-12-17 08:00:00.000 +0000</td>\n",
       "    </tr>\n",
       "  </tbody>\n",
       "</table>\n",
       "</div>"
      ],
      "text/plain": [
       "   loan_id       loan_name        planned_expiration_time  \\\n",
       "0   657307            Aivy  2014-02-14 03:30:06.000 +0000   \n",
       "1   657259  Idalia Marizza  2014-03-26 22:25:07.000 +0000   \n",
       "2   658010           Aasia  2014-02-15 21:10:05.000 +0000   \n",
       "3   659347         Gulmira  2014-02-21 03:10:02.000 +0000   \n",
       "4   656933         Ricky\\t  2014-02-13 06:10:02.000 +0000   \n",
       "\n",
       "                   disburse_time  \n",
       "0  2013-12-22 08:00:00.000 +0000  \n",
       "1  2013-12-20 08:00:00.000 +0000  \n",
       "2  2014-01-09 08:00:00.000 +0000  \n",
       "3  2014-01-17 08:00:00.000 +0000  \n",
       "4  2013-12-17 08:00:00.000 +0000  "
      ]
     },
     "execution_count": 244,
     "metadata": {},
     "output_type": "execute_result"
    }
   ],
   "source": [
    "loans.head()[[\"loan_id\", \"loan_name\", \"planned_expiration_time\", \"disburse_time\"]]"
   ]
  },
  {
   "cell_type": "markdown",
   "metadata": {},
   "source": [
    "The duration attribute is computed with a simple difference between \"planned_expiration_time\" and \"disburse_time\" in datetime format. All the values of these attributes that are missing automatically set the \"duration\" attribute as None."
   ]
  },
  {
   "cell_type": "code",
   "execution_count": 245,
   "metadata": {},
   "outputs": [],
   "source": [
    "loans[\"planned_expiration_time\"] = pd.to_datetime(loans[\"planned_expiration_time\"])\n",
    "loans[\"disburse_time\"] = pd.to_datetime(loans[\"disburse_time\"])"
   ]
  },
  {
   "cell_type": "code",
   "execution_count": 246,
   "metadata": {},
   "outputs": [
    {
     "name": "stdout",
     "output_type": "stream",
     "text": [
      "374645\n"
     ]
    },
    {
     "data": {
      "text/plain": [
       "0   53 days 19:30:06\n",
       "1   96 days 14:25:07\n",
       "2   37 days 13:10:05\n",
       "3   34 days 19:10:02\n",
       "4   57 days 22:10:02\n",
       "Name: duration, dtype: timedelta64[ns]"
      ]
     },
     "execution_count": 246,
     "metadata": {},
     "output_type": "execute_result"
    }
   ],
   "source": [
    "loans[\"duration\"] = loans[\"planned_expiration_time\"] - loans[\"disburse_time\"]\n",
    "loans[loans[\"planned_expiration_time\"].isnull()][\"duration\"] == None\n",
    "loans[loans[\"disburse_time\"].isnull()][\"duration\"] == None\n",
    "print(len(loans[loans.duration.isnull()]))\n",
    "loans.duration.head()"
   ]
  },
  {
   "cell_type": "code",
   "execution_count": 247,
   "metadata": {},
   "outputs": [
    {
     "data": {
      "text/plain": [
       "0.26390754624343216"
      ]
     },
     "execution_count": 247,
     "metadata": {},
     "output_type": "execute_result"
    }
   ],
   "source": [
    "len(loans[loans.duration.isnull()])/len(loans)"
   ]
  },
  {
   "cell_type": "markdown",
   "metadata": {},
   "source": [
    "There are currently 374645 missing values (26.39% of the dataset). I do compute the day attribute from the \"duration\" column by obtaining the .days attribute with a lambda function:"
   ]
  },
  {
   "cell_type": "code",
   "execution_count": 248,
   "metadata": {},
   "outputs": [
    {
     "data": {
      "text/plain": [
       "0          53.0\n",
       "1          96.0\n",
       "2          37.0\n",
       "3          34.0\n",
       "4          57.0\n",
       "           ... \n",
       "1419602    39.0\n",
       "1419603    39.0\n",
       "1419604    51.0\n",
       "1419605    63.0\n",
       "1419606    61.0\n",
       "Name: duration, Length: 1419607, dtype: float64"
      ]
     },
     "execution_count": 248,
     "metadata": {},
     "output_type": "execute_result"
    }
   ],
   "source": [
    "loans[\"duration\"] = loans.apply(lambda x: x[\"duration\"].days, axis = 1)\n",
    "loans[\"duration\"]"
   ]
  },
  {
   "cell_type": "code",
   "execution_count": 249,
   "metadata": {},
   "outputs": [
    {
     "data": {
      "text/plain": [
       "14935"
      ]
     },
     "execution_count": 249,
     "metadata": {},
     "output_type": "execute_result"
    }
   ],
   "source": [
    "len(loans[loans.planned_expiration_time<loans.disburse_time])"
   ]
  },
  {
   "cell_type": "markdown",
   "metadata": {},
   "source": [
    "There are also 14935 values where the duration time is negative"
   ]
  },
  {
   "cell_type": "markdown",
   "metadata": {},
   "source": [
    "The result of the computing is the following:"
   ]
  },
  {
   "cell_type": "code",
   "execution_count": 250,
   "metadata": {},
   "outputs": [
    {
     "data": {
      "text/html": [
       "<div>\n",
       "<style scoped>\n",
       "    .dataframe tbody tr th:only-of-type {\n",
       "        vertical-align: middle;\n",
       "    }\n",
       "\n",
       "    .dataframe tbody tr th {\n",
       "        vertical-align: top;\n",
       "    }\n",
       "\n",
       "    .dataframe thead th {\n",
       "        text-align: right;\n",
       "    }\n",
       "</style>\n",
       "<table border=\"1\" class=\"dataframe\">\n",
       "  <thead>\n",
       "    <tr style=\"text-align: right;\">\n",
       "      <th></th>\n",
       "      <th>loan_id</th>\n",
       "      <th>loan_name</th>\n",
       "      <th>planned_expiration_time</th>\n",
       "      <th>disburse_time</th>\n",
       "      <th>duration</th>\n",
       "    </tr>\n",
       "  </thead>\n",
       "  <tbody>\n",
       "    <tr>\n",
       "      <th>0</th>\n",
       "      <td>657307</td>\n",
       "      <td>Aivy</td>\n",
       "      <td>2014-02-14 03:30:06+00:00</td>\n",
       "      <td>2013-12-22 08:00:00+00:00</td>\n",
       "      <td>53.0</td>\n",
       "    </tr>\n",
       "    <tr>\n",
       "      <th>1</th>\n",
       "      <td>657259</td>\n",
       "      <td>Idalia Marizza</td>\n",
       "      <td>2014-03-26 22:25:07+00:00</td>\n",
       "      <td>2013-12-20 08:00:00+00:00</td>\n",
       "      <td>96.0</td>\n",
       "    </tr>\n",
       "    <tr>\n",
       "      <th>2</th>\n",
       "      <td>658010</td>\n",
       "      <td>Aasia</td>\n",
       "      <td>2014-02-15 21:10:05+00:00</td>\n",
       "      <td>2014-01-09 08:00:00+00:00</td>\n",
       "      <td>37.0</td>\n",
       "    </tr>\n",
       "    <tr>\n",
       "      <th>3</th>\n",
       "      <td>659347</td>\n",
       "      <td>Gulmira</td>\n",
       "      <td>2014-02-21 03:10:02+00:00</td>\n",
       "      <td>2014-01-17 08:00:00+00:00</td>\n",
       "      <td>34.0</td>\n",
       "    </tr>\n",
       "    <tr>\n",
       "      <th>4</th>\n",
       "      <td>656933</td>\n",
       "      <td>Ricky\\t</td>\n",
       "      <td>2014-02-13 06:10:02+00:00</td>\n",
       "      <td>2013-12-17 08:00:00+00:00</td>\n",
       "      <td>57.0</td>\n",
       "    </tr>\n",
       "  </tbody>\n",
       "</table>\n",
       "</div>"
      ],
      "text/plain": [
       "   loan_id       loan_name   planned_expiration_time  \\\n",
       "0   657307            Aivy 2014-02-14 03:30:06+00:00   \n",
       "1   657259  Idalia Marizza 2014-03-26 22:25:07+00:00   \n",
       "2   658010           Aasia 2014-02-15 21:10:05+00:00   \n",
       "3   659347         Gulmira 2014-02-21 03:10:02+00:00   \n",
       "4   656933         Ricky\\t 2014-02-13 06:10:02+00:00   \n",
       "\n",
       "              disburse_time  duration  \n",
       "0 2013-12-22 08:00:00+00:00      53.0  \n",
       "1 2013-12-20 08:00:00+00:00      96.0  \n",
       "2 2014-01-09 08:00:00+00:00      37.0  \n",
       "3 2014-01-17 08:00:00+00:00      34.0  \n",
       "4 2013-12-17 08:00:00+00:00      57.0  "
      ]
     },
     "execution_count": 250,
     "metadata": {},
     "output_type": "execute_result"
    }
   ],
   "source": [
    "loans.head()[[\"loan_id\", \"loan_name\", \"planned_expiration_time\", \"disburse_time\", \"duration\"]]"
   ]
  },
  {
   "cell_type": "markdown",
   "metadata": {},
   "source": [
    "### 3) Find the lenders that have funded at least twice"
   ]
  },
  {
   "cell_type": "code",
   "execution_count": 251,
   "metadata": {},
   "outputs": [
    {
     "data": {
      "text/html": [
       "<div>\n",
       "<style scoped>\n",
       "    .dataframe tbody tr th:only-of-type {\n",
       "        vertical-align: middle;\n",
       "    }\n",
       "\n",
       "    .dataframe tbody tr th {\n",
       "        vertical-align: top;\n",
       "    }\n",
       "\n",
       "    .dataframe thead th {\n",
       "        text-align: right;\n",
       "    }\n",
       "</style>\n",
       "<table border=\"1\" class=\"dataframe\">\n",
       "  <thead>\n",
       "    <tr style=\"text-align: right;\">\n",
       "      <th></th>\n",
       "      <th>loan_id</th>\n",
       "      <th>lender</th>\n",
       "    </tr>\n",
       "  </thead>\n",
       "  <tbody>\n",
       "    <tr>\n",
       "      <th>0</th>\n",
       "      <td>483693</td>\n",
       "      <td>muc888</td>\n",
       "    </tr>\n",
       "    <tr>\n",
       "      <th>1</th>\n",
       "      <td>483693</td>\n",
       "      <td>sam4326</td>\n",
       "    </tr>\n",
       "    <tr>\n",
       "      <th>2</th>\n",
       "      <td>483693</td>\n",
       "      <td>camaran3922</td>\n",
       "    </tr>\n",
       "    <tr>\n",
       "      <th>3</th>\n",
       "      <td>483693</td>\n",
       "      <td>lachheb1865</td>\n",
       "    </tr>\n",
       "    <tr>\n",
       "      <th>4</th>\n",
       "      <td>483693</td>\n",
       "      <td>rebecca3499</td>\n",
       "    </tr>\n",
       "  </tbody>\n",
       "</table>\n",
       "</div>"
      ],
      "text/plain": [
       "   loan_id       lender\n",
       "0   483693       muc888\n",
       "1   483693      sam4326\n",
       "2   483693  camaran3922\n",
       "3   483693  lachheb1865\n",
       "4   483693  rebecca3499"
      ]
     },
     "execution_count": 251,
     "metadata": {},
     "output_type": "execute_result"
    }
   ],
   "source": [
    "loan_lenders_norm.head()"
   ]
  },
  {
   "cell_type": "markdown",
   "metadata": {},
   "source": [
    "I do calculate the number of loans made by each lender by grouping them by the lender's name, then counting the number of items in each group:"
   ]
  },
  {
   "cell_type": "code",
   "execution_count": 252,
   "metadata": {},
   "outputs": [
    {
     "data": {
      "text/html": [
       "<div>\n",
       "<style scoped>\n",
       "    .dataframe tbody tr th:only-of-type {\n",
       "        vertical-align: middle;\n",
       "    }\n",
       "\n",
       "    .dataframe tbody tr th {\n",
       "        vertical-align: top;\n",
       "    }\n",
       "\n",
       "    .dataframe thead th {\n",
       "        text-align: right;\n",
       "    }\n",
       "</style>\n",
       "<table border=\"1\" class=\"dataframe\">\n",
       "  <thead>\n",
       "    <tr style=\"text-align: right;\">\n",
       "      <th></th>\n",
       "      <th>lender</th>\n",
       "      <th>fund_count</th>\n",
       "    </tr>\n",
       "  </thead>\n",
       "  <tbody>\n",
       "    <tr>\n",
       "      <th>0</th>\n",
       "      <td>000</td>\n",
       "      <td>40</td>\n",
       "    </tr>\n",
       "    <tr>\n",
       "      <th>1</th>\n",
       "      <td>00000</td>\n",
       "      <td>39</td>\n",
       "    </tr>\n",
       "    <tr>\n",
       "      <th>2</th>\n",
       "      <td>0002</td>\n",
       "      <td>70</td>\n",
       "    </tr>\n",
       "    <tr>\n",
       "      <th>3</th>\n",
       "      <td>00mike00</td>\n",
       "      <td>1</td>\n",
       "    </tr>\n",
       "    <tr>\n",
       "      <th>4</th>\n",
       "      <td>0101craign0101</td>\n",
       "      <td>71</td>\n",
       "    </tr>\n",
       "  </tbody>\n",
       "</table>\n",
       "</div>"
      ],
      "text/plain": [
       "           lender  fund_count\n",
       "0             000          40\n",
       "1           00000          39\n",
       "2            0002          70\n",
       "3        00mike00           1\n",
       "4  0101craign0101          71"
      ]
     },
     "execution_count": 252,
     "metadata": {},
     "output_type": "execute_result"
    }
   ],
   "source": [
    "lenders_funds = loan_lenders_norm.groupby(\"lender\")[\"loan_id\"].count().reset_index()\n",
    "lenders_funds.columns = [\"lender\", \"fund_count\"]\n",
    "lenders_funds.head()"
   ]
  },
  {
   "cell_type": "markdown",
   "metadata": {},
   "source": [
    "Then, the result is filtered to obtain only the lenders which have made more than one loan:"
   ]
  },
  {
   "cell_type": "code",
   "execution_count": 253,
   "metadata": {},
   "outputs": [
    {
     "data": {
      "text/html": [
       "<div>\n",
       "<style scoped>\n",
       "    .dataframe tbody tr th:only-of-type {\n",
       "        vertical-align: middle;\n",
       "    }\n",
       "\n",
       "    .dataframe tbody tr th {\n",
       "        vertical-align: top;\n",
       "    }\n",
       "\n",
       "    .dataframe thead th {\n",
       "        text-align: right;\n",
       "    }\n",
       "</style>\n",
       "<table border=\"1\" class=\"dataframe\">\n",
       "  <thead>\n",
       "    <tr style=\"text-align: right;\">\n",
       "      <th></th>\n",
       "      <th>lender</th>\n",
       "      <th>fund_count</th>\n",
       "    </tr>\n",
       "  </thead>\n",
       "  <tbody>\n",
       "    <tr>\n",
       "      <th>0</th>\n",
       "      <td>000</td>\n",
       "      <td>40</td>\n",
       "    </tr>\n",
       "    <tr>\n",
       "      <th>1</th>\n",
       "      <td>00000</td>\n",
       "      <td>39</td>\n",
       "    </tr>\n",
       "    <tr>\n",
       "      <th>2</th>\n",
       "      <td>0002</td>\n",
       "      <td>70</td>\n",
       "    </tr>\n",
       "    <tr>\n",
       "      <th>4</th>\n",
       "      <td>0101craign0101</td>\n",
       "      <td>71</td>\n",
       "    </tr>\n",
       "    <tr>\n",
       "      <th>5</th>\n",
       "      <td>0132575</td>\n",
       "      <td>4</td>\n",
       "    </tr>\n",
       "  </tbody>\n",
       "</table>\n",
       "</div>"
      ],
      "text/plain": [
       "           lender  fund_count\n",
       "0             000          40\n",
       "1           00000          39\n",
       "2            0002          70\n",
       "4  0101craign0101          71\n",
       "5         0132575           4"
      ]
     },
     "execution_count": 253,
     "metadata": {},
     "output_type": "execute_result"
    }
   ],
   "source": [
    "lenders_funds[lenders_funds[\"fund_count\"]>1][[\"lender\", \"fund_count\"]].head()"
   ]
  },
  {
   "cell_type": "markdown",
   "metadata": {},
   "source": [
    "### 4) For each country, compute how many loans have involved that country as borrowers"
   ]
  },
  {
   "cell_type": "code",
   "execution_count": 254,
   "metadata": {},
   "outputs": [
    {
     "name": "stdout",
     "output_type": "stream",
     "text": [
      "The number of loans that have unknown country name is 0\n"
     ]
    },
    {
     "data": {
      "text/html": [
       "<div>\n",
       "<style scoped>\n",
       "    .dataframe tbody tr th:only-of-type {\n",
       "        vertical-align: middle;\n",
       "    }\n",
       "\n",
       "    .dataframe tbody tr th {\n",
       "        vertical-align: top;\n",
       "    }\n",
       "\n",
       "    .dataframe thead th {\n",
       "        text-align: right;\n",
       "    }\n",
       "</style>\n",
       "<table border=\"1\" class=\"dataframe\">\n",
       "  <thead>\n",
       "    <tr style=\"text-align: right;\">\n",
       "      <th></th>\n",
       "      <th>index</th>\n",
       "      <th>country_code</th>\n",
       "    </tr>\n",
       "  </thead>\n",
       "  <tbody>\n",
       "    <tr>\n",
       "      <th>0</th>\n",
       "      <td>PH</td>\n",
       "      <td>285336</td>\n",
       "    </tr>\n",
       "    <tr>\n",
       "      <th>1</th>\n",
       "      <td>KE</td>\n",
       "      <td>143699</td>\n",
       "    </tr>\n",
       "    <tr>\n",
       "      <th>2</th>\n",
       "      <td>PE</td>\n",
       "      <td>86000</td>\n",
       "    </tr>\n",
       "    <tr>\n",
       "      <th>3</th>\n",
       "      <td>KH</td>\n",
       "      <td>79701</td>\n",
       "    </tr>\n",
       "    <tr>\n",
       "      <th>4</th>\n",
       "      <td>SV</td>\n",
       "      <td>64037</td>\n",
       "    </tr>\n",
       "    <tr>\n",
       "      <th>...</th>\n",
       "      <td>...</td>\n",
       "      <td>...</td>\n",
       "    </tr>\n",
       "    <tr>\n",
       "      <th>90</th>\n",
       "      <td>UY</td>\n",
       "      <td>1</td>\n",
       "    </tr>\n",
       "    <tr>\n",
       "      <th>91</th>\n",
       "      <td>BW</td>\n",
       "      <td>1</td>\n",
       "    </tr>\n",
       "    <tr>\n",
       "      <th>92</th>\n",
       "      <td>MR</td>\n",
       "      <td>1</td>\n",
       "    </tr>\n",
       "    <tr>\n",
       "      <th>93</th>\n",
       "      <td>PG</td>\n",
       "      <td>1</td>\n",
       "    </tr>\n",
       "    <tr>\n",
       "      <th>94</th>\n",
       "      <td>CA</td>\n",
       "      <td>1</td>\n",
       "    </tr>\n",
       "  </tbody>\n",
       "</table>\n",
       "<p>95 rows × 2 columns</p>\n",
       "</div>"
      ],
      "text/plain": [
       "   index  country_code\n",
       "0     PH        285336\n",
       "1     KE        143699\n",
       "2     PE         86000\n",
       "3     KH         79701\n",
       "4     SV         64037\n",
       "..   ...           ...\n",
       "90    UY             1\n",
       "91    BW             1\n",
       "92    MR             1\n",
       "93    PG             1\n",
       "94    CA             1\n",
       "\n",
       "[95 rows x 2 columns]"
      ]
     },
     "execution_count": 254,
     "metadata": {},
     "output_type": "execute_result"
    }
   ],
   "source": [
    "print(f\"The number of loans that have unknown country name is {loans.country_name.isnull().sum()}\")\n",
    "loans.country_code.value_counts().reset_index()"
   ]
  },
  {
   "cell_type": "markdown",
   "metadata": {},
   "source": [
    "There are no missing values in the \"country_name\" column, most of the loans are distributed in Philippines, Kenya and Perù. <br> To compute how many times each country is involved in loans as borrower the \"loans\" dataset is grouped by the attribute \"country_name\":"
   ]
  },
  {
   "cell_type": "code",
   "execution_count": 255,
   "metadata": {},
   "outputs": [
    {
     "data": {
      "text/html": [
       "<div>\n",
       "<style scoped>\n",
       "    .dataframe tbody tr th:only-of-type {\n",
       "        vertical-align: middle;\n",
       "    }\n",
       "\n",
       "    .dataframe tbody tr th {\n",
       "        vertical-align: top;\n",
       "    }\n",
       "\n",
       "    .dataframe thead th {\n",
       "        text-align: right;\n",
       "    }\n",
       "</style>\n",
       "<table border=\"1\" class=\"dataframe\">\n",
       "  <thead>\n",
       "    <tr style=\"text-align: right;\">\n",
       "      <th></th>\n",
       "      <th>country_name</th>\n",
       "      <th>count</th>\n",
       "    </tr>\n",
       "  </thead>\n",
       "  <tbody>\n",
       "    <tr>\n",
       "      <th>0</th>\n",
       "      <td>Afghanistan</td>\n",
       "      <td>2337</td>\n",
       "    </tr>\n",
       "    <tr>\n",
       "      <th>1</th>\n",
       "      <td>Albania</td>\n",
       "      <td>3075</td>\n",
       "    </tr>\n",
       "    <tr>\n",
       "      <th>2</th>\n",
       "      <td>Armenia</td>\n",
       "      <td>13952</td>\n",
       "    </tr>\n",
       "    <tr>\n",
       "      <th>3</th>\n",
       "      <td>Azerbaijan</td>\n",
       "      <td>10172</td>\n",
       "    </tr>\n",
       "    <tr>\n",
       "      <th>4</th>\n",
       "      <td>Belize</td>\n",
       "      <td>218</td>\n",
       "    </tr>\n",
       "  </tbody>\n",
       "</table>\n",
       "</div>"
      ],
      "text/plain": [
       "  country_name  count\n",
       "0  Afghanistan   2337\n",
       "1      Albania   3075\n",
       "2      Armenia  13952\n",
       "3   Azerbaijan  10172\n",
       "4       Belize    218"
      ]
     },
     "execution_count": 255,
     "metadata": {},
     "output_type": "execute_result"
    }
   ],
   "source": [
    "country_count = loans.groupby(\"country_name\")[\"loan_id\"].count().reset_index()\n",
    "country_count.columns = [\"country_name\", \"count\"]\n",
    "country_count.head()"
   ]
  },
  {
   "cell_type": "markdown",
   "metadata": {},
   "source": [
    "### 5) For each country, compute the overall amount of money borrowed"
   ]
  },
  {
   "cell_type": "markdown",
   "metadata": {},
   "source": [
    "To compute the result, the \"loans\" dataset must be grouped by the \"country_code\" column. Here is proposed a simplified version of the \"loans\" dataframe with the interesting features:"
   ]
  },
  {
   "cell_type": "code",
   "execution_count": 256,
   "metadata": {},
   "outputs": [
    {
     "data": {
      "text/plain": [
       "9"
      ]
     },
     "execution_count": 256,
     "metadata": {},
     "output_type": "execute_result"
    }
   ],
   "source": [
    "loans.country_code.isnull().sum()"
   ]
  },
  {
   "cell_type": "code",
   "execution_count": 257,
   "metadata": {},
   "outputs": [
    {
     "data": {
      "text/plain": [
       "82889      Namibia\n",
       "156970     Namibia\n",
       "598087     Namibia\n",
       "684876     Namibia\n",
       "971827     Namibia\n",
       "1134818    Namibia\n",
       "1214923    Namibia\n",
       "1281022    Namibia\n",
       "1415763    Namibia\n",
       "Name: country_name, dtype: object"
      ]
     },
     "execution_count": 257,
     "metadata": {},
     "output_type": "execute_result"
    }
   ],
   "source": [
    "loans[loans.country_code.isnull()][\"country_name\"]"
   ]
  },
  {
   "cell_type": "markdown",
   "metadata": {},
   "source": [
    "All the \"country_code\" in loans which have null values are representative of Namibia.\n",
    "Namibia has also a null value in \"country_stats\" as can be seen in below."
   ]
  },
  {
   "cell_type": "code",
   "execution_count": 258,
   "metadata": {},
   "outputs": [
    {
     "data": {
      "text/html": [
       "<div>\n",
       "<style scoped>\n",
       "    .dataframe tbody tr th:only-of-type {\n",
       "        vertical-align: middle;\n",
       "    }\n",
       "\n",
       "    .dataframe tbody tr th {\n",
       "        vertical-align: top;\n",
       "    }\n",
       "\n",
       "    .dataframe thead th {\n",
       "        text-align: right;\n",
       "    }\n",
       "</style>\n",
       "<table border=\"1\" class=\"dataframe\">\n",
       "  <thead>\n",
       "    <tr style=\"text-align: right;\">\n",
       "      <th></th>\n",
       "      <th>country_name</th>\n",
       "      <th>country_code</th>\n",
       "      <th>country_code3</th>\n",
       "      <th>continent</th>\n",
       "      <th>region</th>\n",
       "      <th>population</th>\n",
       "      <th>population_below_poverty_line</th>\n",
       "      <th>hdi</th>\n",
       "      <th>life_expectancy</th>\n",
       "      <th>expected_years_of_schooling</th>\n",
       "      <th>mean_years_of_schooling</th>\n",
       "      <th>gni</th>\n",
       "      <th>kiva_country_name</th>\n",
       "    </tr>\n",
       "  </thead>\n",
       "  <tbody>\n",
       "    <tr>\n",
       "      <th>115</th>\n",
       "      <td>Namibia</td>\n",
       "      <td>NMB</td>\n",
       "      <td>NAM</td>\n",
       "      <td>Africa</td>\n",
       "      <td>Southern Africa</td>\n",
       "      <td>2533794</td>\n",
       "      <td>28.7</td>\n",
       "      <td>0.640007</td>\n",
       "      <td>65.062</td>\n",
       "      <td>11.657589</td>\n",
       "      <td>6.676</td>\n",
       "      <td>9769.848507</td>\n",
       "      <td>Namibia</td>\n",
       "    </tr>\n",
       "  </tbody>\n",
       "</table>\n",
       "</div>"
      ],
      "text/plain": [
       "    country_name country_code country_code3 continent           region  \\\n",
       "115      Namibia          NMB           NAM    Africa  Southern Africa   \n",
       "\n",
       "     population  population_below_poverty_line       hdi  life_expectancy  \\\n",
       "115     2533794                           28.7  0.640007           65.062   \n",
       "\n",
       "     expected_years_of_schooling  mean_years_of_schooling          gni  \\\n",
       "115                    11.657589                    6.676  9769.848507   \n",
       "\n",
       "    kiva_country_name  \n",
       "115           Namibia  "
      ]
     },
     "execution_count": 258,
     "metadata": {},
     "output_type": "execute_result"
    }
   ],
   "source": [
    "indice_namibia = country_stats[country_stats.country_name == \"Namibia\"].index\n",
    "country_stats.loc[indice_namibia, \"country_code\"] = \"NMB\"\n",
    "country_stats.loc[indice_namibia]"
   ]
  },
  {
   "cell_type": "markdown",
   "metadata": {},
   "source": [
    "The value null of the \"country_code\" of Namibia is then changed with NMB in \"country_stats\" and in \"loans\":"
   ]
  },
  {
   "cell_type": "code",
   "execution_count": 259,
   "metadata": {},
   "outputs": [
    {
     "name": "stdout",
     "output_type": "stream",
     "text": [
      "0\n"
     ]
    }
   ],
   "source": [
    "loans.loc[loans.country_code.isnull(), \"country_code\"] = \"NMB\"\n",
    "print(loans.country_code.isnull().sum())"
   ]
  },
  {
   "cell_type": "code",
   "execution_count": 260,
   "metadata": {},
   "outputs": [
    {
     "data": {
      "text/html": [
       "<div>\n",
       "<style scoped>\n",
       "    .dataframe tbody tr th:only-of-type {\n",
       "        vertical-align: middle;\n",
       "    }\n",
       "\n",
       "    .dataframe tbody tr th {\n",
       "        vertical-align: top;\n",
       "    }\n",
       "\n",
       "    .dataframe thead th {\n",
       "        text-align: right;\n",
       "    }\n",
       "</style>\n",
       "<table border=\"1\" class=\"dataframe\">\n",
       "  <thead>\n",
       "    <tr style=\"text-align: right;\">\n",
       "      <th></th>\n",
       "      <th>loan_id</th>\n",
       "      <th>country_code</th>\n",
       "      <th>disburse_time</th>\n",
       "      <th>planned_expiration_time</th>\n",
       "      <th>funded_amount</th>\n",
       "      <th>loan_amount</th>\n",
       "      <th>currency</th>\n",
       "      <th>duration</th>\n",
       "    </tr>\n",
       "  </thead>\n",
       "  <tbody>\n",
       "    <tr>\n",
       "      <th>0</th>\n",
       "      <td>657307</td>\n",
       "      <td>PH</td>\n",
       "      <td>2013-12-22 08:00:00+00:00</td>\n",
       "      <td>2014-02-14 03:30:06+00:00</td>\n",
       "      <td>125.0</td>\n",
       "      <td>125.0</td>\n",
       "      <td>PHP</td>\n",
       "      <td>53.0</td>\n",
       "    </tr>\n",
       "    <tr>\n",
       "      <th>1</th>\n",
       "      <td>657259</td>\n",
       "      <td>HN</td>\n",
       "      <td>2013-12-20 08:00:00+00:00</td>\n",
       "      <td>2014-03-26 22:25:07+00:00</td>\n",
       "      <td>400.0</td>\n",
       "      <td>400.0</td>\n",
       "      <td>HNL</td>\n",
       "      <td>96.0</td>\n",
       "    </tr>\n",
       "    <tr>\n",
       "      <th>2</th>\n",
       "      <td>658010</td>\n",
       "      <td>PK</td>\n",
       "      <td>2014-01-09 08:00:00+00:00</td>\n",
       "      <td>2014-02-15 21:10:05+00:00</td>\n",
       "      <td>400.0</td>\n",
       "      <td>400.0</td>\n",
       "      <td>PKR</td>\n",
       "      <td>37.0</td>\n",
       "    </tr>\n",
       "    <tr>\n",
       "      <th>3</th>\n",
       "      <td>659347</td>\n",
       "      <td>KG</td>\n",
       "      <td>2014-01-17 08:00:00+00:00</td>\n",
       "      <td>2014-02-21 03:10:02+00:00</td>\n",
       "      <td>625.0</td>\n",
       "      <td>625.0</td>\n",
       "      <td>KGS</td>\n",
       "      <td>34.0</td>\n",
       "    </tr>\n",
       "    <tr>\n",
       "      <th>4</th>\n",
       "      <td>656933</td>\n",
       "      <td>PH</td>\n",
       "      <td>2013-12-17 08:00:00+00:00</td>\n",
       "      <td>2014-02-13 06:10:02+00:00</td>\n",
       "      <td>425.0</td>\n",
       "      <td>425.0</td>\n",
       "      <td>PHP</td>\n",
       "      <td>57.0</td>\n",
       "    </tr>\n",
       "    <tr>\n",
       "      <th>...</th>\n",
       "      <td>...</td>\n",
       "      <td>...</td>\n",
       "      <td>...</td>\n",
       "      <td>...</td>\n",
       "      <td>...</td>\n",
       "      <td>...</td>\n",
       "      <td>...</td>\n",
       "      <td>...</td>\n",
       "    </tr>\n",
       "    <tr>\n",
       "      <th>1419602</th>\n",
       "      <td>988180</td>\n",
       "      <td>KE</td>\n",
       "      <td>2015-11-23 08:00:00+00:00</td>\n",
       "      <td>2016-01-02 01:00:03+00:00</td>\n",
       "      <td>400.0</td>\n",
       "      <td>400.0</td>\n",
       "      <td>KES</td>\n",
       "      <td>39.0</td>\n",
       "    </tr>\n",
       "    <tr>\n",
       "      <th>1419603</th>\n",
       "      <td>988213</td>\n",
       "      <td>PH</td>\n",
       "      <td>2015-11-24 08:00:00+00:00</td>\n",
       "      <td>2016-01-02 16:40:07+00:00</td>\n",
       "      <td>300.0</td>\n",
       "      <td>300.0</td>\n",
       "      <td>PHP</td>\n",
       "      <td>39.0</td>\n",
       "    </tr>\n",
       "    <tr>\n",
       "      <th>1419604</th>\n",
       "      <td>989109</td>\n",
       "      <td>GH</td>\n",
       "      <td>2015-11-13 08:00:00+00:00</td>\n",
       "      <td>2016-01-03 22:20:04+00:00</td>\n",
       "      <td>2425.0</td>\n",
       "      <td>2425.0</td>\n",
       "      <td>GHS</td>\n",
       "      <td>51.0</td>\n",
       "    </tr>\n",
       "    <tr>\n",
       "      <th>1419605</th>\n",
       "      <td>989143</td>\n",
       "      <td>PH</td>\n",
       "      <td>2015-11-03 08:00:00+00:00</td>\n",
       "      <td>2016-01-05 08:50:02+00:00</td>\n",
       "      <td>100.0</td>\n",
       "      <td>100.0</td>\n",
       "      <td>PHP</td>\n",
       "      <td>63.0</td>\n",
       "    </tr>\n",
       "    <tr>\n",
       "      <th>1419606</th>\n",
       "      <td>989240</td>\n",
       "      <td>MG</td>\n",
       "      <td>2015-11-03 08:00:00+00:00</td>\n",
       "      <td>2016-01-03 20:50:06+00:00</td>\n",
       "      <td>175.0</td>\n",
       "      <td>175.0</td>\n",
       "      <td>MGA</td>\n",
       "      <td>61.0</td>\n",
       "    </tr>\n",
       "  </tbody>\n",
       "</table>\n",
       "<p>1419607 rows × 8 columns</p>\n",
       "</div>"
      ],
      "text/plain": [
       "         loan_id country_code             disburse_time  \\\n",
       "0         657307           PH 2013-12-22 08:00:00+00:00   \n",
       "1         657259           HN 2013-12-20 08:00:00+00:00   \n",
       "2         658010           PK 2014-01-09 08:00:00+00:00   \n",
       "3         659347           KG 2014-01-17 08:00:00+00:00   \n",
       "4         656933           PH 2013-12-17 08:00:00+00:00   \n",
       "...          ...          ...                       ...   \n",
       "1419602   988180           KE 2015-11-23 08:00:00+00:00   \n",
       "1419603   988213           PH 2015-11-24 08:00:00+00:00   \n",
       "1419604   989109           GH 2015-11-13 08:00:00+00:00   \n",
       "1419605   989143           PH 2015-11-03 08:00:00+00:00   \n",
       "1419606   989240           MG 2015-11-03 08:00:00+00:00   \n",
       "\n",
       "          planned_expiration_time  funded_amount  loan_amount currency  \\\n",
       "0       2014-02-14 03:30:06+00:00          125.0        125.0      PHP   \n",
       "1       2014-03-26 22:25:07+00:00          400.0        400.0      HNL   \n",
       "2       2014-02-15 21:10:05+00:00          400.0        400.0      PKR   \n",
       "3       2014-02-21 03:10:02+00:00          625.0        625.0      KGS   \n",
       "4       2014-02-13 06:10:02+00:00          425.0        425.0      PHP   \n",
       "...                           ...            ...          ...      ...   \n",
       "1419602 2016-01-02 01:00:03+00:00          400.0        400.0      KES   \n",
       "1419603 2016-01-02 16:40:07+00:00          300.0        300.0      PHP   \n",
       "1419604 2016-01-03 22:20:04+00:00         2425.0       2425.0      GHS   \n",
       "1419605 2016-01-05 08:50:02+00:00          100.0        100.0      PHP   \n",
       "1419606 2016-01-03 20:50:06+00:00          175.0        175.0      MGA   \n",
       "\n",
       "         duration  \n",
       "0            53.0  \n",
       "1            96.0  \n",
       "2            37.0  \n",
       "3            34.0  \n",
       "4            57.0  \n",
       "...           ...  \n",
       "1419602      39.0  \n",
       "1419603      39.0  \n",
       "1419604      51.0  \n",
       "1419605      63.0  \n",
       "1419606      61.0  \n",
       "\n",
       "[1419607 rows x 8 columns]"
      ]
     },
     "execution_count": 260,
     "metadata": {},
     "output_type": "execute_result"
    }
   ],
   "source": [
    "loans[[\"loan_id\", \"country_code\", \"disburse_time\", \"planned_expiration_time\", \"funded_amount\", \"loan_amount\", \"currency\", \"duration\"]]"
   ]
  },
  {
   "cell_type": "markdown",
   "metadata": {},
   "source": [
    "It is necessary to consider if items from the dataset contain null values for \"loan_amount\":"
   ]
  },
  {
   "cell_type": "code",
   "execution_count": 261,
   "metadata": {},
   "outputs": [
    {
     "name": "stdout",
     "output_type": "stream",
     "text": [
      "There are 0 null values in the loans dataframe\n"
     ]
    }
   ],
   "source": [
    "print(f\"There are {loans.loan_amount.isnull().sum()} null values in the loans dataframe\")"
   ]
  },
  {
   "cell_type": "markdown",
   "metadata": {},
   "source": [
    "The result is computed with a group_by and a sum function evaluated on it:"
   ]
  },
  {
   "cell_type": "code",
   "execution_count": 262,
   "metadata": {},
   "outputs": [
    {
     "name": "stderr",
     "output_type": "stream",
     "text": [
      "C:\\Users\\paolo\\anaconda3\\lib\\site-packages\\ipykernel_launcher.py:1: FutureWarning: Indexing with multiple keys (implicitly converted to a tuple of keys) will be deprecated, use a list instead.\n",
      "  \"\"\"Entry point for launching an IPython kernel.\n"
     ]
    },
    {
     "data": {
      "text/html": [
       "<div>\n",
       "<style scoped>\n",
       "    .dataframe tbody tr th:only-of-type {\n",
       "        vertical-align: middle;\n",
       "    }\n",
       "\n",
       "    .dataframe tbody tr th {\n",
       "        vertical-align: top;\n",
       "    }\n",
       "\n",
       "    .dataframe thead th {\n",
       "        text-align: right;\n",
       "    }\n",
       "</style>\n",
       "<table border=\"1\" class=\"dataframe\">\n",
       "  <thead>\n",
       "    <tr style=\"text-align: right;\">\n",
       "      <th></th>\n",
       "      <th>country_code</th>\n",
       "      <th>funded_amount</th>\n",
       "      <th>loan_amount</th>\n",
       "    </tr>\n",
       "  </thead>\n",
       "  <tbody>\n",
       "    <tr>\n",
       "      <th>0</th>\n",
       "      <td>AF</td>\n",
       "      <td>1964650.0</td>\n",
       "      <td>1967950.0</td>\n",
       "    </tr>\n",
       "    <tr>\n",
       "      <th>1</th>\n",
       "      <td>AL</td>\n",
       "      <td>3992475.0</td>\n",
       "      <td>4307350.0</td>\n",
       "    </tr>\n",
       "    <tr>\n",
       "      <th>2</th>\n",
       "      <td>AM</td>\n",
       "      <td>20284675.0</td>\n",
       "      <td>22950475.0</td>\n",
       "    </tr>\n",
       "    <tr>\n",
       "      <th>3</th>\n",
       "      <td>AZ</td>\n",
       "      <td>14191350.0</td>\n",
       "      <td>14784625.0</td>\n",
       "    </tr>\n",
       "    <tr>\n",
       "      <th>4</th>\n",
       "      <td>BA</td>\n",
       "      <td>477250.0</td>\n",
       "      <td>477250.0</td>\n",
       "    </tr>\n",
       "  </tbody>\n",
       "</table>\n",
       "</div>"
      ],
      "text/plain": [
       "  country_code  funded_amount  loan_amount\n",
       "0           AF      1964650.0    1967950.0\n",
       "1           AL      3992475.0    4307350.0\n",
       "2           AM     20284675.0   22950475.0\n",
       "3           AZ     14191350.0   14784625.0\n",
       "4           BA       477250.0     477250.0"
      ]
     },
     "execution_count": 262,
     "metadata": {},
     "output_type": "execute_result"
    }
   ],
   "source": [
    "loan_per_country = loans.groupby(\"country_code\")[\"country_code\", \"funded_amount\", \"loan_amount\"].sum().reset_index()\n",
    "loan_per_country.head()"
   ]
  },
  {
   "cell_type": "markdown",
   "metadata": {},
   "source": [
    "### 6) Like the previous point, but expressed as a percentage of the overall amount lent"
   ]
  },
  {
   "cell_type": "code",
   "execution_count": 263,
   "metadata": {},
   "outputs": [],
   "source": [
    "total_loans_amount = loan_per_country[\"loan_amount\"].sum()\n",
    "total_funded_amount = loan_per_country[\"funded_amount\"].sum()"
   ]
  },
  {
   "cell_type": "code",
   "execution_count": 264,
   "metadata": {},
   "outputs": [
    {
     "data": {
      "text/html": [
       "<div>\n",
       "<style scoped>\n",
       "    .dataframe tbody tr th:only-of-type {\n",
       "        vertical-align: middle;\n",
       "    }\n",
       "\n",
       "    .dataframe tbody tr th {\n",
       "        vertical-align: top;\n",
       "    }\n",
       "\n",
       "    .dataframe thead th {\n",
       "        text-align: right;\n",
       "    }\n",
       "</style>\n",
       "<table border=\"1\" class=\"dataframe\">\n",
       "  <thead>\n",
       "    <tr style=\"text-align: right;\">\n",
       "      <th></th>\n",
       "      <th>country_code</th>\n",
       "      <th>funded_amount</th>\n",
       "      <th>loan_amount</th>\n",
       "      <th>funded_amount_perc</th>\n",
       "      <th>loan_amount_perc</th>\n",
       "    </tr>\n",
       "  </thead>\n",
       "  <tbody>\n",
       "    <tr>\n",
       "      <th>0</th>\n",
       "      <td>AF</td>\n",
       "      <td>1964650.0</td>\n",
       "      <td>1967950.0</td>\n",
       "      <td>0.174</td>\n",
       "      <td>0.167</td>\n",
       "    </tr>\n",
       "    <tr>\n",
       "      <th>1</th>\n",
       "      <td>AL</td>\n",
       "      <td>3992475.0</td>\n",
       "      <td>4307350.0</td>\n",
       "      <td>0.353</td>\n",
       "      <td>0.365</td>\n",
       "    </tr>\n",
       "    <tr>\n",
       "      <th>2</th>\n",
       "      <td>AM</td>\n",
       "      <td>20284675.0</td>\n",
       "      <td>22950475.0</td>\n",
       "      <td>1.795</td>\n",
       "      <td>1.943</td>\n",
       "    </tr>\n",
       "    <tr>\n",
       "      <th>3</th>\n",
       "      <td>AZ</td>\n",
       "      <td>14191350.0</td>\n",
       "      <td>14784625.0</td>\n",
       "      <td>1.256</td>\n",
       "      <td>1.251</td>\n",
       "    </tr>\n",
       "    <tr>\n",
       "      <th>4</th>\n",
       "      <td>BA</td>\n",
       "      <td>477250.0</td>\n",
       "      <td>477250.0</td>\n",
       "      <td>0.042</td>\n",
       "      <td>0.040</td>\n",
       "    </tr>\n",
       "  </tbody>\n",
       "</table>\n",
       "</div>"
      ],
      "text/plain": [
       "  country_code  funded_amount  loan_amount  funded_amount_perc  \\\n",
       "0           AF      1964650.0    1967950.0               0.174   \n",
       "1           AL      3992475.0    4307350.0               0.353   \n",
       "2           AM     20284675.0   22950475.0               1.795   \n",
       "3           AZ     14191350.0   14784625.0               1.256   \n",
       "4           BA       477250.0     477250.0               0.042   \n",
       "\n",
       "   loan_amount_perc  \n",
       "0             0.167  \n",
       "1             0.365  \n",
       "2             1.943  \n",
       "3             1.251  \n",
       "4             0.040  "
      ]
     },
     "execution_count": 264,
     "metadata": {},
     "output_type": "execute_result"
    }
   ],
   "source": [
    "loan_per_country[\"funded_amount_perc\"] = round(loan_per_country[\"funded_amount\"]/total_funded_amount*100, 3)\n",
    "loan_per_country[\"loan_amount_perc\"] = round(loan_per_country[\"loan_amount\"]/total_loans_amount*100, 3)\n",
    "loan_per_country.head()"
   ]
  },
  {
   "cell_type": "code",
   "execution_count": 265,
   "metadata": {},
   "outputs": [
    {
     "data": {
      "text/html": [
       "<div>\n",
       "<style scoped>\n",
       "    .dataframe tbody tr th:only-of-type {\n",
       "        vertical-align: middle;\n",
       "    }\n",
       "\n",
       "    .dataframe tbody tr th {\n",
       "        vertical-align: top;\n",
       "    }\n",
       "\n",
       "    .dataframe thead th {\n",
       "        text-align: right;\n",
       "    }\n",
       "</style>\n",
       "<table border=\"1\" class=\"dataframe\">\n",
       "  <thead>\n",
       "    <tr style=\"text-align: right;\">\n",
       "      <th></th>\n",
       "      <th>country_code</th>\n",
       "      <th>funded_amount</th>\n",
       "      <th>loan_amount</th>\n",
       "      <th>funded_amount_perc</th>\n",
       "      <th>loan_amount_perc</th>\n",
       "    </tr>\n",
       "  </thead>\n",
       "  <tbody>\n",
       "    <tr>\n",
       "      <th>62</th>\n",
       "      <td>PH</td>\n",
       "      <td>97045925.0</td>\n",
       "      <td>97984600.0</td>\n",
       "      <td>8.587</td>\n",
       "      <td>8.294</td>\n",
       "    </tr>\n",
       "    <tr>\n",
       "      <th>60</th>\n",
       "      <td>PE</td>\n",
       "      <td>78702800.0</td>\n",
       "      <td>79437775.0</td>\n",
       "      <td>6.964</td>\n",
       "      <td>6.724</td>\n",
       "    </tr>\n",
       "    <tr>\n",
       "      <th>38</th>\n",
       "      <td>KE</td>\n",
       "      <td>63650255.0</td>\n",
       "      <td>66735975.0</td>\n",
       "      <td>5.632</td>\n",
       "      <td>5.649</td>\n",
       "    </tr>\n",
       "    <tr>\n",
       "      <th>66</th>\n",
       "      <td>PY</td>\n",
       "      <td>53715200.0</td>\n",
       "      <td>53964700.0</td>\n",
       "      <td>4.753</td>\n",
       "      <td>4.568</td>\n",
       "    </tr>\n",
       "    <tr>\n",
       "      <th>40</th>\n",
       "      <td>KH</td>\n",
       "      <td>50829425.0</td>\n",
       "      <td>51613525.0</td>\n",
       "      <td>4.497</td>\n",
       "      <td>4.369</td>\n",
       "    </tr>\n",
       "    <tr>\n",
       "      <th>...</th>\n",
       "      <td>...</td>\n",
       "      <td>...</td>\n",
       "      <td>...</td>\n",
       "      <td>...</td>\n",
       "      <td>...</td>\n",
       "    </tr>\n",
       "    <tr>\n",
       "      <th>87</th>\n",
       "      <td>VI</td>\n",
       "      <td>0.0</td>\n",
       "      <td>10000.0</td>\n",
       "      <td>0.000</td>\n",
       "      <td>0.001</td>\n",
       "    </tr>\n",
       "    <tr>\n",
       "      <th>89</th>\n",
       "      <td>VU</td>\n",
       "      <td>9250.0</td>\n",
       "      <td>9250.0</td>\n",
       "      <td>0.001</td>\n",
       "      <td>0.001</td>\n",
       "    </tr>\n",
       "    <tr>\n",
       "      <th>29</th>\n",
       "      <td>GU</td>\n",
       "      <td>8700.0</td>\n",
       "      <td>17300.0</td>\n",
       "      <td>0.001</td>\n",
       "      <td>0.001</td>\n",
       "    </tr>\n",
       "    <tr>\n",
       "      <th>12</th>\n",
       "      <td>BW</td>\n",
       "      <td>8000.0</td>\n",
       "      <td>8000.0</td>\n",
       "      <td>0.001</td>\n",
       "      <td>0.001</td>\n",
       "    </tr>\n",
       "    <tr>\n",
       "      <th>30</th>\n",
       "      <td>GZ</td>\n",
       "      <td>5000.0</td>\n",
       "      <td>5000.0</td>\n",
       "      <td>0.000</td>\n",
       "      <td>0.000</td>\n",
       "    </tr>\n",
       "  </tbody>\n",
       "</table>\n",
       "<p>96 rows × 5 columns</p>\n",
       "</div>"
      ],
      "text/plain": [
       "   country_code  funded_amount  loan_amount  funded_amount_perc  \\\n",
       "62           PH     97045925.0   97984600.0               8.587   \n",
       "60           PE     78702800.0   79437775.0               6.964   \n",
       "38           KE     63650255.0   66735975.0               5.632   \n",
       "66           PY     53715200.0   53964700.0               4.753   \n",
       "40           KH     50829425.0   51613525.0               4.497   \n",
       "..          ...            ...          ...                 ...   \n",
       "87           VI            0.0      10000.0               0.000   \n",
       "89           VU         9250.0       9250.0               0.001   \n",
       "29           GU         8700.0      17300.0               0.001   \n",
       "12           BW         8000.0       8000.0               0.001   \n",
       "30           GZ         5000.0       5000.0               0.000   \n",
       "\n",
       "    loan_amount_perc  \n",
       "62             8.294  \n",
       "60             6.724  \n",
       "38             5.649  \n",
       "66             4.568  \n",
       "40             4.369  \n",
       "..               ...  \n",
       "87             0.001  \n",
       "89             0.001  \n",
       "29             0.001  \n",
       "12             0.001  \n",
       "30             0.000  \n",
       "\n",
       "[96 rows x 5 columns]"
      ]
     },
     "execution_count": 265,
     "metadata": {},
     "output_type": "execute_result"
    }
   ],
   "source": [
    "loan_per_country.sort_values(by = \"loan_amount_perc\", ascending=False)"
   ]
  },
  {
   "cell_type": "markdown",
   "metadata": {},
   "source": [
    "As can be seen, most of the loans are made in Philippines, Peru and Kenya (the top 3 contries by loans requested)"
   ]
  },
  {
   "cell_type": "markdown",
   "metadata": {},
   "source": [
    "### 7-a) Like the three previous points, but split for each year (with respect to disburse time)"
   ]
  },
  {
   "cell_type": "markdown",
   "metadata": {},
   "source": [
    "#### How many loans have involved that country as borrowers:"
   ]
  },
  {
   "cell_type": "code",
   "execution_count": 266,
   "metadata": {},
   "outputs": [
    {
     "name": "stdout",
     "output_type": "stream",
     "text": [
      "There are 2813 null values of \"disbursed_time\", so these items will not be considered to compute the result\n"
     ]
    }
   ],
   "source": [
    "print(f\"There are {loans.disburse_time.isnull().sum()} null values of \\\"disbursed_time\\\", so these items will not be considered to compute the result\")"
   ]
  },
  {
   "cell_type": "markdown",
   "metadata": {},
   "source": [
    "The rows with null values in \"disburse_time\" are dropped, another dataset (\"loans_nonull\") is created for this purpose to avoid losing these informations:"
   ]
  },
  {
   "cell_type": "code",
   "execution_count": 267,
   "metadata": {},
   "outputs": [
    {
     "data": {
      "text/plain": [
       "1416794"
      ]
     },
     "execution_count": 267,
     "metadata": {},
     "output_type": "execute_result"
    }
   ],
   "source": [
    "loans_nonull = loans[loans.disburse_time.notnull()]\n",
    "len(loans_nonull)"
   ]
  },
  {
   "cell_type": "markdown",
   "metadata": {},
   "source": [
    "The result can be obtained by grouping the \"loans\" dataframe by \"year\";\n",
    "<br> In the first case how many loans have involved that country as borrowers is computed:"
   ]
  },
  {
   "cell_type": "code",
   "execution_count": 268,
   "metadata": {},
   "outputs": [
    {
     "data": {
      "text/html": [
       "<div>\n",
       "<style scoped>\n",
       "    .dataframe tbody tr th:only-of-type {\n",
       "        vertical-align: middle;\n",
       "    }\n",
       "\n",
       "    .dataframe tbody tr th {\n",
       "        vertical-align: top;\n",
       "    }\n",
       "\n",
       "    .dataframe thead th {\n",
       "        text-align: right;\n",
       "    }\n",
       "</style>\n",
       "<table border=\"1\" class=\"dataframe\">\n",
       "  <thead>\n",
       "    <tr style=\"text-align: right;\">\n",
       "      <th></th>\n",
       "      <th>year</th>\n",
       "      <th>number_of_loans</th>\n",
       "    </tr>\n",
       "  </thead>\n",
       "  <tbody>\n",
       "    <tr>\n",
       "      <th>0</th>\n",
       "      <td>2005</td>\n",
       "      <td>203</td>\n",
       "    </tr>\n",
       "    <tr>\n",
       "      <th>1</th>\n",
       "      <td>2006</td>\n",
       "      <td>2172</td>\n",
       "    </tr>\n",
       "    <tr>\n",
       "      <th>2</th>\n",
       "      <td>2007</td>\n",
       "      <td>24400</td>\n",
       "    </tr>\n",
       "    <tr>\n",
       "      <th>3</th>\n",
       "      <td>2008</td>\n",
       "      <td>54586</td>\n",
       "    </tr>\n",
       "    <tr>\n",
       "      <th>4</th>\n",
       "      <td>2009</td>\n",
       "      <td>83076</td>\n",
       "    </tr>\n",
       "    <tr>\n",
       "      <th>5</th>\n",
       "      <td>2010</td>\n",
       "      <td>93466</td>\n",
       "    </tr>\n",
       "    <tr>\n",
       "      <th>6</th>\n",
       "      <td>2011</td>\n",
       "      <td>114540</td>\n",
       "    </tr>\n",
       "    <tr>\n",
       "      <th>7</th>\n",
       "      <td>2012</td>\n",
       "      <td>133650</td>\n",
       "    </tr>\n",
       "    <tr>\n",
       "      <th>8</th>\n",
       "      <td>2013</td>\n",
       "      <td>140167</td>\n",
       "    </tr>\n",
       "    <tr>\n",
       "      <th>9</th>\n",
       "      <td>2014</td>\n",
       "      <td>172709</td>\n",
       "    </tr>\n",
       "    <tr>\n",
       "      <th>10</th>\n",
       "      <td>2015</td>\n",
       "      <td>183671</td>\n",
       "    </tr>\n",
       "    <tr>\n",
       "      <th>11</th>\n",
       "      <td>2016</td>\n",
       "      <td>197187</td>\n",
       "    </tr>\n",
       "    <tr>\n",
       "      <th>12</th>\n",
       "      <td>2017</td>\n",
       "      <td>216003</td>\n",
       "    </tr>\n",
       "    <tr>\n",
       "      <th>13</th>\n",
       "      <td>2018</td>\n",
       "      <td>964</td>\n",
       "    </tr>\n",
       "  </tbody>\n",
       "</table>\n",
       "</div>"
      ],
      "text/plain": [
       "    year  number_of_loans\n",
       "0   2005              203\n",
       "1   2006             2172\n",
       "2   2007            24400\n",
       "3   2008            54586\n",
       "4   2009            83076\n",
       "5   2010            93466\n",
       "6   2011           114540\n",
       "7   2012           133650\n",
       "8   2013           140167\n",
       "9   2014           172709\n",
       "10  2015           183671\n",
       "11  2016           197187\n",
       "12  2017           216003\n",
       "13  2018              964"
      ]
     },
     "execution_count": 268,
     "metadata": {},
     "output_type": "execute_result"
    }
   ],
   "source": [
    "loans_by_year = loans_nonull.groupby(loans.disburse_time.dt.year)[\"loan_id\"].count().reset_index()\n",
    "loans_by_year.columns = [\"year\", \"number_of_loans\"]\n",
    "loans_by_year.year = loans_by_year.year.astype(int)\n",
    "loans_by_year"
   ]
  },
  {
   "cell_type": "markdown",
   "metadata": {},
   "source": [
    "#### For each country, compute the overall amount of money borrowed:"
   ]
  },
  {
   "cell_type": "code",
   "execution_count": 269,
   "metadata": {},
   "outputs": [
    {
     "data": {
      "text/html": [
       "<div>\n",
       "<style scoped>\n",
       "    .dataframe tbody tr th:only-of-type {\n",
       "        vertical-align: middle;\n",
       "    }\n",
       "\n",
       "    .dataframe tbody tr th {\n",
       "        vertical-align: top;\n",
       "    }\n",
       "\n",
       "    .dataframe thead th {\n",
       "        text-align: right;\n",
       "    }\n",
       "</style>\n",
       "<table border=\"1\" class=\"dataframe\">\n",
       "  <thead>\n",
       "    <tr style=\"text-align: right;\">\n",
       "      <th></th>\n",
       "      <th>year</th>\n",
       "      <th>number_of_loans</th>\n",
       "      <th>funded_amount</th>\n",
       "      <th>loan_amount</th>\n",
       "    </tr>\n",
       "  </thead>\n",
       "  <tbody>\n",
       "    <tr>\n",
       "      <th>0</th>\n",
       "      <td>2005</td>\n",
       "      <td>203</td>\n",
       "      <td>102850.0</td>\n",
       "      <td>102850.0</td>\n",
       "    </tr>\n",
       "    <tr>\n",
       "      <th>1</th>\n",
       "      <td>2006</td>\n",
       "      <td>2172</td>\n",
       "      <td>1375175.0</td>\n",
       "      <td>1376575.0</td>\n",
       "    </tr>\n",
       "    <tr>\n",
       "      <th>2</th>\n",
       "      <td>2007</td>\n",
       "      <td>24400</td>\n",
       "      <td>15439425.0</td>\n",
       "      <td>15446525.0</td>\n",
       "    </tr>\n",
       "    <tr>\n",
       "      <th>3</th>\n",
       "      <td>2008</td>\n",
       "      <td>54586</td>\n",
       "      <td>39384425.0</td>\n",
       "      <td>39423050.0</td>\n",
       "    </tr>\n",
       "    <tr>\n",
       "      <th>4</th>\n",
       "      <td>2009</td>\n",
       "      <td>83076</td>\n",
       "      <td>59477925.0</td>\n",
       "      <td>59689475.0</td>\n",
       "    </tr>\n",
       "  </tbody>\n",
       "</table>\n",
       "</div>"
      ],
      "text/plain": [
       "   year  number_of_loans  funded_amount  loan_amount\n",
       "0  2005              203       102850.0     102850.0\n",
       "1  2006             2172      1375175.0    1376575.0\n",
       "2  2007            24400     15439425.0   15446525.0\n",
       "3  2008            54586     39384425.0   39423050.0\n",
       "4  2009            83076     59477925.0   59689475.0"
      ]
     },
     "execution_count": 269,
     "metadata": {},
     "output_type": "execute_result"
    }
   ],
   "source": [
    "loans_by_year[\"funded_amount\"] = loans_nonull.groupby(loans_nonull.disburse_time.dt.year)[\"funded_amount\"].sum().reset_index()[\"funded_amount\"]\n",
    "loans_by_year[\"loan_amount\"] = loans_nonull.groupby(loans_nonull.disburse_time.dt.year)[\"loan_amount\"].sum().reset_index()[\"loan_amount\"]\n",
    "loans_by_year.head()"
   ]
  },
  {
   "cell_type": "markdown",
   "metadata": {},
   "source": [
    "#### For each country, compute the overall amount of money borrowed as a percentage of the overall amount lent:"
   ]
  },
  {
   "cell_type": "markdown",
   "metadata": {},
   "source": [
    "For the third task the total amount of loan and funded amounts is computed; then the loan_amount and funded_amount values for each year is divided by the respective total amount"
   ]
  },
  {
   "cell_type": "code",
   "execution_count": 270,
   "metadata": {},
   "outputs": [
    {
     "name": "stdout",
     "output_type": "stream",
     "text": [
      "1128191775.0 1170496550.0\n"
     ]
    }
   ],
   "source": [
    "tot_funded = loans_by_year[\"funded_amount\"].sum()\n",
    "tot_loan = loans_by_year[\"loan_amount\"].sum()\n",
    "print(tot_funded, tot_loan)"
   ]
  },
  {
   "cell_type": "code",
   "execution_count": 271,
   "metadata": {
    "scrolled": false
   },
   "outputs": [
    {
     "data": {
      "text/html": [
       "<div>\n",
       "<style scoped>\n",
       "    .dataframe tbody tr th:only-of-type {\n",
       "        vertical-align: middle;\n",
       "    }\n",
       "\n",
       "    .dataframe tbody tr th {\n",
       "        vertical-align: top;\n",
       "    }\n",
       "\n",
       "    .dataframe thead th {\n",
       "        text-align: right;\n",
       "    }\n",
       "</style>\n",
       "<table border=\"1\" class=\"dataframe\">\n",
       "  <thead>\n",
       "    <tr style=\"text-align: right;\">\n",
       "      <th></th>\n",
       "      <th>year</th>\n",
       "      <th>number_of_loans</th>\n",
       "      <th>funded_amount</th>\n",
       "      <th>loan_amount</th>\n",
       "      <th>funded_amount_perc</th>\n",
       "      <th>loan_amount_perc</th>\n",
       "    </tr>\n",
       "  </thead>\n",
       "  <tbody>\n",
       "    <tr>\n",
       "      <th>0</th>\n",
       "      <td>2005</td>\n",
       "      <td>203</td>\n",
       "      <td>102850.0</td>\n",
       "      <td>102850.0</td>\n",
       "      <td>0.009</td>\n",
       "      <td>0.009</td>\n",
       "    </tr>\n",
       "    <tr>\n",
       "      <th>1</th>\n",
       "      <td>2006</td>\n",
       "      <td>2172</td>\n",
       "      <td>1375175.0</td>\n",
       "      <td>1376575.0</td>\n",
       "      <td>0.122</td>\n",
       "      <td>0.118</td>\n",
       "    </tr>\n",
       "    <tr>\n",
       "      <th>2</th>\n",
       "      <td>2007</td>\n",
       "      <td>24400</td>\n",
       "      <td>15439425.0</td>\n",
       "      <td>15446525.0</td>\n",
       "      <td>1.369</td>\n",
       "      <td>1.320</td>\n",
       "    </tr>\n",
       "    <tr>\n",
       "      <th>3</th>\n",
       "      <td>2008</td>\n",
       "      <td>54586</td>\n",
       "      <td>39384425.0</td>\n",
       "      <td>39423050.0</td>\n",
       "      <td>3.491</td>\n",
       "      <td>3.368</td>\n",
       "    </tr>\n",
       "    <tr>\n",
       "      <th>4</th>\n",
       "      <td>2009</td>\n",
       "      <td>83076</td>\n",
       "      <td>59477925.0</td>\n",
       "      <td>59689475.0</td>\n",
       "      <td>5.272</td>\n",
       "      <td>5.100</td>\n",
       "    </tr>\n",
       "    <tr>\n",
       "      <th>5</th>\n",
       "      <td>2010</td>\n",
       "      <td>93466</td>\n",
       "      <td>72187300.0</td>\n",
       "      <td>72609150.0</td>\n",
       "      <td>6.398</td>\n",
       "      <td>6.203</td>\n",
       "    </tr>\n",
       "    <tr>\n",
       "      <th>6</th>\n",
       "      <td>2011</td>\n",
       "      <td>114540</td>\n",
       "      <td>93601250.0</td>\n",
       "      <td>93699300.0</td>\n",
       "      <td>8.297</td>\n",
       "      <td>8.005</td>\n",
       "    </tr>\n",
       "    <tr>\n",
       "      <th>7</th>\n",
       "      <td>2012</td>\n",
       "      <td>133650</td>\n",
       "      <td>115427450.0</td>\n",
       "      <td>119977575.0</td>\n",
       "      <td>10.231</td>\n",
       "      <td>10.250</td>\n",
       "    </tr>\n",
       "    <tr>\n",
       "      <th>8</th>\n",
       "      <td>2013</td>\n",
       "      <td>140167</td>\n",
       "      <td>128301200.0</td>\n",
       "      <td>132043925.0</td>\n",
       "      <td>11.372</td>\n",
       "      <td>11.281</td>\n",
       "    </tr>\n",
       "    <tr>\n",
       "      <th>9</th>\n",
       "      <td>2014</td>\n",
       "      <td>172709</td>\n",
       "      <td>146668375.0</td>\n",
       "      <td>152270425.0</td>\n",
       "      <td>13.000</td>\n",
       "      <td>13.009</td>\n",
       "    </tr>\n",
       "    <tr>\n",
       "      <th>10</th>\n",
       "      <td>2015</td>\n",
       "      <td>183671</td>\n",
       "      <td>148808700.0</td>\n",
       "      <td>155835650.0</td>\n",
       "      <td>13.190</td>\n",
       "      <td>13.314</td>\n",
       "    </tr>\n",
       "    <tr>\n",
       "      <th>11</th>\n",
       "      <td>2016</td>\n",
       "      <td>197187</td>\n",
       "      <td>151001875.0</td>\n",
       "      <td>160978375.0</td>\n",
       "      <td>13.384</td>\n",
       "      <td>13.753</td>\n",
       "    </tr>\n",
       "    <tr>\n",
       "      <th>12</th>\n",
       "      <td>2017</td>\n",
       "      <td>216003</td>\n",
       "      <td>155644275.0</td>\n",
       "      <td>166053650.0</td>\n",
       "      <td>13.796</td>\n",
       "      <td>14.187</td>\n",
       "    </tr>\n",
       "    <tr>\n",
       "      <th>13</th>\n",
       "      <td>2018</td>\n",
       "      <td>964</td>\n",
       "      <td>771550.0</td>\n",
       "      <td>990025.0</td>\n",
       "      <td>0.068</td>\n",
       "      <td>0.085</td>\n",
       "    </tr>\n",
       "  </tbody>\n",
       "</table>\n",
       "</div>"
      ],
      "text/plain": [
       "    year  number_of_loans  funded_amount  loan_amount  funded_amount_perc  \\\n",
       "0   2005              203       102850.0     102850.0               0.009   \n",
       "1   2006             2172      1375175.0    1376575.0               0.122   \n",
       "2   2007            24400     15439425.0   15446525.0               1.369   \n",
       "3   2008            54586     39384425.0   39423050.0               3.491   \n",
       "4   2009            83076     59477925.0   59689475.0               5.272   \n",
       "5   2010            93466     72187300.0   72609150.0               6.398   \n",
       "6   2011           114540     93601250.0   93699300.0               8.297   \n",
       "7   2012           133650    115427450.0  119977575.0              10.231   \n",
       "8   2013           140167    128301200.0  132043925.0              11.372   \n",
       "9   2014           172709    146668375.0  152270425.0              13.000   \n",
       "10  2015           183671    148808700.0  155835650.0              13.190   \n",
       "11  2016           197187    151001875.0  160978375.0              13.384   \n",
       "12  2017           216003    155644275.0  166053650.0              13.796   \n",
       "13  2018              964       771550.0     990025.0               0.068   \n",
       "\n",
       "    loan_amount_perc  \n",
       "0              0.009  \n",
       "1              0.118  \n",
       "2              1.320  \n",
       "3              3.368  \n",
       "4              5.100  \n",
       "5              6.203  \n",
       "6              8.005  \n",
       "7             10.250  \n",
       "8             11.281  \n",
       "9             13.009  \n",
       "10            13.314  \n",
       "11            13.753  \n",
       "12            14.187  \n",
       "13             0.085  "
      ]
     },
     "execution_count": 271,
     "metadata": {},
     "output_type": "execute_result"
    }
   ],
   "source": [
    "loans_by_year[\"funded_amount_perc\"] = round(loans_by_year[\"funded_amount\"]/tot_funded*100, 3)\n",
    "loans_by_year[\"loan_amount_perc\"] = round(loans_by_year[\"loan_amount\"]/tot_loan*100, 3)\n",
    "loans_by_year"
   ]
  },
  {
   "cell_type": "markdown",
   "metadata": {},
   "source": [
    "### 7-b) Considering the interpretability of the exercise task number 7, also a MultiIndex version is created:"
   ]
  },
  {
   "cell_type": "markdown",
   "metadata": {},
   "source": [
    "#### How many loans have involved that country as borrowers:"
   ]
  },
  {
   "cell_type": "code",
   "execution_count": 272,
   "metadata": {},
   "outputs": [
    {
     "data": {
      "text/plain": [
       "1416794"
      ]
     },
     "execution_count": 272,
     "metadata": {},
     "output_type": "execute_result"
    }
   ],
   "source": [
    "loans_nonull = loans[loans.disburse_time.notnull()]\n",
    "len(loans_nonull)"
   ]
  },
  {
   "cell_type": "code",
   "execution_count": 273,
   "metadata": {},
   "outputs": [
    {
     "data": {
      "text/html": [
       "<div>\n",
       "<style scoped>\n",
       "    .dataframe tbody tr th:only-of-type {\n",
       "        vertical-align: middle;\n",
       "    }\n",
       "\n",
       "    .dataframe tbody tr th {\n",
       "        vertical-align: top;\n",
       "    }\n",
       "\n",
       "    .dataframe thead th {\n",
       "        text-align: right;\n",
       "    }\n",
       "</style>\n",
       "<table border=\"1\" class=\"dataframe\">\n",
       "  <thead>\n",
       "    <tr style=\"text-align: right;\">\n",
       "      <th></th>\n",
       "      <th></th>\n",
       "      <th>loan_counts</th>\n",
       "    </tr>\n",
       "    <tr>\n",
       "      <th>country_code</th>\n",
       "      <th>disburse_time</th>\n",
       "      <th></th>\n",
       "    </tr>\n",
       "  </thead>\n",
       "  <tbody>\n",
       "    <tr>\n",
       "      <th rowspan=\"7\" valign=\"top\">AF</th>\n",
       "      <th>2007.0</th>\n",
       "      <td>408</td>\n",
       "    </tr>\n",
       "    <tr>\n",
       "      <th>2008.0</th>\n",
       "      <td>370</td>\n",
       "    </tr>\n",
       "    <tr>\n",
       "      <th>2009.0</th>\n",
       "      <td>678</td>\n",
       "    </tr>\n",
       "    <tr>\n",
       "      <th>2010.0</th>\n",
       "      <td>632</td>\n",
       "    </tr>\n",
       "    <tr>\n",
       "      <th>2011.0</th>\n",
       "      <td>247</td>\n",
       "    </tr>\n",
       "    <tr>\n",
       "      <th>2015.0</th>\n",
       "      <td>1</td>\n",
       "    </tr>\n",
       "    <tr>\n",
       "      <th>2016.0</th>\n",
       "      <td>1</td>\n",
       "    </tr>\n",
       "    <tr>\n",
       "      <th rowspan=\"6\" valign=\"top\">AL</th>\n",
       "      <th>2012.0</th>\n",
       "      <td>332</td>\n",
       "    </tr>\n",
       "    <tr>\n",
       "      <th>2013.0</th>\n",
       "      <td>507</td>\n",
       "    </tr>\n",
       "    <tr>\n",
       "      <th>2014.0</th>\n",
       "      <td>603</td>\n",
       "    </tr>\n",
       "    <tr>\n",
       "      <th>2015.0</th>\n",
       "      <td>638</td>\n",
       "    </tr>\n",
       "    <tr>\n",
       "      <th>2016.0</th>\n",
       "      <td>475</td>\n",
       "    </tr>\n",
       "    <tr>\n",
       "      <th>2017.0</th>\n",
       "      <td>520</td>\n",
       "    </tr>\n",
       "    <tr>\n",
       "      <th rowspan=\"2\" valign=\"top\">AM</th>\n",
       "      <th>2009.0</th>\n",
       "      <td>51</td>\n",
       "    </tr>\n",
       "    <tr>\n",
       "      <th>2010.0</th>\n",
       "      <td>347</td>\n",
       "    </tr>\n",
       "  </tbody>\n",
       "</table>\n",
       "</div>"
      ],
      "text/plain": [
       "                            loan_counts\n",
       "country_code disburse_time             \n",
       "AF           2007.0                 408\n",
       "             2008.0                 370\n",
       "             2009.0                 678\n",
       "             2010.0                 632\n",
       "             2011.0                 247\n",
       "             2015.0                   1\n",
       "             2016.0                   1\n",
       "AL           2012.0                 332\n",
       "             2013.0                 507\n",
       "             2014.0                 603\n",
       "             2015.0                 638\n",
       "             2016.0                 475\n",
       "             2017.0                 520\n",
       "AM           2009.0                  51\n",
       "             2010.0                 347"
      ]
     },
     "execution_count": 273,
     "metadata": {},
     "output_type": "execute_result"
    }
   ],
   "source": [
    "loans_by_state_year = loans_nonull.groupby([loans.country_code, loans.disburse_time.dt.year])[\"loan_id\"].count()\n",
    "loans_by_state_year = pd.DataFrame(loans_by_state_year)\n",
    "loans_by_state_year.columns = [\"loan_counts\"]\n",
    "loans_by_state_year.head(15)\n",
    "#loans_by_state_year.year = loans_by_year.year.astype(int)\n",
    "#loans_by_state_year"
   ]
  },
  {
   "cell_type": "markdown",
   "metadata": {},
   "source": [
    "#### For each country, compute the overall amount of money borrowed:"
   ]
  },
  {
   "cell_type": "code",
   "execution_count": 274,
   "metadata": {},
   "outputs": [
    {
     "data": {
      "text/html": [
       "<div>\n",
       "<style scoped>\n",
       "    .dataframe tbody tr th:only-of-type {\n",
       "        vertical-align: middle;\n",
       "    }\n",
       "\n",
       "    .dataframe tbody tr th {\n",
       "        vertical-align: top;\n",
       "    }\n",
       "\n",
       "    .dataframe thead th {\n",
       "        text-align: right;\n",
       "    }\n",
       "</style>\n",
       "<table border=\"1\" class=\"dataframe\">\n",
       "  <thead>\n",
       "    <tr style=\"text-align: right;\">\n",
       "      <th></th>\n",
       "      <th></th>\n",
       "      <th>loan_counts</th>\n",
       "      <th>funded_amount</th>\n",
       "      <th>loan_amount</th>\n",
       "    </tr>\n",
       "    <tr>\n",
       "      <th>country_code</th>\n",
       "      <th>disburse_time</th>\n",
       "      <th></th>\n",
       "      <th></th>\n",
       "      <th></th>\n",
       "    </tr>\n",
       "  </thead>\n",
       "  <tbody>\n",
       "    <tr>\n",
       "      <th rowspan=\"7\" valign=\"top\">AF</th>\n",
       "      <th>2007.0</th>\n",
       "      <td>408</td>\n",
       "      <td>194975.0</td>\n",
       "      <td>194975.0</td>\n",
       "    </tr>\n",
       "    <tr>\n",
       "      <th>2008.0</th>\n",
       "      <td>370</td>\n",
       "      <td>365375.0</td>\n",
       "      <td>365375.0</td>\n",
       "    </tr>\n",
       "    <tr>\n",
       "      <th>2009.0</th>\n",
       "      <td>678</td>\n",
       "      <td>581825.0</td>\n",
       "      <td>585125.0</td>\n",
       "    </tr>\n",
       "    <tr>\n",
       "      <th>2010.0</th>\n",
       "      <td>632</td>\n",
       "      <td>563350.0</td>\n",
       "      <td>563350.0</td>\n",
       "    </tr>\n",
       "    <tr>\n",
       "      <th>2011.0</th>\n",
       "      <td>247</td>\n",
       "      <td>245125.0</td>\n",
       "      <td>245125.0</td>\n",
       "    </tr>\n",
       "    <tr>\n",
       "      <th>2015.0</th>\n",
       "      <td>1</td>\n",
       "      <td>6000.0</td>\n",
       "      <td>6000.0</td>\n",
       "    </tr>\n",
       "    <tr>\n",
       "      <th>2016.0</th>\n",
       "      <td>1</td>\n",
       "      <td>8000.0</td>\n",
       "      <td>8000.0</td>\n",
       "    </tr>\n",
       "    <tr>\n",
       "      <th rowspan=\"6\" valign=\"top\">AL</th>\n",
       "      <th>2012.0</th>\n",
       "      <td>332</td>\n",
       "      <td>411775.0</td>\n",
       "      <td>413000.0</td>\n",
       "    </tr>\n",
       "    <tr>\n",
       "      <th>2013.0</th>\n",
       "      <td>507</td>\n",
       "      <td>780850.0</td>\n",
       "      <td>786950.0</td>\n",
       "    </tr>\n",
       "    <tr>\n",
       "      <th>2014.0</th>\n",
       "      <td>603</td>\n",
       "      <td>875225.0</td>\n",
       "      <td>902550.0</td>\n",
       "    </tr>\n",
       "    <tr>\n",
       "      <th>2015.0</th>\n",
       "      <td>638</td>\n",
       "      <td>808150.0</td>\n",
       "      <td>844375.0</td>\n",
       "    </tr>\n",
       "    <tr>\n",
       "      <th>2016.0</th>\n",
       "      <td>475</td>\n",
       "      <td>579975.0</td>\n",
       "      <td>639025.0</td>\n",
       "    </tr>\n",
       "    <tr>\n",
       "      <th>2017.0</th>\n",
       "      <td>520</td>\n",
       "      <td>536500.0</td>\n",
       "      <td>721450.0</td>\n",
       "    </tr>\n",
       "    <tr>\n",
       "      <th rowspan=\"2\" valign=\"top\">AM</th>\n",
       "      <th>2009.0</th>\n",
       "      <td>51</td>\n",
       "      <td>91000.0</td>\n",
       "      <td>91000.0</td>\n",
       "    </tr>\n",
       "    <tr>\n",
       "      <th>2010.0</th>\n",
       "      <td>347</td>\n",
       "      <td>731875.0</td>\n",
       "      <td>731875.0</td>\n",
       "    </tr>\n",
       "  </tbody>\n",
       "</table>\n",
       "</div>"
      ],
      "text/plain": [
       "                            loan_counts  funded_amount  loan_amount\n",
       "country_code disburse_time                                         \n",
       "AF           2007.0                 408       194975.0     194975.0\n",
       "             2008.0                 370       365375.0     365375.0\n",
       "             2009.0                 678       581825.0     585125.0\n",
       "             2010.0                 632       563350.0     563350.0\n",
       "             2011.0                 247       245125.0     245125.0\n",
       "             2015.0                   1         6000.0       6000.0\n",
       "             2016.0                   1         8000.0       8000.0\n",
       "AL           2012.0                 332       411775.0     413000.0\n",
       "             2013.0                 507       780850.0     786950.0\n",
       "             2014.0                 603       875225.0     902550.0\n",
       "             2015.0                 638       808150.0     844375.0\n",
       "             2016.0                 475       579975.0     639025.0\n",
       "             2017.0                 520       536500.0     721450.0\n",
       "AM           2009.0                  51        91000.0      91000.0\n",
       "             2010.0                 347       731875.0     731875.0"
      ]
     },
     "execution_count": 274,
     "metadata": {},
     "output_type": "execute_result"
    }
   ],
   "source": [
    "funded_amount_state_year = loans_nonull.groupby([loans.country_code, loans.disburse_time.dt.year]).sum()[\"funded_amount\"]\n",
    "loan_amount_state_year = loans_nonull.groupby([loans.country_code, loans.disburse_time.dt.year]).sum()[\"loan_amount\"]\n",
    "loans_by_state_year[\"funded_amount\"] = funded_amount_state_year\n",
    "loans_by_state_year[\"loan_amount\"] = loan_amount_state_year\n",
    "loans_by_state_year.head(15)"
   ]
  },
  {
   "cell_type": "markdown",
   "metadata": {},
   "source": [
    "#### For each country, compute the overall amount of money borrowed as a percentage of the overall amount lent:"
   ]
  },
  {
   "cell_type": "code",
   "execution_count": 275,
   "metadata": {},
   "outputs": [
    {
     "name": "stdout",
     "output_type": "stream",
     "text": [
      "1128191775.0 1170496550.0\n"
     ]
    }
   ],
   "source": [
    "tot_funded = loans_by_state_year[\"funded_amount\"].sum()\n",
    "tot_loan = loans_by_state_year[\"loan_amount\"].sum()\n",
    "print(tot_funded, tot_loan)"
   ]
  },
  {
   "cell_type": "code",
   "execution_count": 276,
   "metadata": {},
   "outputs": [
    {
     "data": {
      "text/html": [
       "<div>\n",
       "<style scoped>\n",
       "    .dataframe tbody tr th:only-of-type {\n",
       "        vertical-align: middle;\n",
       "    }\n",
       "\n",
       "    .dataframe tbody tr th {\n",
       "        vertical-align: top;\n",
       "    }\n",
       "\n",
       "    .dataframe thead th {\n",
       "        text-align: right;\n",
       "    }\n",
       "</style>\n",
       "<table border=\"1\" class=\"dataframe\">\n",
       "  <thead>\n",
       "    <tr style=\"text-align: right;\">\n",
       "      <th></th>\n",
       "      <th></th>\n",
       "      <th>loan_counts</th>\n",
       "      <th>funded_amount</th>\n",
       "      <th>loan_amount</th>\n",
       "      <th>funded_amount_perc</th>\n",
       "      <th>loan_amount_perc</th>\n",
       "    </tr>\n",
       "    <tr>\n",
       "      <th>country_code</th>\n",
       "      <th>disburse_time</th>\n",
       "      <th></th>\n",
       "      <th></th>\n",
       "      <th></th>\n",
       "      <th></th>\n",
       "      <th></th>\n",
       "    </tr>\n",
       "  </thead>\n",
       "  <tbody>\n",
       "    <tr>\n",
       "      <th rowspan=\"7\" valign=\"top\">AF</th>\n",
       "      <th>2007.0</th>\n",
       "      <td>408</td>\n",
       "      <td>194975.0</td>\n",
       "      <td>194975.0</td>\n",
       "      <td>0.000</td>\n",
       "      <td>0.000</td>\n",
       "    </tr>\n",
       "    <tr>\n",
       "      <th>2008.0</th>\n",
       "      <td>370</td>\n",
       "      <td>365375.0</td>\n",
       "      <td>365375.0</td>\n",
       "      <td>0.000</td>\n",
       "      <td>0.000</td>\n",
       "    </tr>\n",
       "    <tr>\n",
       "      <th>2009.0</th>\n",
       "      <td>678</td>\n",
       "      <td>581825.0</td>\n",
       "      <td>585125.0</td>\n",
       "      <td>0.001</td>\n",
       "      <td>0.000</td>\n",
       "    </tr>\n",
       "    <tr>\n",
       "      <th>2010.0</th>\n",
       "      <td>632</td>\n",
       "      <td>563350.0</td>\n",
       "      <td>563350.0</td>\n",
       "      <td>0.000</td>\n",
       "      <td>0.000</td>\n",
       "    </tr>\n",
       "    <tr>\n",
       "      <th>2011.0</th>\n",
       "      <td>247</td>\n",
       "      <td>245125.0</td>\n",
       "      <td>245125.0</td>\n",
       "      <td>0.000</td>\n",
       "      <td>0.000</td>\n",
       "    </tr>\n",
       "    <tr>\n",
       "      <th>2015.0</th>\n",
       "      <td>1</td>\n",
       "      <td>6000.0</td>\n",
       "      <td>6000.0</td>\n",
       "      <td>0.000</td>\n",
       "      <td>0.000</td>\n",
       "    </tr>\n",
       "    <tr>\n",
       "      <th>2016.0</th>\n",
       "      <td>1</td>\n",
       "      <td>8000.0</td>\n",
       "      <td>8000.0</td>\n",
       "      <td>0.000</td>\n",
       "      <td>0.000</td>\n",
       "    </tr>\n",
       "    <tr>\n",
       "      <th rowspan=\"6\" valign=\"top\">AL</th>\n",
       "      <th>2012.0</th>\n",
       "      <td>332</td>\n",
       "      <td>411775.0</td>\n",
       "      <td>413000.0</td>\n",
       "      <td>0.000</td>\n",
       "      <td>0.000</td>\n",
       "    </tr>\n",
       "    <tr>\n",
       "      <th>2013.0</th>\n",
       "      <td>507</td>\n",
       "      <td>780850.0</td>\n",
       "      <td>786950.0</td>\n",
       "      <td>0.001</td>\n",
       "      <td>0.001</td>\n",
       "    </tr>\n",
       "    <tr>\n",
       "      <th>2014.0</th>\n",
       "      <td>603</td>\n",
       "      <td>875225.0</td>\n",
       "      <td>902550.0</td>\n",
       "      <td>0.001</td>\n",
       "      <td>0.001</td>\n",
       "    </tr>\n",
       "    <tr>\n",
       "      <th>2015.0</th>\n",
       "      <td>638</td>\n",
       "      <td>808150.0</td>\n",
       "      <td>844375.0</td>\n",
       "      <td>0.001</td>\n",
       "      <td>0.001</td>\n",
       "    </tr>\n",
       "    <tr>\n",
       "      <th>2016.0</th>\n",
       "      <td>475</td>\n",
       "      <td>579975.0</td>\n",
       "      <td>639025.0</td>\n",
       "      <td>0.001</td>\n",
       "      <td>0.001</td>\n",
       "    </tr>\n",
       "    <tr>\n",
       "      <th>2017.0</th>\n",
       "      <td>520</td>\n",
       "      <td>536500.0</td>\n",
       "      <td>721450.0</td>\n",
       "      <td>0.000</td>\n",
       "      <td>0.001</td>\n",
       "    </tr>\n",
       "    <tr>\n",
       "      <th rowspan=\"2\" valign=\"top\">AM</th>\n",
       "      <th>2009.0</th>\n",
       "      <td>51</td>\n",
       "      <td>91000.0</td>\n",
       "      <td>91000.0</td>\n",
       "      <td>0.000</td>\n",
       "      <td>0.000</td>\n",
       "    </tr>\n",
       "    <tr>\n",
       "      <th>2010.0</th>\n",
       "      <td>347</td>\n",
       "      <td>731875.0</td>\n",
       "      <td>731875.0</td>\n",
       "      <td>0.001</td>\n",
       "      <td>0.001</td>\n",
       "    </tr>\n",
       "  </tbody>\n",
       "</table>\n",
       "</div>"
      ],
      "text/plain": [
       "                            loan_counts  funded_amount  loan_amount  \\\n",
       "country_code disburse_time                                            \n",
       "AF           2007.0                 408       194975.0     194975.0   \n",
       "             2008.0                 370       365375.0     365375.0   \n",
       "             2009.0                 678       581825.0     585125.0   \n",
       "             2010.0                 632       563350.0     563350.0   \n",
       "             2011.0                 247       245125.0     245125.0   \n",
       "             2015.0                   1         6000.0       6000.0   \n",
       "             2016.0                   1         8000.0       8000.0   \n",
       "AL           2012.0                 332       411775.0     413000.0   \n",
       "             2013.0                 507       780850.0     786950.0   \n",
       "             2014.0                 603       875225.0     902550.0   \n",
       "             2015.0                 638       808150.0     844375.0   \n",
       "             2016.0                 475       579975.0     639025.0   \n",
       "             2017.0                 520       536500.0     721450.0   \n",
       "AM           2009.0                  51        91000.0      91000.0   \n",
       "             2010.0                 347       731875.0     731875.0   \n",
       "\n",
       "                            funded_amount_perc  loan_amount_perc  \n",
       "country_code disburse_time                                        \n",
       "AF           2007.0                      0.000             0.000  \n",
       "             2008.0                      0.000             0.000  \n",
       "             2009.0                      0.001             0.000  \n",
       "             2010.0                      0.000             0.000  \n",
       "             2011.0                      0.000             0.000  \n",
       "             2015.0                      0.000             0.000  \n",
       "             2016.0                      0.000             0.000  \n",
       "AL           2012.0                      0.000             0.000  \n",
       "             2013.0                      0.001             0.001  \n",
       "             2014.0                      0.001             0.001  \n",
       "             2015.0                      0.001             0.001  \n",
       "             2016.0                      0.001             0.001  \n",
       "             2017.0                      0.000             0.001  \n",
       "AM           2009.0                      0.000             0.000  \n",
       "             2010.0                      0.001             0.001  "
      ]
     },
     "execution_count": 276,
     "metadata": {},
     "output_type": "execute_result"
    }
   ],
   "source": [
    "loans_by_state_year[\"funded_amount_perc\"] = round(loans_by_state_year[\"funded_amount\"]/tot_funded, 3)\n",
    "loans_by_state_year[\"loan_amount_perc\"] = round(loans_by_state_year[\"loan_amount\"]/tot_loan, 3)\n",
    "loans_by_state_year.head(15)"
   ]
  },
  {
   "cell_type": "markdown",
   "metadata": {},
   "source": [
    "### 8) For each lender, compute the overall amount of money lent. For each loan that has more than one lender, you must assume that all lenders contributed the same amount"
   ]
  },
  {
   "cell_type": "markdown",
   "metadata": {},
   "source": [
    "The number of lenders for each loan si calculated with a simple group_by on the loan_id:"
   ]
  },
  {
   "cell_type": "code",
   "execution_count": 277,
   "metadata": {},
   "outputs": [
    {
     "data": {
      "text/html": [
       "<div>\n",
       "<style scoped>\n",
       "    .dataframe tbody tr th:only-of-type {\n",
       "        vertical-align: middle;\n",
       "    }\n",
       "\n",
       "    .dataframe tbody tr th {\n",
       "        vertical-align: top;\n",
       "    }\n",
       "\n",
       "    .dataframe thead th {\n",
       "        text-align: right;\n",
       "    }\n",
       "</style>\n",
       "<table border=\"1\" class=\"dataframe\">\n",
       "  <thead>\n",
       "    <tr style=\"text-align: right;\">\n",
       "      <th></th>\n",
       "      <th>loan_id</th>\n",
       "      <th>lender_count</th>\n",
       "    </tr>\n",
       "  </thead>\n",
       "  <tbody>\n",
       "    <tr>\n",
       "      <th>0</th>\n",
       "      <td>84</td>\n",
       "      <td>3</td>\n",
       "    </tr>\n",
       "    <tr>\n",
       "      <th>1</th>\n",
       "      <td>85</td>\n",
       "      <td>2</td>\n",
       "    </tr>\n",
       "    <tr>\n",
       "      <th>2</th>\n",
       "      <td>86</td>\n",
       "      <td>3</td>\n",
       "    </tr>\n",
       "    <tr>\n",
       "      <th>3</th>\n",
       "      <td>88</td>\n",
       "      <td>3</td>\n",
       "    </tr>\n",
       "    <tr>\n",
       "      <th>4</th>\n",
       "      <td>89</td>\n",
       "      <td>4</td>\n",
       "    </tr>\n",
       "  </tbody>\n",
       "</table>\n",
       "</div>"
      ],
      "text/plain": [
       "   loan_id  lender_count\n",
       "0       84             3\n",
       "1       85             2\n",
       "2       86             3\n",
       "3       88             3\n",
       "4       89             4"
      ]
     },
     "execution_count": 277,
     "metadata": {},
     "output_type": "execute_result"
    }
   ],
   "source": [
    "loans_lender_number = loan_lenders_norm.groupby(\"loan_id\").count().reset_index()\n",
    "loans_lender_number.columns = [\"loan_id\", \"lender_count\"]\n",
    "loans_lender_number.head()"
   ]
  },
  {
   "cell_type": "code",
   "execution_count": 278,
   "metadata": {},
   "outputs": [
    {
     "name": "stdout",
     "output_type": "stream",
     "text": [
      "There are 1387432 different loans made in the database\n"
     ]
    }
   ],
   "source": [
    "print(f\"There are {len(loans_lender_number)} different loans made in the database\")"
   ]
  },
  {
   "cell_type": "markdown",
   "metadata": {},
   "source": [
    "The lender_count for each loan is merged with the \"loan_lenders_norm\" database:"
   ]
  },
  {
   "cell_type": "code",
   "execution_count": 279,
   "metadata": {},
   "outputs": [
    {
     "data": {
      "text/html": [
       "<div>\n",
       "<style scoped>\n",
       "    .dataframe tbody tr th:only-of-type {\n",
       "        vertical-align: middle;\n",
       "    }\n",
       "\n",
       "    .dataframe tbody tr th {\n",
       "        vertical-align: top;\n",
       "    }\n",
       "\n",
       "    .dataframe thead th {\n",
       "        text-align: right;\n",
       "    }\n",
       "</style>\n",
       "<table border=\"1\" class=\"dataframe\">\n",
       "  <thead>\n",
       "    <tr style=\"text-align: right;\">\n",
       "      <th></th>\n",
       "      <th>loan_id</th>\n",
       "      <th>lender_count</th>\n",
       "      <th>lender</th>\n",
       "    </tr>\n",
       "  </thead>\n",
       "  <tbody>\n",
       "    <tr>\n",
       "      <th>0</th>\n",
       "      <td>84</td>\n",
       "      <td>3</td>\n",
       "      <td>ward</td>\n",
       "    </tr>\n",
       "    <tr>\n",
       "      <th>1</th>\n",
       "      <td>84</td>\n",
       "      <td>3</td>\n",
       "      <td>michael</td>\n",
       "    </tr>\n",
       "    <tr>\n",
       "      <th>2</th>\n",
       "      <td>84</td>\n",
       "      <td>3</td>\n",
       "      <td>brooke</td>\n",
       "    </tr>\n",
       "    <tr>\n",
       "      <th>3</th>\n",
       "      <td>85</td>\n",
       "      <td>2</td>\n",
       "      <td>michael</td>\n",
       "    </tr>\n",
       "    <tr>\n",
       "      <th>4</th>\n",
       "      <td>85</td>\n",
       "      <td>2</td>\n",
       "      <td>patrick</td>\n",
       "    </tr>\n",
       "  </tbody>\n",
       "</table>\n",
       "</div>"
      ],
      "text/plain": [
       "   loan_id  lender_count   lender\n",
       "0       84             3     ward\n",
       "1       84             3  michael\n",
       "2       84             3   brooke\n",
       "3       85             2  michael\n",
       "4       85             2  patrick"
      ]
     },
     "execution_count": 279,
     "metadata": {},
     "output_type": "execute_result"
    }
   ],
   "source": [
    "loans_lender_number = pd.merge(loans_lender_number, loan_lenders_norm, on= \"loan_id\")\n",
    "loans_lender_number.head()"
   ]
  },
  {
   "cell_type": "code",
   "execution_count": 280,
   "metadata": {},
   "outputs": [
    {
     "data": {
      "text/html": [
       "<div>\n",
       "<style scoped>\n",
       "    .dataframe tbody tr th:only-of-type {\n",
       "        vertical-align: middle;\n",
       "    }\n",
       "\n",
       "    .dataframe tbody tr th {\n",
       "        vertical-align: top;\n",
       "    }\n",
       "\n",
       "    .dataframe thead th {\n",
       "        text-align: right;\n",
       "    }\n",
       "</style>\n",
       "<table border=\"1\" class=\"dataframe\">\n",
       "  <thead>\n",
       "    <tr style=\"text-align: right;\">\n",
       "      <th></th>\n",
       "      <th>loan_id</th>\n",
       "      <th>lender_count</th>\n",
       "      <th>lender</th>\n",
       "      <th>loan_name</th>\n",
       "      <th>num_lenders_total</th>\n",
       "      <th>loan_amount</th>\n",
       "    </tr>\n",
       "  </thead>\n",
       "  <tbody>\n",
       "    <tr>\n",
       "      <th>0</th>\n",
       "      <td>84</td>\n",
       "      <td>3</td>\n",
       "      <td>ward</td>\n",
       "      <td>Justine</td>\n",
       "      <td>5</td>\n",
       "      <td>500.0</td>\n",
       "    </tr>\n",
       "    <tr>\n",
       "      <th>1</th>\n",
       "      <td>84</td>\n",
       "      <td>3</td>\n",
       "      <td>michael</td>\n",
       "      <td>Justine</td>\n",
       "      <td>5</td>\n",
       "      <td>500.0</td>\n",
       "    </tr>\n",
       "    <tr>\n",
       "      <th>2</th>\n",
       "      <td>84</td>\n",
       "      <td>3</td>\n",
       "      <td>brooke</td>\n",
       "      <td>Justine</td>\n",
       "      <td>5</td>\n",
       "      <td>500.0</td>\n",
       "    </tr>\n",
       "    <tr>\n",
       "      <th>3</th>\n",
       "      <td>85</td>\n",
       "      <td>2</td>\n",
       "      <td>michael</td>\n",
       "      <td>Geoffrey</td>\n",
       "      <td>3</td>\n",
       "      <td>500.0</td>\n",
       "    </tr>\n",
       "    <tr>\n",
       "      <th>4</th>\n",
       "      <td>85</td>\n",
       "      <td>2</td>\n",
       "      <td>patrick</td>\n",
       "      <td>Geoffrey</td>\n",
       "      <td>3</td>\n",
       "      <td>500.0</td>\n",
       "    </tr>\n",
       "  </tbody>\n",
       "</table>\n",
       "</div>"
      ],
      "text/plain": [
       "   loan_id  lender_count   lender loan_name  num_lenders_total  loan_amount\n",
       "0       84             3     ward   Justine                  5        500.0\n",
       "1       84             3  michael   Justine                  5        500.0\n",
       "2       84             3   brooke   Justine                  5        500.0\n",
       "3       85             2  michael  Geoffrey                  3        500.0\n",
       "4       85             2  patrick  Geoffrey                  3        500.0"
      ]
     },
     "execution_count": 280,
     "metadata": {},
     "output_type": "execute_result"
    }
   ],
   "source": [
    "loans_aug = pd.merge(loans_lender_number, loans[[\"loan_id\", \"loan_name\", \"num_lenders_total\", \"loan_amount\"]], on = \"loan_id\")\n",
    "loans_aug.head()"
   ]
  },
  {
   "cell_type": "markdown",
   "metadata": {},
   "source": [
    "There are multiple cases in which the number of lenders obtained in \"loans_lender_number\" is different by the \"num_lenders_total\" attribute:"
   ]
  },
  {
   "cell_type": "code",
   "execution_count": 281,
   "metadata": {},
   "outputs": [
    {
     "name": "stdout",
     "output_type": "stream",
     "text": [
      "The number of different lenders number is 25574816\n",
      "It is exactly a percentage of 0.9038981954845975\n"
     ]
    }
   ],
   "source": [
    "print(f\"The number of different lenders number is {len(loans_aug[loans_aug.lender_count != loans_aug.num_lenders_total])}\")\n",
    "print(f\"It is exactly a percentage of {len(loans_aug[loans_aug.lender_count != loans_aug.num_lenders_total])/len(loans_aug)}\")"
   ]
  },
  {
   "cell_type": "markdown",
   "metadata": {},
   "source": [
    "Based on the results obtained before, it is decided to consider only the \"lender_count\" attribute that is equal to the number of lenders for the specific loan:"
   ]
  },
  {
   "cell_type": "code",
   "execution_count": 282,
   "metadata": {},
   "outputs": [
    {
     "data": {
      "text/html": [
       "<div>\n",
       "<style scoped>\n",
       "    .dataframe tbody tr th:only-of-type {\n",
       "        vertical-align: middle;\n",
       "    }\n",
       "\n",
       "    .dataframe tbody tr th {\n",
       "        vertical-align: top;\n",
       "    }\n",
       "\n",
       "    .dataframe thead th {\n",
       "        text-align: right;\n",
       "    }\n",
       "</style>\n",
       "<table border=\"1\" class=\"dataframe\">\n",
       "  <thead>\n",
       "    <tr style=\"text-align: right;\">\n",
       "      <th></th>\n",
       "      <th>loan_id</th>\n",
       "      <th>lender_count</th>\n",
       "      <th>lender</th>\n",
       "      <th>loan_name</th>\n",
       "      <th>loan_amount</th>\n",
       "    </tr>\n",
       "  </thead>\n",
       "  <tbody>\n",
       "    <tr>\n",
       "      <th>0</th>\n",
       "      <td>84</td>\n",
       "      <td>3</td>\n",
       "      <td>ward</td>\n",
       "      <td>Justine</td>\n",
       "      <td>500.0</td>\n",
       "    </tr>\n",
       "    <tr>\n",
       "      <th>1</th>\n",
       "      <td>84</td>\n",
       "      <td>3</td>\n",
       "      <td>michael</td>\n",
       "      <td>Justine</td>\n",
       "      <td>500.0</td>\n",
       "    </tr>\n",
       "    <tr>\n",
       "      <th>2</th>\n",
       "      <td>84</td>\n",
       "      <td>3</td>\n",
       "      <td>brooke</td>\n",
       "      <td>Justine</td>\n",
       "      <td>500.0</td>\n",
       "    </tr>\n",
       "    <tr>\n",
       "      <th>3</th>\n",
       "      <td>85</td>\n",
       "      <td>2</td>\n",
       "      <td>michael</td>\n",
       "      <td>Geoffrey</td>\n",
       "      <td>500.0</td>\n",
       "    </tr>\n",
       "    <tr>\n",
       "      <th>4</th>\n",
       "      <td>85</td>\n",
       "      <td>2</td>\n",
       "      <td>patrick</td>\n",
       "      <td>Geoffrey</td>\n",
       "      <td>500.0</td>\n",
       "    </tr>\n",
       "  </tbody>\n",
       "</table>\n",
       "</div>"
      ],
      "text/plain": [
       "   loan_id  lender_count   lender loan_name  loan_amount\n",
       "0       84             3     ward   Justine        500.0\n",
       "1       84             3  michael   Justine        500.0\n",
       "2       84             3   brooke   Justine        500.0\n",
       "3       85             2  michael  Geoffrey        500.0\n",
       "4       85             2  patrick  Geoffrey        500.0"
      ]
     },
     "execution_count": 282,
     "metadata": {},
     "output_type": "execute_result"
    }
   ],
   "source": [
    "loans_aug.drop([\"num_lenders_total\"], axis = 1, inplace = True)\n",
    "loans_aug.head()"
   ]
  },
  {
   "cell_type": "markdown",
   "metadata": {},
   "source": [
    "Once all the necessary informations are computed, the total amount of the loan (\"loan_amount\") is then divided by the \"lender_count\" to obtain how much each lender contributes to the single loan:"
   ]
  },
  {
   "cell_type": "code",
   "execution_count": 283,
   "metadata": {
    "scrolled": true
   },
   "outputs": [
    {
     "data": {
      "text/html": [
       "<div>\n",
       "<style scoped>\n",
       "    .dataframe tbody tr th:only-of-type {\n",
       "        vertical-align: middle;\n",
       "    }\n",
       "\n",
       "    .dataframe tbody tr th {\n",
       "        vertical-align: top;\n",
       "    }\n",
       "\n",
       "    .dataframe thead th {\n",
       "        text-align: right;\n",
       "    }\n",
       "</style>\n",
       "<table border=\"1\" class=\"dataframe\">\n",
       "  <thead>\n",
       "    <tr style=\"text-align: right;\">\n",
       "      <th></th>\n",
       "      <th>loan_id</th>\n",
       "      <th>lender_count</th>\n",
       "      <th>lender</th>\n",
       "      <th>loan_name</th>\n",
       "      <th>loan_amount</th>\n",
       "      <th>contribute_per_lender</th>\n",
       "    </tr>\n",
       "  </thead>\n",
       "  <tbody>\n",
       "    <tr>\n",
       "      <th>0</th>\n",
       "      <td>84</td>\n",
       "      <td>3</td>\n",
       "      <td>ward</td>\n",
       "      <td>Justine</td>\n",
       "      <td>500.0</td>\n",
       "      <td>166.67</td>\n",
       "    </tr>\n",
       "    <tr>\n",
       "      <th>1</th>\n",
       "      <td>84</td>\n",
       "      <td>3</td>\n",
       "      <td>michael</td>\n",
       "      <td>Justine</td>\n",
       "      <td>500.0</td>\n",
       "      <td>166.67</td>\n",
       "    </tr>\n",
       "    <tr>\n",
       "      <th>2</th>\n",
       "      <td>84</td>\n",
       "      <td>3</td>\n",
       "      <td>brooke</td>\n",
       "      <td>Justine</td>\n",
       "      <td>500.0</td>\n",
       "      <td>166.67</td>\n",
       "    </tr>\n",
       "    <tr>\n",
       "      <th>3</th>\n",
       "      <td>85</td>\n",
       "      <td>2</td>\n",
       "      <td>michael</td>\n",
       "      <td>Geoffrey</td>\n",
       "      <td>500.0</td>\n",
       "      <td>250.00</td>\n",
       "    </tr>\n",
       "    <tr>\n",
       "      <th>4</th>\n",
       "      <td>85</td>\n",
       "      <td>2</td>\n",
       "      <td>patrick</td>\n",
       "      <td>Geoffrey</td>\n",
       "      <td>500.0</td>\n",
       "      <td>250.00</td>\n",
       "    </tr>\n",
       "  </tbody>\n",
       "</table>\n",
       "</div>"
      ],
      "text/plain": [
       "   loan_id  lender_count   lender loan_name  loan_amount  \\\n",
       "0       84             3     ward   Justine        500.0   \n",
       "1       84             3  michael   Justine        500.0   \n",
       "2       84             3   brooke   Justine        500.0   \n",
       "3       85             2  michael  Geoffrey        500.0   \n",
       "4       85             2  patrick  Geoffrey        500.0   \n",
       "\n",
       "   contribute_per_lender  \n",
       "0                 166.67  \n",
       "1                 166.67  \n",
       "2                 166.67  \n",
       "3                 250.00  \n",
       "4                 250.00  "
      ]
     },
     "execution_count": 283,
     "metadata": {},
     "output_type": "execute_result"
    }
   ],
   "source": [
    "loans_aug[\"contribute_per_lender\"] = round(loans_aug[\"loan_amount\"]/loans_aug[\"lender_count\"],2)\n",
    "loans_aug.head()"
   ]
  },
  {
   "cell_type": "markdown",
   "metadata": {},
   "source": [
    "Then the total amount lent by each lender is obtained by grouping the dataset \"loans_aug\" by the attribute \"lender\" computing the sum af all its rows grouped by the index:"
   ]
  },
  {
   "cell_type": "code",
   "execution_count": 284,
   "metadata": {},
   "outputs": [
    {
     "data": {
      "text/html": [
       "<div>\n",
       "<style scoped>\n",
       "    .dataframe tbody tr th:only-of-type {\n",
       "        vertical-align: middle;\n",
       "    }\n",
       "\n",
       "    .dataframe tbody tr th {\n",
       "        vertical-align: top;\n",
       "    }\n",
       "\n",
       "    .dataframe thead th {\n",
       "        text-align: right;\n",
       "    }\n",
       "</style>\n",
       "<table border=\"1\" class=\"dataframe\">\n",
       "  <thead>\n",
       "    <tr style=\"text-align: right;\">\n",
       "      <th></th>\n",
       "      <th>lender</th>\n",
       "      <th>contribute_per_lender</th>\n",
       "    </tr>\n",
       "  </thead>\n",
       "  <tbody>\n",
       "    <tr>\n",
       "      <th>0</th>\n",
       "      <td>000</td>\n",
       "      <td>1764.26</td>\n",
       "    </tr>\n",
       "    <tr>\n",
       "      <th>1</th>\n",
       "      <td>00000</td>\n",
       "      <td>1380.68</td>\n",
       "    </tr>\n",
       "    <tr>\n",
       "      <th>2</th>\n",
       "      <td>0002</td>\n",
       "      <td>2472.54</td>\n",
       "    </tr>\n",
       "    <tr>\n",
       "      <th>3</th>\n",
       "      <td>00mike00</td>\n",
       "      <td>52.63</td>\n",
       "    </tr>\n",
       "    <tr>\n",
       "      <th>4</th>\n",
       "      <td>0101craign0101</td>\n",
       "      <td>2623.50</td>\n",
       "    </tr>\n",
       "  </tbody>\n",
       "</table>\n",
       "</div>"
      ],
      "text/plain": [
       "           lender  contribute_per_lender\n",
       "0             000                1764.26\n",
       "1           00000                1380.68\n",
       "2            0002                2472.54\n",
       "3        00mike00                  52.63\n",
       "4  0101craign0101                2623.50"
      ]
     },
     "execution_count": 284,
     "metadata": {},
     "output_type": "execute_result"
    }
   ],
   "source": [
    "amount_per_lender = loans_aug[[\"lender\", \"contribute_per_lender\"]].groupby(\"lender\").sum().reset_index()\n",
    "amount_per_lender.head()"
   ]
  },
  {
   "cell_type": "markdown",
   "metadata": {},
   "source": [
    "### 9) For each country, compute the difference between the overall amount of money lent and the overall amount of money borrowed. Since the country of the lender is often unknown, you can assume that the true distribution among the countries is the same as the one computed from the rows where the country is known"
   ]
  },
  {
   "cell_type": "markdown",
   "metadata": {},
   "source": [
    "How many \"country_code\" values of \"lenders\" are null?"
   ]
  },
  {
   "cell_type": "code",
   "execution_count": 285,
   "metadata": {},
   "outputs": [
    {
     "data": {
      "text/plain": [
       "0.620913989342637"
      ]
     },
     "execution_count": 285,
     "metadata": {},
     "output_type": "execute_result"
    }
   ],
   "source": [
    "lenders.country_code.isnull().sum()/len(lenders)"
   ]
  },
  {
   "cell_type": "markdown",
   "metadata": {},
   "source": [
    "It is decided to split in two the dataset lenders based on the value \"country_code\": the first set is the one with all the lenders that have a correct \"country_code\" value, the second one is the one which has for each row a missing value for the \"country_code\" attribute.<br> To solve this problem it is computed the distribution of the \"country_code values\" from the first set, then the same distribution is applied to the second set by choosing randomly:"
   ]
  },
  {
   "cell_type": "code",
   "execution_count": 286,
   "metadata": {},
   "outputs": [
    {
     "name": "stdout",
     "output_type": "stream",
     "text": [
      "numero righe nulle 1458635\n",
      "numero righe non nulle 890539\n",
      "0.620913989342637 0.37908601065736297\n"
     ]
    }
   ],
   "source": [
    "num_lenders = len(lenders)\n",
    "null_lenders = lenders[lenders.country_code.isnull()]\n",
    "lenders.drop(index = null_lenders.index, inplace = True)\n",
    "print(\"numero righe nulle \" + str(len(null_lenders)))\n",
    "print(\"numero righe non nulle \" + str(len(lenders)))\n",
    "print(len(null_lenders)/num_lenders, len(lenders)/num_lenders)"
   ]
  },
  {
   "cell_type": "markdown",
   "metadata": {},
   "source": [
    "From the \"country_stats\" dataset can be obtained the \"country_name\", and this can be added (after a merge) to the \"lenders\" dataset:"
   ]
  },
  {
   "cell_type": "markdown",
   "metadata": {},
   "source": [
    "len(country_lenders)"
   ]
  },
  {
   "cell_type": "markdown",
   "metadata": {},
   "source": [
    "country_lenders = pd.merge(country_stats, lenders, on = \"country_code\", how = \"right\")\n",
    "print(len(country_lenders.country_name.isnull()))\n",
    "country_lenders = country_lenders[[\"country_name\", \"permanent_name\"]]\n",
    "country_lenders.head()"
   ]
  },
  {
   "cell_type": "markdown",
   "metadata": {},
   "source": [
    "country_lenders.country_name.isnull().sum()"
   ]
  },
  {
   "cell_type": "markdown",
   "metadata": {},
   "source": [
    "How many missing values in country_lenders? (because is a right join there are some lenders with no country_name)"
   ]
  },
  {
   "cell_type": "markdown",
   "metadata": {},
   "source": [
    "country_lenders.country_name.isnull().sum()"
   ]
  },
  {
   "cell_type": "markdown",
   "metadata": {},
   "source": [
    "no_country_index = country_lenders[country_lenders.country_name.isnull()][\"permanent_name\"]\n",
    "pd.merge(no_country_index, lenders, how = \"inner\", on = \"permanent_name\")"
   ]
  },
  {
   "cell_type": "markdown",
   "metadata": {},
   "source": [
    "For these nations there is no equivalent in the \"country_stats\" dataframe"
   ]
  },
  {
   "cell_type": "markdown",
   "metadata": {},
   "source": [
    "country_stats[country_stats.country_code == \"TW\"]"
   ]
  },
  {
   "cell_type": "markdown",
   "metadata": {},
   "source": [
    "The number of lenders for each state can be obtained by grouping \"country_lenders\" by the \"country_name\" attribute. By doing that it is obtained a distrbution of the \"country_code\" attribute for the lenders which have no missing \"country_code\":"
   ]
  },
  {
   "cell_type": "code",
   "execution_count": 287,
   "metadata": {},
   "outputs": [
    {
     "data": {
      "text/plain": [
       "0"
      ]
     },
     "execution_count": 287,
     "metadata": {},
     "output_type": "execute_result"
    }
   ],
   "source": [
    "lenders.country_code.isnull().sum()"
   ]
  },
  {
   "cell_type": "markdown",
   "metadata": {},
   "source": [
    "There are no null values as already proven, so it is computed the distribution of \"country_code\" attribute:"
   ]
  },
  {
   "cell_type": "code",
   "execution_count": 288,
   "metadata": {},
   "outputs": [
    {
     "data": {
      "text/plain": [
       "US    0.664330\n",
       "CA    0.076325\n",
       "GB    0.043097\n",
       "AU    0.041664\n",
       "DE    0.017975\n",
       "        ...   \n",
       "TF    0.000001\n",
       "GW    0.000001\n",
       "NU    0.000001\n",
       "MS    0.000001\n",
       "IO    0.000001\n",
       "Name: country_code, Length: 234, dtype: float64"
      ]
     },
     "execution_count": 288,
     "metadata": {},
     "output_type": "execute_result"
    }
   ],
   "source": [
    "counts = lenders.country_code.value_counts(normalize = True)\n",
    "counts"
   ]
  },
  {
   "cell_type": "code",
   "execution_count": 289,
   "metadata": {},
   "outputs": [
    {
     "data": {
      "text/html": [
       "<div>\n",
       "<style scoped>\n",
       "    .dataframe tbody tr th:only-of-type {\n",
       "        vertical-align: middle;\n",
       "    }\n",
       "\n",
       "    .dataframe tbody tr th {\n",
       "        vertical-align: top;\n",
       "    }\n",
       "\n",
       "    .dataframe thead th {\n",
       "        text-align: right;\n",
       "    }\n",
       "</style>\n",
       "<table border=\"1\" class=\"dataframe\">\n",
       "  <thead>\n",
       "    <tr style=\"text-align: right;\">\n",
       "      <th></th>\n",
       "      <th>country_code</th>\n",
       "      <th>lenders_count</th>\n",
       "      <th>percentage</th>\n",
       "    </tr>\n",
       "  </thead>\n",
       "  <tbody>\n",
       "    <tr>\n",
       "      <th>216</th>\n",
       "      <td>US</td>\n",
       "      <td>591612</td>\n",
       "      <td>66.433025</td>\n",
       "    </tr>\n",
       "    <tr>\n",
       "      <th>35</th>\n",
       "      <td>CA</td>\n",
       "      <td>67970</td>\n",
       "      <td>7.632456</td>\n",
       "    </tr>\n",
       "    <tr>\n",
       "      <th>72</th>\n",
       "      <td>GB</td>\n",
       "      <td>38380</td>\n",
       "      <td>4.309749</td>\n",
       "    </tr>\n",
       "    <tr>\n",
       "      <th>13</th>\n",
       "      <td>AU</td>\n",
       "      <td>37103</td>\n",
       "      <td>4.166353</td>\n",
       "    </tr>\n",
       "    <tr>\n",
       "      <th>52</th>\n",
       "      <td>DE</td>\n",
       "      <td>16007</td>\n",
       "      <td>1.797451</td>\n",
       "    </tr>\n",
       "    <tr>\n",
       "      <th>...</th>\n",
       "      <td>...</td>\n",
       "      <td>...</td>\n",
       "      <td>...</td>\n",
       "    </tr>\n",
       "    <tr>\n",
       "      <th>157</th>\n",
       "      <td>NU</td>\n",
       "      <td>1</td>\n",
       "      <td>0.000112</td>\n",
       "    </tr>\n",
       "    <tr>\n",
       "      <th>109</th>\n",
       "      <td>KM</td>\n",
       "      <td>1</td>\n",
       "      <td>0.000112</td>\n",
       "    </tr>\n",
       "    <tr>\n",
       "      <th>141</th>\n",
       "      <td>MS</td>\n",
       "      <td>1</td>\n",
       "      <td>0.000112</td>\n",
       "    </tr>\n",
       "    <tr>\n",
       "      <th>98</th>\n",
       "      <td>IO</td>\n",
       "      <td>1</td>\n",
       "      <td>0.000112</td>\n",
       "    </tr>\n",
       "    <tr>\n",
       "      <th>199</th>\n",
       "      <td>TF</td>\n",
       "      <td>1</td>\n",
       "      <td>0.000112</td>\n",
       "    </tr>\n",
       "  </tbody>\n",
       "</table>\n",
       "<p>234 rows × 3 columns</p>\n",
       "</div>"
      ],
      "text/plain": [
       "    country_code  lenders_count  percentage\n",
       "216           US         591612   66.433025\n",
       "35            CA          67970    7.632456\n",
       "72            GB          38380    4.309749\n",
       "13            AU          37103    4.166353\n",
       "52            DE          16007    1.797451\n",
       "..           ...            ...         ...\n",
       "157           NU              1    0.000112\n",
       "109           KM              1    0.000112\n",
       "141           MS              1    0.000112\n",
       "98            IO              1    0.000112\n",
       "199           TF              1    0.000112\n",
       "\n",
       "[234 rows x 3 columns]"
      ]
     },
     "execution_count": 289,
     "metadata": {},
     "output_type": "execute_result"
    }
   ],
   "source": [
    "lenders_distribution = lenders.groupby(\"country_code\").count()\n",
    "lenders_distribution = pd.DataFrame(lenders_distribution).reset_index()\n",
    "lenders_distribution = lenders_distribution.sort_values(by=\"permanent_name\", ascending = False)\n",
    "lenders_distribution = pd.merge(lenders_distribution, counts, right_index=True, left_on=\"country_code\")\n",
    "lenders_distribution.rename(columns={\"permanent_name\": \"lenders_count\", \"country_code_y\": \"percentage\"}, inplace = True)\n",
    "lenders_distribution.drop(columns=\"country_code_x\", inplace = True)\n",
    "lenders_distribution[\"percentage\"] = lenders_distribution[\"percentage\"]*100\n",
    "#total_lenders = lenders_distribution.lenders_count.sum()\n",
    "#lenders_distribution[\"percentage\"] = round(lenders_distribution[\"lenders_count\"]/total_lenders*100, 5)\n",
    "lenders_distribution[[\"country_code\", \"lenders_count\", \"percentage\"]]"
   ]
  },
  {
   "cell_type": "code",
   "execution_count": 290,
   "metadata": {
    "scrolled": false
   },
   "outputs": [
    {
     "data": {
      "text/plain": [
       "<BarContainer object of 10 artists>"
      ]
     },
     "execution_count": 290,
     "metadata": {},
     "output_type": "execute_result"
    },
    {
     "data": {
      "image/png": "[encoded data removed]",
      "text/plain": [
       "<Figure size 1080x576 with 1 Axes>"
      ]
     },
     "metadata": {
      "needs_background": "light"
     },
     "output_type": "display_data"
    }
   ],
   "source": [
    "fig, ax = plt.subplots(figsize=(15, 8))\n",
    "ax.bar(lenders_distribution[lenders_distribution.percentage>0.6].country_code, lenders_distribution[lenders_distribution.percentage>0.6].percentage)"
   ]
  },
  {
   "cell_type": "markdown",
   "metadata": {},
   "source": [
    "As can be seen, the distribution (considering only the highest percentages) for the known values of \"country_code\" shows that the majority of lenders are settled in USA, Canada, UK and Australia, other European states following by. <br>Once the distribution is obtained, it has to be applied to the rows of lenders which have no \"country_code\" value:"
   ]
  },
  {
   "cell_type": "code",
   "execution_count": 291,
   "metadata": {},
   "outputs": [
    {
     "data": {
      "text/plain": [
       "1458635"
      ]
     },
     "execution_count": 291,
     "metadata": {},
     "output_type": "execute_result"
    }
   ],
   "source": [
    "null_lenders.country_code.isnull().sum()"
   ]
  },
  {
   "cell_type": "code",
   "execution_count": 292,
   "metadata": {},
   "outputs": [
    {
     "name": "stderr",
     "output_type": "stream",
     "text": [
      "C:\\Users\\paolo\\anaconda3\\lib\\site-packages\\ipykernel_launcher.py:1: SettingWithCopyWarning: \n",
      "A value is trying to be set on a copy of a slice from a DataFrame.\n",
      "Try using .loc[row_indexer,col_indexer] = value instead\n",
      "\n",
      "See the caveats in the documentation: https://pandas.pydata.org/pandas-docs/stable/user_guide/indexing.html#returning-a-view-versus-a-copy\n",
      "  \"\"\"Entry point for launching an IPython kernel.\n"
     ]
    },
    {
     "data": {
      "text/plain": [
       "US    6.638446e-01\n",
       "CA    7.664769e-02\n",
       "GB    4.319655e-02\n",
       "AU    4.186860e-02\n",
       "DE    1.809020e-02\n",
       "          ...     \n",
       "FK    6.855725e-07\n",
       "GW    6.855725e-07\n",
       "NU    6.855725e-07\n",
       "NF    6.855725e-07\n",
       "IO    6.855725e-07\n",
       "Name: country_code, Length: 233, dtype: float64"
      ]
     },
     "execution_count": 292,
     "metadata": {},
     "output_type": "execute_result"
    }
   ],
   "source": [
    "null_lenders[\"country_code\"] = np.random.choice(counts.index, size = len(null_lenders), p = counts.values)\n",
    "null_lenders[\"country_code\"].value_counts(normalize = True)"
   ]
  },
  {
   "cell_type": "code",
   "execution_count": 293,
   "metadata": {},
   "outputs": [
    {
     "name": "stdout",
     "output_type": "stream",
     "text": [
      "There are 0 null values for country_code\n"
     ]
    }
   ],
   "source": [
    "print(f\"There are {null_lenders.country_code.isnull().sum()} null values for country_code\")"
   ]
  },
  {
   "cell_type": "markdown",
   "metadata": {},
   "source": [
    "Selecting the distribution for each state with the series \"counts\" (that became \"percentage\" in \"lenders_distribution\") does make possible to give the \"country_code\" values to all the lenders which \"country_code\" was missing."
   ]
  },
  {
   "cell_type": "code",
   "execution_count": 294,
   "metadata": {},
   "outputs": [
    {
     "data": {
      "text/html": [
       "<div>\n",
       "<style scoped>\n",
       "    .dataframe tbody tr th:only-of-type {\n",
       "        vertical-align: middle;\n",
       "    }\n",
       "\n",
       "    .dataframe tbody tr th {\n",
       "        vertical-align: top;\n",
       "    }\n",
       "\n",
       "    .dataframe thead th {\n",
       "        text-align: right;\n",
       "    }\n",
       "</style>\n",
       "<table border=\"1\" class=\"dataframe\">\n",
       "  <thead>\n",
       "    <tr style=\"text-align: right;\">\n",
       "      <th></th>\n",
       "      <th>country_code</th>\n",
       "      <th>percentage</th>\n",
       "    </tr>\n",
       "  </thead>\n",
       "  <tbody>\n",
       "    <tr>\n",
       "      <th>0</th>\n",
       "      <td>AD</td>\n",
       "      <td>0.001714</td>\n",
       "    </tr>\n",
       "    <tr>\n",
       "      <th>1</th>\n",
       "      <td>AE</td>\n",
       "      <td>0.111817</td>\n",
       "    </tr>\n",
       "    <tr>\n",
       "      <th>2</th>\n",
       "      <td>AF</td>\n",
       "      <td>0.026669</td>\n",
       "    </tr>\n",
       "    <tr>\n",
       "      <th>3</th>\n",
       "      <td>AG</td>\n",
       "      <td>0.000891</td>\n",
       "    </tr>\n",
       "    <tr>\n",
       "      <th>4</th>\n",
       "      <td>AI</td>\n",
       "      <td>0.000411</td>\n",
       "    </tr>\n",
       "    <tr>\n",
       "      <th>...</th>\n",
       "      <td>...</td>\n",
       "      <td>...</td>\n",
       "    </tr>\n",
       "    <tr>\n",
       "      <th>228</th>\n",
       "      <td>YE</td>\n",
       "      <td>0.020841</td>\n",
       "    </tr>\n",
       "    <tr>\n",
       "      <th>229</th>\n",
       "      <td>YT</td>\n",
       "      <td>0.000274</td>\n",
       "    </tr>\n",
       "    <tr>\n",
       "      <th>230</th>\n",
       "      <td>ZA</td>\n",
       "      <td>0.116684</td>\n",
       "    </tr>\n",
       "    <tr>\n",
       "      <th>231</th>\n",
       "      <td>ZM</td>\n",
       "      <td>0.007199</td>\n",
       "    </tr>\n",
       "    <tr>\n",
       "      <th>232</th>\n",
       "      <td>ZW</td>\n",
       "      <td>0.006239</td>\n",
       "    </tr>\n",
       "  </tbody>\n",
       "</table>\n",
       "<p>233 rows × 2 columns</p>\n",
       "</div>"
      ],
      "text/plain": [
       "    country_code  percentage\n",
       "0             AD    0.001714\n",
       "1             AE    0.111817\n",
       "2             AF    0.026669\n",
       "3             AG    0.000891\n",
       "4             AI    0.000411\n",
       "..           ...         ...\n",
       "228           YE    0.020841\n",
       "229           YT    0.000274\n",
       "230           ZA    0.116684\n",
       "231           ZM    0.007199\n",
       "232           ZW    0.006239\n",
       "\n",
       "[233 rows x 2 columns]"
      ]
     },
     "execution_count": 294,
     "metadata": {},
     "output_type": "execute_result"
    }
   ],
   "source": [
    "null_lenders_dist = null_lenders.groupby(\"country_code\").count()\n",
    "null_lenders_dist[\"percentage\"] = null_lenders[\"country_code\"].value_counts(normalize = True)*100\n",
    "null_lenders_dist = pd.DataFrame(null_lenders_dist).reset_index()\n",
    "null_lenders_dist[[\"country_code\", \"percentage\"]]"
   ]
  },
  {
   "cell_type": "markdown",
   "metadata": {},
   "source": [
    "Only a subset of values is used for the following plot:"
   ]
  },
  {
   "cell_type": "code",
   "execution_count": 295,
   "metadata": {
    "scrolled": true
   },
   "outputs": [
    {
     "data": {
      "text/html": [
       "<div>\n",
       "<style scoped>\n",
       "    .dataframe tbody tr th:only-of-type {\n",
       "        vertical-align: middle;\n",
       "    }\n",
       "\n",
       "    .dataframe tbody tr th {\n",
       "        vertical-align: top;\n",
       "    }\n",
       "\n",
       "    .dataframe thead th {\n",
       "        text-align: right;\n",
       "    }\n",
       "</style>\n",
       "<table border=\"1\" class=\"dataframe\">\n",
       "  <thead>\n",
       "    <tr style=\"text-align: right;\">\n",
       "      <th></th>\n",
       "      <th>country_code</th>\n",
       "      <th>percentage_x</th>\n",
       "      <th>percentage_y</th>\n",
       "    </tr>\n",
       "  </thead>\n",
       "  <tbody>\n",
       "    <tr>\n",
       "      <th>0</th>\n",
       "      <td>US</td>\n",
       "      <td>66.433025</td>\n",
       "      <td>66.384462</td>\n",
       "    </tr>\n",
       "    <tr>\n",
       "      <th>1</th>\n",
       "      <td>CA</td>\n",
       "      <td>7.632456</td>\n",
       "      <td>7.664769</td>\n",
       "    </tr>\n",
       "    <tr>\n",
       "      <th>2</th>\n",
       "      <td>GB</td>\n",
       "      <td>4.309749</td>\n",
       "      <td>4.319655</td>\n",
       "    </tr>\n",
       "    <tr>\n",
       "      <th>3</th>\n",
       "      <td>AU</td>\n",
       "      <td>4.166353</td>\n",
       "      <td>4.186860</td>\n",
       "    </tr>\n",
       "    <tr>\n",
       "      <th>4</th>\n",
       "      <td>DE</td>\n",
       "      <td>1.797451</td>\n",
       "      <td>1.809020</td>\n",
       "    </tr>\n",
       "  </tbody>\n",
       "</table>\n",
       "</div>"
      ],
      "text/plain": [
       "  country_code  percentage_x  percentage_y\n",
       "0           US     66.433025     66.384462\n",
       "1           CA      7.632456      7.664769\n",
       "2           GB      4.309749      4.319655\n",
       "3           AU      4.166353      4.186860\n",
       "4           DE      1.797451      1.809020"
      ]
     },
     "execution_count": 295,
     "metadata": {},
     "output_type": "execute_result"
    }
   ],
   "source": [
    "null_lenders_dist_plot = null_lenders_dist[null_lenders_dist.percentage>0.6].sort_values(by=\"percentage\", ascending = False)\n",
    "lenders_distribution_plot = lenders_distribution[lenders_distribution.percentage>0.6]\n",
    "compare = pd.merge(lenders_distribution_plot,null_lenders_dist_plot,how='inner',on='country_code')\n",
    "compare[[\"country_code\", \"percentage_x\", \"percentage_y\"]].head()"
   ]
  },
  {
   "cell_type": "markdown",
   "metadata": {},
   "source": [
    "For the plot only 10 countries are chosen, the others will not be shown to guarantee the plot readability:"
   ]
  },
  {
   "cell_type": "code",
   "execution_count": 296,
   "metadata": {
    "scrolled": true
   },
   "outputs": [
    {
     "name": "stdout",
     "output_type": "stream",
     "text": [
      "10 10\n"
     ]
    }
   ],
   "source": [
    "print(len(null_lenders_dist_plot), len(lenders_distribution_plot))"
   ]
  },
  {
   "cell_type": "code",
   "execution_count": 297,
   "metadata": {},
   "outputs": [
    {
     "data": {
      "text/plain": [
       "<matplotlib.legend.Legend at 0x21d38c2e108>"
      ]
     },
     "execution_count": 297,
     "metadata": {},
     "output_type": "execute_result"
    },
    {
     "data": {
      "image/png": "[encoded data removed]",
      "text/plain": [
       "<Figure size 1440x576 with 1 Axes>"
      ]
     },
     "metadata": {
      "needs_background": "light"
     },
     "output_type": "display_data"
    }
   ],
   "source": [
    "primo = np.arange(len(compare.country_code))\n",
    "fig, ax = plt.subplots(figsize=(20, 8))\n",
    "larghezza = 0.5\n",
    "ax.bar(primo-larghezza/2, lenders_distribution_plot.percentage, width = larghezza, label = \"lenders\")\n",
    "ax.bar(primo+larghezza/2, null_lenders_dist_plot.percentage, width = larghezza, label = \"null_lenders\")\n",
    "ax.set_xticks(primo)\n",
    "ax.set_xticklabels(compare.country_code)\n",
    "plt.xlabel('country_code')\n",
    "plt.ylabel('percentage%')\n",
    "plt.title(\"lenders vs null_lenders distribution\")\n",
    "plt.legend()"
   ]
  },
  {
   "cell_type": "markdown",
   "metadata": {},
   "source": [
    "To evaluate if the distribution of the data is the same of the data that were not missing, the distribution si calculated:"
   ]
  },
  {
   "cell_type": "code",
   "execution_count": 298,
   "metadata": {},
   "outputs": [
    {
     "name": "stdout",
     "output_type": "stream",
     "text": [
      "The distribution of the values for the null_lenders dataset is 100.0 equal the original lenders distribution\n",
      "NB: Rounding by 2 decimals\n"
     ]
    }
   ],
   "source": [
    "a = pd.DataFrame(list(zip(round(lenders[\"country_code\"].value_counts(normalize = True), 2).reset_index()[\"country_code\"], round(counts, 2).reset_index()[\"country_code\"])), columns =[\"original\", \"null_replaced\"])\n",
    "print(f\"The distribution of the values for the null_lenders dataset is {(a.original == a.null_replaced).sum()/len(a)*100} equal the original lenders distribution\" + \"\\n\" + \"NB: Rounding by 2 decimals\")"
   ]
  },
  {
   "cell_type": "markdown",
   "metadata": {},
   "source": [
    "Not a single row has been dropped by using the \"country_code\" attribute:"
   ]
  },
  {
   "cell_type": "code",
   "execution_count": 299,
   "metadata": {},
   "outputs": [
    {
     "name": "stdout",
     "output_type": "stream",
     "text": [
      "The initial amount of lenders is 2349174\n",
      "The amount of lenders with the correct country_code is 890539\n",
      "The amount of lenders with null value in country_code is 1458635\n",
      "The difference between the total initial amount of lenders and the null_lenders is 1458635 but since there are no null values there are no dropped observations\n"
     ]
    }
   ],
   "source": [
    "print(f\"The initial amount of lenders is {num_lenders}\")\n",
    "print(f\"The amount of lenders with the correct country_code is {len(lenders)}\")\n",
    "print(f\"The amount of lenders with null value in country_code is {len(null_lenders)}\")\n",
    "print(f\"The difference between the total initial amount of lenders and the null_lenders is {num_lenders-len(lenders)} but since there are no null values there are no dropped observations\")"
   ]
  },
  {
   "cell_type": "markdown",
   "metadata": {},
   "source": [
    "The two sets can be concatenated to obtain the original lenders dataset:"
   ]
  },
  {
   "cell_type": "code",
   "execution_count": 300,
   "metadata": {},
   "outputs": [],
   "source": [
    "lenders = pd.concat([lenders, null_lenders], axis = 0)"
   ]
  },
  {
   "cell_type": "code",
   "execution_count": 349,
   "metadata": {},
   "outputs": [
    {
     "data": {
      "text/plain": [
       "0"
      ]
     },
     "execution_count": 349,
     "metadata": {},
     "output_type": "execute_result"
    }
   ],
   "source": [
    "lenders.country_code.isnull().sum()"
   ]
  },
  {
   "cell_type": "code",
   "execution_count": 350,
   "metadata": {},
   "outputs": [
    {
     "data": {
      "text/html": [
       "<div>\n",
       "<style scoped>\n",
       "    .dataframe tbody tr th:only-of-type {\n",
       "        vertical-align: middle;\n",
       "    }\n",
       "\n",
       "    .dataframe tbody tr th {\n",
       "        vertical-align: top;\n",
       "    }\n",
       "\n",
       "    .dataframe thead th {\n",
       "        text-align: right;\n",
       "    }\n",
       "</style>\n",
       "<table border=\"1\" class=\"dataframe\">\n",
       "  <thead>\n",
       "    <tr style=\"text-align: right;\">\n",
       "      <th></th>\n",
       "      <th>permanent_name</th>\n",
       "      <th>display_name</th>\n",
       "      <th>city</th>\n",
       "      <th>state</th>\n",
       "      <th>country_code</th>\n",
       "      <th>member_since</th>\n",
       "      <th>occupation</th>\n",
       "      <th>loan_because</th>\n",
       "      <th>loan_purchase_num</th>\n",
       "      <th>invited_by</th>\n",
       "      <th>num_invited</th>\n",
       "    </tr>\n",
       "  </thead>\n",
       "  <tbody>\n",
       "    <tr>\n",
       "      <th>16</th>\n",
       "      <td>naresh2074</td>\n",
       "      <td>Naresh</td>\n",
       "      <td>NaN</td>\n",
       "      <td>NaN</td>\n",
       "      <td>US</td>\n",
       "      <td>1461303119</td>\n",
       "      <td>NaN</td>\n",
       "      <td>NaN</td>\n",
       "      <td>3.0</td>\n",
       "      <td>NaN</td>\n",
       "      <td>0</td>\n",
       "    </tr>\n",
       "    <tr>\n",
       "      <th>31</th>\n",
       "      <td>christina27976796</td>\n",
       "      <td>Christina</td>\n",
       "      <td>NaN</td>\n",
       "      <td>NaN</td>\n",
       "      <td>US</td>\n",
       "      <td>1461303341</td>\n",
       "      <td>NaN</td>\n",
       "      <td>NaN</td>\n",
       "      <td>1.0</td>\n",
       "      <td>Peter Tan</td>\n",
       "      <td>0</td>\n",
       "    </tr>\n",
       "    <tr>\n",
       "      <th>37</th>\n",
       "      <td>vikas1098</td>\n",
       "      <td>Vikas</td>\n",
       "      <td>Bengaluru</td>\n",
       "      <td>NaN</td>\n",
       "      <td>IN</td>\n",
       "      <td>1461301846</td>\n",
       "      <td>Software Engineer</td>\n",
       "      <td>NaN</td>\n",
       "      <td>2.0</td>\n",
       "      <td>NaN</td>\n",
       "      <td>0</td>\n",
       "    </tr>\n",
       "    <tr>\n",
       "      <th>39</th>\n",
       "      <td>qian1385</td>\n",
       "      <td>Qian</td>\n",
       "      <td>NaN</td>\n",
       "      <td>NaN</td>\n",
       "      <td>US</td>\n",
       "      <td>1461302036</td>\n",
       "      <td>NaN</td>\n",
       "      <td>NaN</td>\n",
       "      <td>2.0</td>\n",
       "      <td>NaN</td>\n",
       "      <td>0</td>\n",
       "    </tr>\n",
       "    <tr>\n",
       "      <th>42</th>\n",
       "      <td>xigg8769</td>\n",
       "      <td>Darla</td>\n",
       "      <td>Madison</td>\n",
       "      <td>NaN</td>\n",
       "      <td>US</td>\n",
       "      <td>1461302503</td>\n",
       "      <td>NaN</td>\n",
       "      <td>NaN</td>\n",
       "      <td>NaN</td>\n",
       "      <td>NaN</td>\n",
       "      <td>0</td>\n",
       "    </tr>\n",
       "  </tbody>\n",
       "</table>\n",
       "</div>"
      ],
      "text/plain": [
       "       permanent_name display_name       city state country_code  \\\n",
       "16         naresh2074       Naresh        NaN   NaN           US   \n",
       "31  christina27976796    Christina        NaN   NaN           US   \n",
       "37          vikas1098        Vikas  Bengaluru   NaN           IN   \n",
       "39           qian1385         Qian        NaN   NaN           US   \n",
       "42           xigg8769        Darla    Madison   NaN           US   \n",
       "\n",
       "    member_since         occupation loan_because  loan_purchase_num  \\\n",
       "16    1461303119                NaN          NaN                3.0   \n",
       "31    1461303341                NaN          NaN                1.0   \n",
       "37    1461301846  Software Engineer          NaN                2.0   \n",
       "39    1461302036                NaN          NaN                2.0   \n",
       "42    1461302503                NaN          NaN                NaN   \n",
       "\n",
       "   invited_by  num_invited  \n",
       "16        NaN            0  \n",
       "31  Peter Tan            0  \n",
       "37        NaN            0  \n",
       "39        NaN            0  \n",
       "42        NaN            0  "
      ]
     },
     "execution_count": 350,
     "metadata": {},
     "output_type": "execute_result"
    }
   ],
   "source": [
    "lenders.head()"
   ]
  },
  {
   "cell_type": "markdown",
   "metadata": {},
   "source": [
    "Now all the countries for all the lenders are known.<BR>in the previous task (8) the amount for each lender has been computed and it can be used to compute the total amount of lent money for each state.\n",
    "<br> First the \"amount_per_lender\" dataset is merged with \"lenders\" dataset to obtain the \"country_code\" for each lender and the contribute that each lender gives:"
   ]
  },
  {
   "cell_type": "code",
   "execution_count": 363,
   "metadata": {
    "scrolled": true
   },
   "outputs": [
    {
     "data": {
      "text/html": [
       "<div>\n",
       "<style scoped>\n",
       "    .dataframe tbody tr th:only-of-type {\n",
       "        vertical-align: middle;\n",
       "    }\n",
       "\n",
       "    .dataframe tbody tr th {\n",
       "        vertical-align: top;\n",
       "    }\n",
       "\n",
       "    .dataframe thead th {\n",
       "        text-align: right;\n",
       "    }\n",
       "</style>\n",
       "<table border=\"1\" class=\"dataframe\">\n",
       "  <thead>\n",
       "    <tr style=\"text-align: right;\">\n",
       "      <th></th>\n",
       "      <th>lender</th>\n",
       "      <th>contribute_per_lender</th>\n",
       "    </tr>\n",
       "  </thead>\n",
       "  <tbody>\n",
       "    <tr>\n",
       "      <th>0</th>\n",
       "      <td>000</td>\n",
       "      <td>1764.26</td>\n",
       "    </tr>\n",
       "    <tr>\n",
       "      <th>1</th>\n",
       "      <td>00000</td>\n",
       "      <td>1380.68</td>\n",
       "    </tr>\n",
       "    <tr>\n",
       "      <th>2</th>\n",
       "      <td>0002</td>\n",
       "      <td>2472.54</td>\n",
       "    </tr>\n",
       "    <tr>\n",
       "      <th>3</th>\n",
       "      <td>00mike00</td>\n",
       "      <td>52.63</td>\n",
       "    </tr>\n",
       "    <tr>\n",
       "      <th>4</th>\n",
       "      <td>0101craign0101</td>\n",
       "      <td>2623.50</td>\n",
       "    </tr>\n",
       "  </tbody>\n",
       "</table>\n",
       "</div>"
      ],
      "text/plain": [
       "           lender  contribute_per_lender\n",
       "0             000                1764.26\n",
       "1           00000                1380.68\n",
       "2            0002                2472.54\n",
       "3        00mike00                  52.63\n",
       "4  0101craign0101                2623.50"
      ]
     },
     "execution_count": 363,
     "metadata": {},
     "output_type": "execute_result"
    }
   ],
   "source": [
    "amount_per_lender.head()"
   ]
  },
  {
   "cell_type": "code",
   "execution_count": 364,
   "metadata": {},
   "outputs": [
    {
     "data": {
      "text/html": [
       "<div>\n",
       "<style scoped>\n",
       "    .dataframe tbody tr th:only-of-type {\n",
       "        vertical-align: middle;\n",
       "    }\n",
       "\n",
       "    .dataframe tbody tr th {\n",
       "        vertical-align: top;\n",
       "    }\n",
       "\n",
       "    .dataframe thead th {\n",
       "        text-align: right;\n",
       "    }\n",
       "</style>\n",
       "<table border=\"1\" class=\"dataframe\">\n",
       "  <thead>\n",
       "    <tr style=\"text-align: right;\">\n",
       "      <th></th>\n",
       "      <th>country_code</th>\n",
       "      <th>lender</th>\n",
       "      <th>lent</th>\n",
       "    </tr>\n",
       "  </thead>\n",
       "  <tbody>\n",
       "    <tr>\n",
       "      <th>166808</th>\n",
       "      <td>US</td>\n",
       "      <td>000</td>\n",
       "      <td>1764.26</td>\n",
       "    </tr>\n",
       "    <tr>\n",
       "      <th>327156</th>\n",
       "      <td>DE</td>\n",
       "      <td>00000</td>\n",
       "      <td>1380.68</td>\n",
       "    </tr>\n",
       "    <tr>\n",
       "      <th>112735</th>\n",
       "      <td>US</td>\n",
       "      <td>0002</td>\n",
       "      <td>2472.54</td>\n",
       "    </tr>\n",
       "    <tr>\n",
       "      <th>1055607</th>\n",
       "      <td>US</td>\n",
       "      <td>00mike00</td>\n",
       "      <td>52.63</td>\n",
       "    </tr>\n",
       "    <tr>\n",
       "      <th>61658</th>\n",
       "      <td>US</td>\n",
       "      <td>0101craign0101</td>\n",
       "      <td>2623.50</td>\n",
       "    </tr>\n",
       "  </tbody>\n",
       "</table>\n",
       "</div>"
      ],
      "text/plain": [
       "        country_code          lender     lent\n",
       "166808            US             000  1764.26\n",
       "327156            DE           00000  1380.68\n",
       "112735            US            0002  2472.54\n",
       "1055607           US        00mike00    52.63\n",
       "61658             US  0101craign0101  2623.50"
      ]
     },
     "execution_count": 364,
     "metadata": {},
     "output_type": "execute_result"
    }
   ],
   "source": [
    "lenders_country_amount = pd.merge(lenders[[\"permanent_name\", \"country_code\"]], amount_per_lender, left_on=\"permanent_name\", right_on=\"lender\").sort_values(by=\"permanent_name\", ascending=True)\n",
    "lenders_country_amount.drop(columns=\"permanent_name\", inplace = True)\n",
    "lenders_country_amount.rename(columns={\"contribute_per_lender\":\"lent\"}, inplace = True)\n",
    "lenders_country_amount.head()"
   ]
  },
  {
   "cell_type": "code",
   "execution_count": 365,
   "metadata": {},
   "outputs": [
    {
     "name": "stdout",
     "output_type": "stream",
     "text": [
      "1383799 1383799\n"
     ]
    }
   ],
   "source": [
    "print(len(amount_per_lender), len(lenders_country_amount))"
   ]
  },
  {
   "cell_type": "markdown",
   "metadata": {},
   "source": [
    "The amount of the contrinute lent by each state is then computed by grouping by the attribute \"country_code\":"
   ]
  },
  {
   "cell_type": "code",
   "execution_count": 366,
   "metadata": {},
   "outputs": [
    {
     "data": {
      "text/html": [
       "<div>\n",
       "<style scoped>\n",
       "    .dataframe tbody tr th:only-of-type {\n",
       "        vertical-align: middle;\n",
       "    }\n",
       "\n",
       "    .dataframe tbody tr th {\n",
       "        vertical-align: top;\n",
       "    }\n",
       "\n",
       "    .dataframe thead th {\n",
       "        text-align: right;\n",
       "    }\n",
       "</style>\n",
       "<table border=\"1\" class=\"dataframe\">\n",
       "  <thead>\n",
       "    <tr style=\"text-align: right;\">\n",
       "      <th></th>\n",
       "      <th>lent</th>\n",
       "    </tr>\n",
       "    <tr>\n",
       "      <th>country_code</th>\n",
       "      <th></th>\n",
       "    </tr>\n",
       "  </thead>\n",
       "  <tbody>\n",
       "    <tr>\n",
       "      <th>AD</th>\n",
       "      <td>20649.60</td>\n",
       "    </tr>\n",
       "    <tr>\n",
       "      <th>AE</th>\n",
       "      <td>1949916.40</td>\n",
       "    </tr>\n",
       "    <tr>\n",
       "      <th>AF</th>\n",
       "      <td>189960.84</td>\n",
       "    </tr>\n",
       "    <tr>\n",
       "      <th>AG</th>\n",
       "      <td>1399.74</td>\n",
       "    </tr>\n",
       "    <tr>\n",
       "      <th>AI</th>\n",
       "      <td>368.35</td>\n",
       "    </tr>\n",
       "    <tr>\n",
       "      <th>...</th>\n",
       "      <td>...</td>\n",
       "    </tr>\n",
       "    <tr>\n",
       "      <th>YE</th>\n",
       "      <td>63700.83</td>\n",
       "    </tr>\n",
       "    <tr>\n",
       "      <th>YT</th>\n",
       "      <td>256.81</td>\n",
       "    </tr>\n",
       "    <tr>\n",
       "      <th>ZA</th>\n",
       "      <td>715271.12</td>\n",
       "    </tr>\n",
       "    <tr>\n",
       "      <th>ZM</th>\n",
       "      <td>76754.03</td>\n",
       "    </tr>\n",
       "    <tr>\n",
       "      <th>ZW</th>\n",
       "      <td>23498.91</td>\n",
       "    </tr>\n",
       "  </tbody>\n",
       "</table>\n",
       "<p>232 rows × 1 columns</p>\n",
       "</div>"
      ],
      "text/plain": [
       "                    lent\n",
       "country_code            \n",
       "AD              20649.60\n",
       "AE            1949916.40\n",
       "AF             189960.84\n",
       "AG               1399.74\n",
       "AI                368.35\n",
       "...                  ...\n",
       "YE              63700.83\n",
       "YT                256.81\n",
       "ZA             715271.12\n",
       "ZM              76754.03\n",
       "ZW              23498.91\n",
       "\n",
       "[232 rows x 1 columns]"
      ]
     },
     "execution_count": 366,
     "metadata": {},
     "output_type": "execute_result"
    }
   ],
   "source": [
    "lenders_country_amount = lenders_country_amount.groupby(\"country_code\").sum()\n",
    "lenders_country_amount"
   ]
  },
  {
   "cell_type": "markdown",
   "metadata": {},
   "source": [
    "The amount of money borrowed from each state is already contained in \"loan_per_country\" dataset:"
   ]
  },
  {
   "cell_type": "code",
   "execution_count": 367,
   "metadata": {},
   "outputs": [
    {
     "data": {
      "text/html": [
       "<div>\n",
       "<style scoped>\n",
       "    .dataframe tbody tr th:only-of-type {\n",
       "        vertical-align: middle;\n",
       "    }\n",
       "\n",
       "    .dataframe tbody tr th {\n",
       "        vertical-align: top;\n",
       "    }\n",
       "\n",
       "    .dataframe thead th {\n",
       "        text-align: right;\n",
       "    }\n",
       "</style>\n",
       "<table border=\"1\" class=\"dataframe\">\n",
       "  <thead>\n",
       "    <tr style=\"text-align: right;\">\n",
       "      <th></th>\n",
       "      <th>country_code</th>\n",
       "      <th>funded_amount</th>\n",
       "      <th>loan_amount</th>\n",
       "      <th>funded_amount_perc</th>\n",
       "      <th>loan_amount_perc</th>\n",
       "    </tr>\n",
       "  </thead>\n",
       "  <tbody>\n",
       "    <tr>\n",
       "      <th>0</th>\n",
       "      <td>AF</td>\n",
       "      <td>1964650.0</td>\n",
       "      <td>1967950.0</td>\n",
       "      <td>0.174</td>\n",
       "      <td>0.167</td>\n",
       "    </tr>\n",
       "    <tr>\n",
       "      <th>1</th>\n",
       "      <td>AL</td>\n",
       "      <td>3992475.0</td>\n",
       "      <td>4307350.0</td>\n",
       "      <td>0.353</td>\n",
       "      <td>0.365</td>\n",
       "    </tr>\n",
       "    <tr>\n",
       "      <th>2</th>\n",
       "      <td>AM</td>\n",
       "      <td>20284675.0</td>\n",
       "      <td>22950475.0</td>\n",
       "      <td>1.795</td>\n",
       "      <td>1.943</td>\n",
       "    </tr>\n",
       "    <tr>\n",
       "      <th>3</th>\n",
       "      <td>AZ</td>\n",
       "      <td>14191350.0</td>\n",
       "      <td>14784625.0</td>\n",
       "      <td>1.256</td>\n",
       "      <td>1.251</td>\n",
       "    </tr>\n",
       "    <tr>\n",
       "      <th>4</th>\n",
       "      <td>BA</td>\n",
       "      <td>477250.0</td>\n",
       "      <td>477250.0</td>\n",
       "      <td>0.042</td>\n",
       "      <td>0.040</td>\n",
       "    </tr>\n",
       "  </tbody>\n",
       "</table>\n",
       "</div>"
      ],
      "text/plain": [
       "  country_code  funded_amount  loan_amount  funded_amount_perc  \\\n",
       "0           AF      1964650.0    1967950.0               0.174   \n",
       "1           AL      3992475.0    4307350.0               0.353   \n",
       "2           AM     20284675.0   22950475.0               1.795   \n",
       "3           AZ     14191350.0   14784625.0               1.256   \n",
       "4           BA       477250.0     477250.0               0.042   \n",
       "\n",
       "   loan_amount_perc  \n",
       "0             0.167  \n",
       "1             0.365  \n",
       "2             1.943  \n",
       "3             1.251  \n",
       "4             0.040  "
      ]
     },
     "execution_count": 367,
     "metadata": {},
     "output_type": "execute_result"
    }
   ],
   "source": [
    "loan_per_country.head()"
   ]
  },
  {
   "cell_type": "code",
   "execution_count": 368,
   "metadata": {},
   "outputs": [
    {
     "data": {
      "text/html": [
       "<div>\n",
       "<style scoped>\n",
       "    .dataframe tbody tr th:only-of-type {\n",
       "        vertical-align: middle;\n",
       "    }\n",
       "\n",
       "    .dataframe tbody tr th {\n",
       "        vertical-align: top;\n",
       "    }\n",
       "\n",
       "    .dataframe thead th {\n",
       "        text-align: right;\n",
       "    }\n",
       "</style>\n",
       "<table border=\"1\" class=\"dataframe\">\n",
       "  <thead>\n",
       "    <tr style=\"text-align: right;\">\n",
       "      <th></th>\n",
       "      <th>country_code</th>\n",
       "      <th>borrowed</th>\n",
       "      <th>lent</th>\n",
       "      <th>difference</th>\n",
       "    </tr>\n",
       "  </thead>\n",
       "  <tbody>\n",
       "    <tr>\n",
       "      <th>0</th>\n",
       "      <td>AD</td>\n",
       "      <td>NaN</td>\n",
       "      <td>20649.60</td>\n",
       "      <td>-20649.60</td>\n",
       "    </tr>\n",
       "    <tr>\n",
       "      <th>1</th>\n",
       "      <td>AE</td>\n",
       "      <td>NaN</td>\n",
       "      <td>1949916.40</td>\n",
       "      <td>-1949916.40</td>\n",
       "    </tr>\n",
       "    <tr>\n",
       "      <th>2</th>\n",
       "      <td>AF</td>\n",
       "      <td>1967950.0</td>\n",
       "      <td>189960.84</td>\n",
       "      <td>1777989.16</td>\n",
       "    </tr>\n",
       "    <tr>\n",
       "      <th>3</th>\n",
       "      <td>AG</td>\n",
       "      <td>NaN</td>\n",
       "      <td>1399.74</td>\n",
       "      <td>-1399.74</td>\n",
       "    </tr>\n",
       "    <tr>\n",
       "      <th>4</th>\n",
       "      <td>AI</td>\n",
       "      <td>NaN</td>\n",
       "      <td>368.35</td>\n",
       "      <td>-368.35</td>\n",
       "    </tr>\n",
       "    <tr>\n",
       "      <th>...</th>\n",
       "      <td>...</td>\n",
       "      <td>...</td>\n",
       "      <td>...</td>\n",
       "      <td>...</td>\n",
       "    </tr>\n",
       "    <tr>\n",
       "      <th>227</th>\n",
       "      <td>YE</td>\n",
       "      <td>3444000.0</td>\n",
       "      <td>63700.83</td>\n",
       "      <td>3380299.17</td>\n",
       "    </tr>\n",
       "    <tr>\n",
       "      <th>228</th>\n",
       "      <td>YT</td>\n",
       "      <td>NaN</td>\n",
       "      <td>256.81</td>\n",
       "      <td>-256.81</td>\n",
       "    </tr>\n",
       "    <tr>\n",
       "      <th>229</th>\n",
       "      <td>ZA</td>\n",
       "      <td>1006525.0</td>\n",
       "      <td>715271.12</td>\n",
       "      <td>291253.88</td>\n",
       "    </tr>\n",
       "    <tr>\n",
       "      <th>230</th>\n",
       "      <td>ZM</td>\n",
       "      <td>1978975.0</td>\n",
       "      <td>76754.03</td>\n",
       "      <td>1902220.97</td>\n",
       "    </tr>\n",
       "    <tr>\n",
       "      <th>231</th>\n",
       "      <td>ZW</td>\n",
       "      <td>5851875.0</td>\n",
       "      <td>23498.91</td>\n",
       "      <td>5828376.09</td>\n",
       "    </tr>\n",
       "  </tbody>\n",
       "</table>\n",
       "<p>232 rows × 4 columns</p>\n",
       "</div>"
      ],
      "text/plain": [
       "    country_code   borrowed        lent  difference\n",
       "0             AD        NaN    20649.60   -20649.60\n",
       "1             AE        NaN  1949916.40 -1949916.40\n",
       "2             AF  1967950.0   189960.84  1777989.16\n",
       "3             AG        NaN     1399.74    -1399.74\n",
       "4             AI        NaN      368.35     -368.35\n",
       "..           ...        ...         ...         ...\n",
       "227           YE  3444000.0    63700.83  3380299.17\n",
       "228           YT        NaN      256.81     -256.81\n",
       "229           ZA  1006525.0   715271.12   291253.88\n",
       "230           ZM  1978975.0    76754.03  1902220.97\n",
       "231           ZW  5851875.0    23498.91  5828376.09\n",
       "\n",
       "[232 rows x 4 columns]"
      ]
     },
     "execution_count": 368,
     "metadata": {},
     "output_type": "execute_result"
    }
   ],
   "source": [
    "lenders_country_amount = pd.merge(lenders_country_amount, loan_per_country, on =\"country_code\", how = \"left\")\n",
    "lenders_country_amount.rename(columns={\"loan_amount\": \"borrowed\"}, inplace = True)\n",
    "lenders_country_amount = lenders_country_amount[[\"country_code\", \"borrowed\", \"lent\"]]\n",
    "#lenders_country_amount[\"difference\"] = lenders_country_amount[\"borrowed\"] - lenders_country_amount[\"lent\"]\n",
    "lenders_country_amount['difference'] = lenders_country_amount.apply(lambda row: -row[\"lent\"] if np.isnan(row[\"borrowed\"]) else row[\"borrowed\"]- row[\"lent\"], axis=1)\n",
    "lenders_country_amount"
   ]
  },
  {
   "cell_type": "markdown",
   "metadata": {},
   "source": [
    "Many countries haven't borrowed money, in this case the difference is the negative of the \"lent\" attribute"
   ]
  },
  {
   "cell_type": "markdown",
   "metadata": {},
   "source": [
    "### 9) TEMPORANEO VECCHIO 9"
   ]
  },
  {
   "cell_type": "markdown",
   "metadata": {},
   "source": [
    "lenders_distribution = country_lenders.groupby(\"country_name\").count()\n",
    "lenders_distribution = pd.DataFrame(lenders_distribution).reset_index()\n",
    "lenders_distribution = lenders_distribution.sort_values(by=\"permanent_name\", ascending = False)\n",
    "lenders_distribution = pd.merge(lenders_distribution, counts, right_index=True, left_on=\"country_name\")\n",
    "lenders_distribution.rename(columns={\"permanent_name\": \"lenders_count\", \"country_name_y\": \"percentage\"}, inplace = True)\n",
    "lenders_distribution.drop(columns=\"country_name_x\", inplace = True)\n",
    "lenders_distribution[\"percentage\"] = lenders_distribution[\"percentage\"]*100\n",
    "#total_lenders = lenders_distribution.lenders_count.sum()\n",
    "#lenders_distribution[\"percentage\"] = round(lenders_distribution[\"lenders_count\"]/total_lenders*100, 5)\n",
    "lenders_distribution\n",
    "\n",
    "lenders_distribution[lenders_distribution.country_name.isnull()]\n",
    "\n",
    "fig, ax = plt.subplots(figsize=(15, 8))\n",
    "ax.bar(lenders_distribution[lenders_distribution.percentage>0.6].country_name, lenders_distribution[lenders_distribution.percentage>0.6].percentage)\n",
    "\n",
    "#As can be seen, the distribution (considering only the highest percentages) for the known values of \"country_name\" shows that the majority of lenders are settled in USA, Canada, UK and Australia, other European states following by. <br>Once the distribution is obtained, it has to be applied to the rows of lenders which have no \"country_name\" value:\n",
    "\n",
    "null_lenders[\"country_name\"] = np.random.choice(counts.index, size = len(null_lenders), p = counts.values)\n",
    "null_lenders[\"country_name\"].value_counts(normalize = True)"
   ]
  },
  {
   "cell_type": "markdown",
   "metadata": {},
   "source": [
    "Selecting the distribution for each state with the series \"counts\" (that became \"percentage\" in \"lenders_distribution\") does make possible to give the \"country_name\" values to all the lenders which \"country_code\" was missing.<br> Now these values can be merged in the \"country_lenders\" dataframe:"
   ]
  },
  {
   "cell_type": "markdown",
   "metadata": {},
   "source": [
    "null_lenders.head()"
   ]
  },
  {
   "cell_type": "markdown",
   "metadata": {},
   "source": [
    "null_lenders_dist = null_lenders.groupby(\"country_name\").count()\n",
    "null_lenders_dist[\"percentage\"] = null_lenders[\"country_name\"].value_counts(normalize = True)*100\n",
    "null_lenders_dist = pd.DataFrame(null_lenders_dist).reset_index()\n",
    "null_lenders_dist"
   ]
  },
  {
   "cell_type": "markdown",
   "metadata": {},
   "source": [
    "null_lenders_dist_plot = null_lenders_dist[null_lenders_dist.percentage>0.6].sort_values(by=\"percentage\", ascending = False)\n",
    "lenders_distribution_plot = lenders_distribution[lenders_distribution.percentage>0.6]\n",
    "compare = pd.merge(lenders_distribution_plot,null_lenders_dist_plot,how='inner',on='country_name')\n",
    "compare.head()"
   ]
  },
  {
   "cell_type": "markdown",
   "metadata": {},
   "source": [
    "print(len(null_lenders_dist_plot), len(lenders_distribution_plot))"
   ]
  },
  {
   "cell_type": "markdown",
   "metadata": {},
   "source": [
    "null_lenders_dist_plot.sort_values(by=\"percentage\", ascending = False)"
   ]
  },
  {
   "cell_type": "markdown",
   "metadata": {},
   "source": [
    "lenders_distribution_plot"
   ]
  },
  {
   "cell_type": "markdown",
   "metadata": {},
   "source": [
    "primo = np.arange(len(compare.country_name))\n",
    "fig, ax = plt.subplots(figsize=(20, 8))\n",
    "larghezza = 0.5\n",
    "ax.bar(primo-larghezza/2, lenders_distribution_plot.percentage, width = larghezza, label = \"lenders\")\n",
    "ax.bar(primo+larghezza/2, null_lenders_dist_plot.percentage, width = larghezza, label = \"null_lenders\")\n",
    "ax.set_xticks(primo)\n",
    "ax.set_xticklabels(compare.country_name)\n",
    "plt.xlabel('country_name')\n",
    "plt.ylabel('percentage%')\n",
    "plt.title(\"lenders vs null_lenders distribution\")\n",
    "plt.legend()"
   ]
  },
  {
   "cell_type": "markdown",
   "metadata": {},
   "source": [
    "a = pd.DataFrame(list(zip(round(null_lenders[\"country_name\"].value_counts(normalize = True), 2).reset_index()[\"country_name\"], round(counts, 2).reset_index()[\"country_name\"])), columns =[\"original\", \"null_replaced\"])\n",
    "print(f\"The distribution of the values for the null_lenders dataset is {(a.original == a.null_replaced).sum()/len(a)*100} equal the original lenders distribution\" + \"\\n\" + \"NB: Rounding by 2 decimals\")m"
   ]
  },
  {
   "cell_type": "markdown",
   "metadata": {},
   "source": [
    "Proven the fact that the distribution is the same, the two dataframe can be concatenated to obtain the whole lenders set:"
   ]
  },
  {
   "cell_type": "markdown",
   "metadata": {},
   "source": [
    "print(f\"The original number of lenders is {num_lenders}, the actual one is {len(lenders)+len(null_lenders)}\")"
   ]
  },
  {
   "cell_type": "markdown",
   "metadata": {},
   "source": [
    "The lenders dataset hasn't lost a single observation, the two dataframes are concatenated to recreate the original one:"
   ]
  },
  {
   "cell_type": "markdown",
   "metadata": {},
   "source": [
    "null_lenders.country_name.isnull().sum()"
   ]
  },
  {
   "cell_type": "markdown",
   "metadata": {},
   "source": [
    "len(lenders)"
   ]
  },
  {
   "cell_type": "markdown",
   "metadata": {},
   "source": [
    "lenders.columns"
   ]
  },
  {
   "cell_type": "markdown",
   "metadata": {},
   "source": [
    "lenders = pd.merge(lenders, country_lenders, on = \"permanent_name\")\n",
    "len(lenders)"
   ]
  },
  {
   "cell_type": "markdown",
   "metadata": {},
   "source": [
    "lenders.country_name.isnull().sum()"
   ]
  },
  {
   "cell_type": "markdown",
   "metadata": {},
   "source": [
    "len(null_lenders)"
   ]
  },
  {
   "cell_type": "markdown",
   "metadata": {},
   "source": [
    "null_lenders.country_name.isnull().sum()"
   ]
  },
  {
   "cell_type": "markdown",
   "metadata": {},
   "source": [
    "lenders = pd.concat([null_lenders, lenders], axis = 0)\n",
    "lenders.country_name.isnull().sum()"
   ]
  },
  {
   "cell_type": "markdown",
   "metadata": {},
   "source": [
    "print(f\"The amount of null values is {country_lenders.country_name.isnull().sum()/len(country_lenders)} %\")"
   ]
  },
  {
   "cell_type": "markdown",
   "metadata": {},
   "source": [
    "country_lenders = pd.merge(country_stats, lenders, on = \"country_name\")\n",
    "print(len(country_lenders))\n",
    "country_lenders = country_lenders[[\"country_name\", \"permanent_name\"]]\n",
    "country_lenders.head()"
   ]
  },
  {
   "cell_type": "markdown",
   "metadata": {},
   "source": [
    "print(num_lenders)\n",
    "print(len(lenders))\n",
    "print(num_lenders-len(lenders))"
   ]
  },
  {
   "cell_type": "markdown",
   "metadata": {},
   "source": [
    "Once again, to evaluate if the distribution of the data is the same of the data that were not missing, the distribution si calculated:"
   ]
  },
  {
   "cell_type": "markdown",
   "metadata": {},
   "source": [
    "a = pd.DataFrame(list(zip(round(lenders[\"country_name\"].value_counts(normalize = True), 2).reset_index()[\"country_name\"], round(counts, 2).reset_index()[\"country_name\"])), columns =[\"original\", \"null_replaced\"])\n",
    "print(f\"The distribution of the values for the null_lenders dataset is {(a.original == a.null_replaced).sum()/len(a)*100} equal the original lenders distribution\" + \"\\n\" + \"NB: Rounding by 2 decimals\")"
   ]
  },
  {
   "cell_type": "markdown",
   "metadata": {},
   "source": [
    "However, since the country_code is not available for all the data, there are less rows then expected"
   ]
  },
  {
   "cell_type": "markdown",
   "metadata": {},
   "source": [
    "lenders"
   ]
  },
  {
   "cell_type": "markdown",
   "metadata": {},
   "source": [
    "Now all the countries for all the lenders are known, in the previous task (8) the amount for each lender has been computed and it can be used to compute the total amount of lent money for each state.\n",
    "<br> First the \"amount_per_lender\" dataset is merged with \"country_lenders\" dataset to obtain the \"country_name\" for each lender and the contribute for each one:"
   ]
  },
  {
   "cell_type": "markdown",
   "metadata": {},
   "source": [
    "amount_per_lender.head()"
   ]
  },
  {
   "cell_type": "markdown",
   "metadata": {},
   "source": [
    "lender_country_amount = pd.merge(country_lenders, amount_per_lender, left_on =\"permanent_name\", right_on=\"lender\")\n",
    "len(lender_country_amount)"
   ]
  },
  {
   "cell_type": "markdown",
   "metadata": {},
   "source": [
    "lender_country_amount = lender_country_amount.groupby(\"country_name\").sum().reset_index()\n",
    "lender_country_amount"
   ]
  },
  {
   "cell_type": "markdown",
   "metadata": {},
   "source": [
    "The amount of money borrowed from each state is already contained in \"loan_per_country\" dataset:"
   ]
  },
  {
   "cell_type": "markdown",
   "metadata": {},
   "source": [
    "loan_per_country.head()"
   ]
  },
  {
   "cell_type": "markdown",
   "metadata": {},
   "source": [
    "len(loan_per_country)"
   ]
  },
  {
   "cell_type": "markdown",
   "metadata": {},
   "source": [
    "lender_country_amount = pd.merge(lender_country_amount, loan_per_country, on =\"country_name\", how = \"left\")\n",
    "lender_country_amount.rename(columns={\"contribute_per_lender\": \"lent\", \"loan_amount\": \"borrowed\"}, inplace = True)\n",
    "lender_country_amount = lender_country_amount[[\"country_name\", \"borrowed\", \"lent\"]]\n",
    "lender_country_amount[\"difference\"] = lender_country_amount[\"borrowed\"] - lender_country_amount[\"lent\"]\n",
    "lender_country_amount"
   ]
  },
  {
   "cell_type": "markdown",
   "metadata": {},
   "source": [
    "### 10) Which country has the highest ratio between the difference computed at the previous point and the population?"
   ]
  },
  {
   "cell_type": "code",
   "execution_count": 369,
   "metadata": {},
   "outputs": [
    {
     "data": {
      "text/html": [
       "<div>\n",
       "<style scoped>\n",
       "    .dataframe tbody tr th:only-of-type {\n",
       "        vertical-align: middle;\n",
       "    }\n",
       "\n",
       "    .dataframe tbody tr th {\n",
       "        vertical-align: top;\n",
       "    }\n",
       "\n",
       "    .dataframe thead th {\n",
       "        text-align: right;\n",
       "    }\n",
       "</style>\n",
       "<table border=\"1\" class=\"dataframe\">\n",
       "  <thead>\n",
       "    <tr style=\"text-align: right;\">\n",
       "      <th></th>\n",
       "      <th>country_name</th>\n",
       "      <th>country_code</th>\n",
       "      <th>country_code3</th>\n",
       "      <th>continent</th>\n",
       "      <th>region</th>\n",
       "      <th>population</th>\n",
       "      <th>population_below_poverty_line</th>\n",
       "      <th>hdi</th>\n",
       "      <th>life_expectancy</th>\n",
       "      <th>expected_years_of_schooling</th>\n",
       "      <th>mean_years_of_schooling</th>\n",
       "      <th>gni</th>\n",
       "      <th>kiva_country_name</th>\n",
       "    </tr>\n",
       "  </thead>\n",
       "  <tbody>\n",
       "    <tr>\n",
       "      <th>0</th>\n",
       "      <td>India</td>\n",
       "      <td>IN</td>\n",
       "      <td>IND</td>\n",
       "      <td>Asia</td>\n",
       "      <td>Southern Asia</td>\n",
       "      <td>1339180127</td>\n",
       "      <td>21.9</td>\n",
       "      <td>0.623559</td>\n",
       "      <td>68.322</td>\n",
       "      <td>11.696590</td>\n",
       "      <td>6.298834</td>\n",
       "      <td>5663.474799</td>\n",
       "      <td>India</td>\n",
       "    </tr>\n",
       "    <tr>\n",
       "      <th>1</th>\n",
       "      <td>Nigeria</td>\n",
       "      <td>NG</td>\n",
       "      <td>NGA</td>\n",
       "      <td>Africa</td>\n",
       "      <td>Western Africa</td>\n",
       "      <td>190886311</td>\n",
       "      <td>70.0</td>\n",
       "      <td>0.527105</td>\n",
       "      <td>53.057</td>\n",
       "      <td>9.970482</td>\n",
       "      <td>6.000000</td>\n",
       "      <td>5442.901264</td>\n",
       "      <td>Nigeria</td>\n",
       "    </tr>\n",
       "    <tr>\n",
       "      <th>2</th>\n",
       "      <td>Mexico</td>\n",
       "      <td>MX</td>\n",
       "      <td>MEX</td>\n",
       "      <td>Americas</td>\n",
       "      <td>Central America</td>\n",
       "      <td>129163276</td>\n",
       "      <td>46.2</td>\n",
       "      <td>0.761683</td>\n",
       "      <td>76.972</td>\n",
       "      <td>13.299090</td>\n",
       "      <td>8.554985</td>\n",
       "      <td>16383.106680</td>\n",
       "      <td>Mexico</td>\n",
       "    </tr>\n",
       "    <tr>\n",
       "      <th>3</th>\n",
       "      <td>Pakistan</td>\n",
       "      <td>PK</td>\n",
       "      <td>PAK</td>\n",
       "      <td>Asia</td>\n",
       "      <td>Southern Asia</td>\n",
       "      <td>197015955</td>\n",
       "      <td>29.5</td>\n",
       "      <td>0.550354</td>\n",
       "      <td>66.365</td>\n",
       "      <td>8.106910</td>\n",
       "      <td>5.089460</td>\n",
       "      <td>5031.173074</td>\n",
       "      <td>Pakistan</td>\n",
       "    </tr>\n",
       "    <tr>\n",
       "      <th>4</th>\n",
       "      <td>Bangladesh</td>\n",
       "      <td>BD</td>\n",
       "      <td>BGD</td>\n",
       "      <td>Asia</td>\n",
       "      <td>Southern Asia</td>\n",
       "      <td>164669751</td>\n",
       "      <td>31.5</td>\n",
       "      <td>0.578824</td>\n",
       "      <td>71.985</td>\n",
       "      <td>10.178706</td>\n",
       "      <td>5.241577</td>\n",
       "      <td>3341.490722</td>\n",
       "      <td>Bangladesh</td>\n",
       "    </tr>\n",
       "  </tbody>\n",
       "</table>\n",
       "</div>"
      ],
      "text/plain": [
       "  country_name country_code country_code3 continent           region  \\\n",
       "0        India           IN           IND      Asia    Southern Asia   \n",
       "1      Nigeria           NG           NGA    Africa   Western Africa   \n",
       "2       Mexico           MX           MEX  Americas  Central America   \n",
       "3     Pakistan           PK           PAK      Asia    Southern Asia   \n",
       "4   Bangladesh           BD           BGD      Asia    Southern Asia   \n",
       "\n",
       "   population  population_below_poverty_line       hdi  life_expectancy  \\\n",
       "0  1339180127                           21.9  0.623559           68.322   \n",
       "1   190886311                           70.0  0.527105           53.057   \n",
       "2   129163276                           46.2  0.761683           76.972   \n",
       "3   197015955                           29.5  0.550354           66.365   \n",
       "4   164669751                           31.5  0.578824           71.985   \n",
       "\n",
       "   expected_years_of_schooling  mean_years_of_schooling           gni  \\\n",
       "0                    11.696590                 6.298834   5663.474799   \n",
       "1                     9.970482                 6.000000   5442.901264   \n",
       "2                    13.299090                 8.554985  16383.106680   \n",
       "3                     8.106910                 5.089460   5031.173074   \n",
       "4                    10.178706                 5.241577   3341.490722   \n",
       "\n",
       "  kiva_country_name  \n",
       "0             India  \n",
       "1           Nigeria  \n",
       "2            Mexico  \n",
       "3          Pakistan  \n",
       "4        Bangladesh  "
      ]
     },
     "execution_count": 369,
     "metadata": {},
     "output_type": "execute_result"
    }
   ],
   "source": [
    "country_stats.head()"
   ]
  },
  {
   "cell_type": "code",
   "execution_count": 370,
   "metadata": {},
   "outputs": [
    {
     "data": {
      "text/html": [
       "<div>\n",
       "<style scoped>\n",
       "    .dataframe tbody tr th:only-of-type {\n",
       "        vertical-align: middle;\n",
       "    }\n",
       "\n",
       "    .dataframe tbody tr th {\n",
       "        vertical-align: top;\n",
       "    }\n",
       "\n",
       "    .dataframe thead th {\n",
       "        text-align: right;\n",
       "    }\n",
       "</style>\n",
       "<table border=\"1\" class=\"dataframe\">\n",
       "  <thead>\n",
       "    <tr style=\"text-align: right;\">\n",
       "      <th></th>\n",
       "      <th>country_code</th>\n",
       "      <th>country_name</th>\n",
       "      <th>population</th>\n",
       "      <th>borrowed</th>\n",
       "      <th>lent</th>\n",
       "      <th>difference</th>\n",
       "      <th>pop_ratio</th>\n",
       "    </tr>\n",
       "  </thead>\n",
       "  <tbody>\n",
       "    <tr>\n",
       "      <th>166</th>\n",
       "      <td>WS</td>\n",
       "      <td>Samoa</td>\n",
       "      <td>196440.0</td>\n",
       "      <td>12212175.0</td>\n",
       "      <td>1701.44</td>\n",
       "      <td>12210473.56</td>\n",
       "      <td>62.158794</td>\n",
       "    </tr>\n",
       "    <tr>\n",
       "      <th>92</th>\n",
       "      <td>PY</td>\n",
       "      <td>Paraguay</td>\n",
       "      <td>6811297.0</td>\n",
       "      <td>53964700.0</td>\n",
       "      <td>55181.22</td>\n",
       "      <td>53909518.78</td>\n",
       "      <td>7.914721</td>\n",
       "    </tr>\n",
       "    <tr>\n",
       "      <th>107</th>\n",
       "      <td>AM</td>\n",
       "      <td>Armenia</td>\n",
       "      <td>2930450.0</td>\n",
       "      <td>22950475.0</td>\n",
       "      <td>40397.08</td>\n",
       "      <td>22910077.92</td>\n",
       "      <td>7.817939</td>\n",
       "    </tr>\n",
       "    <tr>\n",
       "      <th>81</th>\n",
       "      <td>SV</td>\n",
       "      <td>El Salvador</td>\n",
       "      <td>6377853.0</td>\n",
       "      <td>41691550.0</td>\n",
       "      <td>56956.68</td>\n",
       "      <td>41634593.32</td>\n",
       "      <td>6.527995</td>\n",
       "    </tr>\n",
       "    <tr>\n",
       "      <th>116</th>\n",
       "      <td>MN</td>\n",
       "      <td>Mongolia</td>\n",
       "      <td>3075647.0</td>\n",
       "      <td>15348375.0</td>\n",
       "      <td>85779.76</td>\n",
       "      <td>15262595.24</td>\n",
       "      <td>4.962401</td>\n",
       "    </tr>\n",
       "    <tr>\n",
       "      <th>...</th>\n",
       "      <td>...</td>\n",
       "      <td>...</td>\n",
       "      <td>...</td>\n",
       "      <td>...</td>\n",
       "      <td>...</td>\n",
       "      <td>...</td>\n",
       "      <td>...</td>\n",
       "    </tr>\n",
       "    <tr>\n",
       "      <th>227</th>\n",
       "      <td>VG</td>\n",
       "      <td>NaN</td>\n",
       "      <td>NaN</td>\n",
       "      <td>NaN</td>\n",
       "      <td>1963.56</td>\n",
       "      <td>-1963.56</td>\n",
       "      <td>NaN</td>\n",
       "    </tr>\n",
       "    <tr>\n",
       "      <th>228</th>\n",
       "      <td>VI</td>\n",
       "      <td>NaN</td>\n",
       "      <td>NaN</td>\n",
       "      <td>10000.0</td>\n",
       "      <td>23384.29</td>\n",
       "      <td>-13384.29</td>\n",
       "      <td>NaN</td>\n",
       "    </tr>\n",
       "    <tr>\n",
       "      <th>229</th>\n",
       "      <td>VU</td>\n",
       "      <td>NaN</td>\n",
       "      <td>NaN</td>\n",
       "      <td>9250.0</td>\n",
       "      <td>343511.60</td>\n",
       "      <td>-334261.60</td>\n",
       "      <td>NaN</td>\n",
       "    </tr>\n",
       "    <tr>\n",
       "      <th>230</th>\n",
       "      <td>WF</td>\n",
       "      <td>NaN</td>\n",
       "      <td>NaN</td>\n",
       "      <td>NaN</td>\n",
       "      <td>20547.15</td>\n",
       "      <td>-20547.15</td>\n",
       "      <td>NaN</td>\n",
       "    </tr>\n",
       "    <tr>\n",
       "      <th>231</th>\n",
       "      <td>YT</td>\n",
       "      <td>NaN</td>\n",
       "      <td>NaN</td>\n",
       "      <td>NaN</td>\n",
       "      <td>256.81</td>\n",
       "      <td>-256.81</td>\n",
       "      <td>NaN</td>\n",
       "    </tr>\n",
       "  </tbody>\n",
       "</table>\n",
       "<p>232 rows × 7 columns</p>\n",
       "</div>"
      ],
      "text/plain": [
       "    country_code country_name  population    borrowed       lent   difference  \\\n",
       "166           WS        Samoa    196440.0  12212175.0    1701.44  12210473.56   \n",
       "92            PY     Paraguay   6811297.0  53964700.0   55181.22  53909518.78   \n",
       "107           AM      Armenia   2930450.0  22950475.0   40397.08  22910077.92   \n",
       "81            SV  El Salvador   6377853.0  41691550.0   56956.68  41634593.32   \n",
       "116           MN     Mongolia   3075647.0  15348375.0   85779.76  15262595.24   \n",
       "..           ...          ...         ...         ...        ...          ...   \n",
       "227           VG          NaN         NaN         NaN    1963.56     -1963.56   \n",
       "228           VI          NaN         NaN     10000.0   23384.29    -13384.29   \n",
       "229           VU          NaN         NaN      9250.0  343511.60   -334261.60   \n",
       "230           WF          NaN         NaN         NaN   20547.15    -20547.15   \n",
       "231           YT          NaN         NaN         NaN     256.81      -256.81   \n",
       "\n",
       "     pop_ratio  \n",
       "166  62.158794  \n",
       "92    7.914721  \n",
       "107   7.817939  \n",
       "81    6.527995  \n",
       "116   4.962401  \n",
       "..         ...  \n",
       "227        NaN  \n",
       "228        NaN  \n",
       "229        NaN  \n",
       "230        NaN  \n",
       "231        NaN  \n",
       "\n",
       "[232 rows x 7 columns]"
      ]
     },
     "execution_count": 370,
     "metadata": {},
     "output_type": "execute_result"
    }
   ],
   "source": [
    "lenders_country_amount = pd.merge(country_stats[[\"country_code\", \"country_name\", \"population\"]], lenders_country_amount, on =\"country_code\", how= \"right\")\n",
    "lenders_country_amount[\"pop_ratio\"] = lenders_country_amount[\"difference\"]/lenders_country_amount[\"population\"]\n",
    "lenders_country_amount = lenders_country_amount.sort_values(by=\"pop_ratio\", ascending = False)\n",
    "lenders_country_amount"
   ]
  },
  {
   "cell_type": "code",
   "execution_count": 373,
   "metadata": {},
   "outputs": [
    {
     "data": {
      "text/html": [
       "<div>\n",
       "<style scoped>\n",
       "    .dataframe tbody tr th:only-of-type {\n",
       "        vertical-align: middle;\n",
       "    }\n",
       "\n",
       "    .dataframe tbody tr th {\n",
       "        vertical-align: top;\n",
       "    }\n",
       "\n",
       "    .dataframe thead th {\n",
       "        text-align: right;\n",
       "    }\n",
       "</style>\n",
       "<table border=\"1\" class=\"dataframe\">\n",
       "  <thead>\n",
       "    <tr style=\"text-align: right;\">\n",
       "      <th></th>\n",
       "      <th>country_code</th>\n",
       "      <th>country_name</th>\n",
       "      <th>population</th>\n",
       "      <th>borrowed</th>\n",
       "      <th>lent</th>\n",
       "      <th>difference</th>\n",
       "      <th>pop_ratio</th>\n",
       "    </tr>\n",
       "  </thead>\n",
       "  <tbody>\n",
       "    <tr>\n",
       "      <th>71</th>\n",
       "      <td>CA</td>\n",
       "      <td>Canada</td>\n",
       "      <td>36624199.0</td>\n",
       "      <td>50000.0</td>\n",
       "      <td>9.320318e+07</td>\n",
       "      <td>-9.315318e+07</td>\n",
       "      <td>-2.543487</td>\n",
       "    </tr>\n",
       "  </tbody>\n",
       "</table>\n",
       "</div>"
      ],
      "text/plain": [
       "   country_code country_name  population  borrowed          lent  \\\n",
       "71           CA       Canada  36624199.0   50000.0  9.320318e+07   \n",
       "\n",
       "      difference  pop_ratio  \n",
       "71 -9.315318e+07  -2.543487  "
      ]
     },
     "execution_count": 373,
     "metadata": {},
     "output_type": "execute_result"
    }
   ],
   "source": [
    "lenders_country_amount[lenders_country_amount.country_code == \"CA\"]"
   ]
  },
  {
   "cell_type": "code",
   "execution_count": 371,
   "metadata": {},
   "outputs": [
    {
     "data": {
      "text/plain": [
       "country_code             WS\n",
       "country_name          Samoa\n",
       "population           196440\n",
       "borrowed        1.22122e+07\n",
       "lent                1701.44\n",
       "difference      1.22105e+07\n",
       "pop_ratio           62.1588\n",
       "Name: 166, dtype: object"
      ]
     },
     "execution_count": 371,
     "metadata": {},
     "output_type": "execute_result"
    }
   ],
   "source": [
    "lenders_country_amount.loc[lenders_country_amount.pop_ratio.idxmax()]"
   ]
  },
  {
   "cell_type": "markdown",
   "metadata": {},
   "source": [
    "### 11) Which country has the highest ratio between the difference computed at point 9 and the population that is not below the poverty line?"
   ]
  },
  {
   "cell_type": "code",
   "execution_count": null,
   "metadata": {},
   "outputs": [],
   "source": []
  }
 ],
 "metadata": {
  "kernelspec": {
   "display_name": "Python 3",
   "language": "python",
   "name": "python3"
  },
  "language_info": {
   "codemirror_mode": {
    "name": "ipython",
    "version": 3
   },
   "file_extension": ".py",
   "mimetype": "text/x-python",
   "name": "python",
   "nbconvert_exporter": "python",
   "pygments_lexer": "ipython3",
   "version": "3.7.6"
  }
 },
 "nbformat": 4,
 "nbformat_minor": 4
}
